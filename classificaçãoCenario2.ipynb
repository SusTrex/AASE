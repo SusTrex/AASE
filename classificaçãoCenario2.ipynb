{
 "cells": [
  {
   "cell_type": "code",
   "execution_count": 160,
   "metadata": {},
   "outputs": [],
   "source": [
    "import warnings\n",
    "warnings.filterwarnings(\"ignore\")\n",
    "\n",
    "import pandas as pd\n",
    "import numpy as np\n",
    "\n",
    "from sklearn.metrics import (\n",
    "    accuracy_score, recall_score, precision_score, f1_score, roc_auc_score, confusion_matrix, make_scorer, cohen_kappa_score\n",
    ")\n",
    "from sklearn.model_selection import train_test_split, cross_validate, StratifiedKFold\n",
    "from sklearn.tree import DecisionTreeClassifier\n",
    "from sklearn.neural_network import MLPClassifier\n",
    "from sklearn.ensemble import RandomForestClassifier\n",
    "import matplotlib.pyplot as plt\n",
    "from sklearn.preprocessing import OneHotEncoder, StandardScaler, LabelEncoder"
   ]
  },
  {
   "cell_type": "code",
   "execution_count": 161,
   "metadata": {},
   "outputs": [],
   "source": [
    "def specificity_score(y_true, y_pred):\n",
    "    tn, fp, fn, tp = confusion_matrix(y_true, y_pred).ravel()\n",
    "    return tn / (tn + fp)\n",
    "\n",
    "METRICS = {\n",
    "    \"accuracy\": make_scorer(accuracy_score),\n",
    "    \"recall\": make_scorer(recall_score, pos_label=1),  # Classe 1 é 'B'\n",
    "    \"precision\": make_scorer(precision_score, pos_label=1),\n",
    "    \"f1\": make_scorer(f1_score, pos_label=1),\n",
    "    \"auc\": make_scorer(roc_auc_score, needs_proba=True),\n",
    "    \"specificity\": make_scorer(specificity_score),\n",
    "    \"kappa\": make_scorer(cohen_kappa_score),\n",
    "}\n"
   ]
  },
  {
   "cell_type": "code",
   "execution_count": 162,
   "metadata": {},
   "outputs": [],
   "source": [
    "data_path = \"C:/Users/afili/Desktop/Uni/Mestrado/AASE/apartments_for_rent_10k_final.csv\" \n",
    "data = pd.read_csv(data_path, sep=';')"
   ]
  },
  {
   "cell_type": "code",
   "execution_count": 163,
   "metadata": {},
   "outputs": [],
   "source": [
    "# Codificar as colunas categóricas\n",
    "le = LabelEncoder()\n",
    "data[\"cityname_transformed\"] = le.fit_transform(data[\"cityname_transformed\"])\n",
    "data[\"pets_allowed_transformed\"] = le.fit_transform(data[\"pets_allowed_transformed\"])\n",
    "data[\"has_photo_transformed\"] = le.fit_transform(data[\"has_photo_transformed\"])\n",
    "data[\"price_class\"] = le.fit_transform(data[\"price_class\"])"
   ]
  },
  {
   "cell_type": "code",
   "execution_count": 165,
   "metadata": {},
   "outputs": [
    {
     "name": "stdout",
     "output_type": "stream",
     "text": [
      "Tamanho original do dataset: (9994, 53)\n",
      "Tamanho após remoção de outliers: (8546, 53)\n"
     ]
    }
   ],
   "source": [
    "# 2. Definir as colunas que deseja verificar por outliers\n",
    "numerical_features = ['price', 'square_feet', 'bathrooms', 'bedrooms']\n",
    "\n",
    "# 3. Função para remover outliers usando IQR\n",
    "def remove_outliers(df, columns):\n",
    "    for col in columns:\n",
    "        Q1 = df[col].quantile(0.25)\n",
    "        Q3 = df[col].quantile(0.75)\n",
    "        IQR = Q3 - Q1\n",
    "        lower_bound = Q1 - 1.5 * IQR\n",
    "        upper_bound = Q3 + 1.5 * IQR\n",
    "        \n",
    "        # Filtrar dados dentro dos limites\n",
    "        df = df[(df[col] >= lower_bound) & (df[col] <= upper_bound)]\n",
    "    return df\n",
    "\n",
    "# 4. Aplicar a função para remover outliers\n",
    "data_cleaned = remove_outliers(data, numerical_features)\n",
    "\n",
    "# 5. Verificar o tamanho do dataset após remoção\n",
    "print(f\"Tamanho original do dataset: {data.shape}\")\n",
    "print(f\"Tamanho após remoção de outliers: {data_cleaned.shape}\")"
   ]
  },
  {
   "cell_type": "code",
   "execution_count": 166,
   "metadata": {},
   "outputs": [],
   "source": [
    "features = [\n",
    "    'bathrooms', 'bedrooms', 'pets_allowed_transformed', 'cityname_transformed',\n",
    "    'has_photo_transformed', 'square_feet', 'AC', 'Alarm', 'Basketball',\n",
    "    'Cable or Satellite', 'Clubhouse', 'Dishwasher', 'Doorman', 'Elevator',\n",
    "    'Fireplace', 'Garbage Disposal', 'Gated', 'Golf', 'Gym', 'Hot Tub',\n",
    "    'Internet Access', 'Luxury', 'Parking', 'Patio/Deck', 'Playground',\n",
    "    'Pool', 'Refrigerator', 'Storage', 'TV', 'Tennis', 'View', 'Washer Dryer',\n",
    "    'Wood Floors'\n",
    "]\n",
    "\n",
    "X = data_cleaned[features]\n",
    "X = pd.get_dummies(X, drop_first=True)\n",
    "y = data_cleaned['price_class']"
   ]
  },
  {
   "cell_type": "code",
   "execution_count": 167,
   "metadata": {},
   "outputs": [],
   "source": [
    "X_train, X_test, y_train, y_test = train_test_split(X, y, test_size=0.2, random_state=1234, stratify=y)"
   ]
  },
  {
   "cell_type": "code",
   "execution_count": 168,
   "metadata": {},
   "outputs": [],
   "source": [
    "cv = StratifiedKFold(n_splits=10, shuffle=True, random_state=1234)"
   ]
  },
  {
   "cell_type": "code",
   "execution_count": 170,
   "metadata": {},
   "outputs": [],
   "source": [
    "dt = DecisionTreeClassifier(\n",
    "    criterion='entropy',\n",
    "    max_depth=55,\n",
    "    min_samples_leaf=1,\n",
    "    min_samples_split=10,\n",
    "    random_state=1234\n",
    ")\n",
    "scores_dt = cross_validate(dt, X_train, y_train, cv=10, scoring=METRICS)"
   ]
  },
  {
   "cell_type": "code",
   "execution_count": 171,
   "metadata": {},
   "outputs": [],
   "source": [
    "nn = MLPClassifier(\n",
    "    hidden_layer_sizes=(100,), \n",
    "    activation='tanh', \n",
    "    solver='adam', \n",
    "    alpha=0.0001, \n",
    "    learning_rate='constant', \n",
    "    max_iter=200, \n",
    "    random_state=1234\n",
    ")\n",
    "scores_nn = cross_validate(nn, X_train, y_train, cv=10, scoring=METRICS)"
   ]
  },
  {
   "cell_type": "code",
   "execution_count": 172,
   "metadata": {},
   "outputs": [],
   "source": [
    "rf = RandomForestClassifier(\n",
    "    criterion='gini',\n",
    "    max_depth=40,\n",
    "    max_features='sqrt',\n",
    "    min_samples_leaf=2,\n",
    "    min_samples_split=5,\n",
    "    n_estimators=50,\n",
    "    random_state=1234\n",
    ")\n",
    "scores_rf = cross_validate(rf, X_train, y_train, cv=10, scoring=METRICS)"
   ]
  },
  {
   "cell_type": "code",
   "execution_count": 173,
   "metadata": {},
   "outputs": [],
   "source": [
    "models_scores = {\n",
    "    \"Decision Tree\": scores_dt,\n",
    "    \"Neural Network\": scores_nn,\n",
    "    \"Random Forest\": scores_rf,\n",
    "}"
   ]
  },
  {
   "cell_type": "code",
   "execution_count": 174,
   "metadata": {},
   "outputs": [
    {
     "name": "stdout",
     "output_type": "stream",
     "text": [
      "\n",
      "Resultados para Decision Tree:\n",
      "test_accuracy: 0.6343\n",
      "test_recall: 0.6762\n",
      "test_precision: 0.6817\n",
      "test_f1: 0.6786\n",
      "test_auc: 0.6606\n",
      "test_specificity: 0.5783\n",
      "test_kappa: 0.2542\n",
      "\n",
      "Resultados para Neural Network:\n",
      "test_accuracy: 0.6542\n",
      "test_recall: 0.7845\n",
      "test_precision: 0.6712\n",
      "test_f1: 0.7198\n",
      "test_auc: 0.6972\n",
      "test_specificity: 0.4804\n",
      "test_kappa: 0.2725\n",
      "\n",
      "Resultados para Random Forest:\n",
      "test_accuracy: 0.6947\n",
      "test_recall: 0.8114\n",
      "test_precision: 0.7014\n",
      "test_f1: 0.7523\n",
      "test_auc: 0.7539\n",
      "test_specificity: 0.5391\n",
      "test_kappa: 0.3599\n"
     ]
    }
   ],
   "source": [
    "for model_name, scores in models_scores.items():\n",
    "    print(f\"\\nResultados para {model_name}:\")\n",
    "    for metric, values in scores.items():\n",
    "        if metric.startswith(\"test\"):\n",
    "            print(f\"{metric}: {np.mean(values):.4f}\")"
   ]
  },
  {
   "cell_type": "code",
   "execution_count": 175,
   "metadata": {},
   "outputs": [
    {
     "data": {
      "image/png": "[encoded data removed]",
      "text/plain": [
       "<Figure size 640x480 with 1 Axes>"
      ]
     },
     "metadata": {},
     "output_type": "display_data"
    }
   ],
   "source": [
    "dt.fit(X_train, y_train)\n",
    "y_pred_dt = dt.predict_proba(X_test)[:, 1]\n",
    "fpr_dt, tpr_dt, _ = roc_curve(y_test, y_pred_dt, pos_label=1)  # Ajuste o 'pos_label' conforme necessário\n",
    "auc_dt = roc_auc_score(y_test, y_pred_dt)\n",
    "plt.plot(fpr_dt, tpr_dt, label=f'Decision Tree (AUC = {auc_dt:.2f})')\n",
    "\n",
    "# Neural Network\n",
    "nn.fit(X_train, y_train)\n",
    "y_pred_nn = nn.predict_proba(X_test)[:, 1]\n",
    "fpr_nn, tpr_nn, _ = roc_curve(y_test, y_pred_nn, pos_label=1)\n",
    "auc_nn = roc_auc_score(y_test, y_pred_nn)\n",
    "plt.plot(fpr_nn, tpr_nn, label=f'Neural Network (AUC = {auc_nn:.2f})')\n",
    "\n",
    "# Random Forest\n",
    "rf.fit(X_train, y_train)\n",
    "y_pred_rf = rf.predict_proba(X_test)[:, 1]\n",
    "fpr_rf, tpr_rf, _ = roc_curve(y_test, y_pred_rf, pos_label=1)\n",
    "auc_rf = roc_auc_score(y_test, y_pred_rf)\n",
    "plt.plot(fpr_rf, tpr_rf, label=f'Random Forest (AUC = {auc_rf:.2f})')\n",
    "\n",
    "# Configuração do gráfico\n",
    "plt.plot([0, 1], [0, 1], linestyle='--', color='gray')  # Linha base\n",
    "plt.xlabel('False Positive Rate')\n",
    "plt.ylabel('True Positive Rate')\n",
    "plt.title('Receiver Operating Characteristic (ROC) Curve')\n",
    "plt.legend()\n",
    "plt.show()"
   ]
  },
  {
   "cell_type": "code",
   "execution_count": 177,
   "metadata": {},
   "outputs": [
    {
     "name": "stdout",
     "output_type": "stream",
     "text": [
      "Melhores hiperparâmetros para Random Forest: {'criterion': 'gini', 'max_depth': 40, 'max_features': 'sqrt', 'min_samples_leaf': 2, 'min_samples_split': 5, 'n_estimators': 50}\n",
      "Melhor score para Random Forest: 0.6947021653694999\n",
      "              precision    recall  f1-score   support\n",
      "\n",
      "           0       0.70      0.55      0.62       733\n",
      "           1       0.71      0.83      0.76       977\n",
      "\n",
      "    accuracy                           0.71      1710\n",
      "   macro avg       0.71      0.69      0.69      1710\n",
      "weighted avg       0.71      0.71      0.70      1710\n",
      "\n"
     ]
    }
   ],
   "source": [
    "from sklearn.ensemble import RandomForestClassifier\n",
    "from sklearn.model_selection import GridSearchCV\n",
    "\n",
    "# Modelo base\n",
    "rf = RandomForestClassifier(random_state=1234)\n",
    "\n",
    "# Espaço de busca otimizado\n",
    "param_grid = {\n",
    "    'n_estimators': [50, 100, 150, 200],       # Número de árvores na floresta (reduzido para diminuir o tempo)\n",
    "    'max_depth': [10, 20, 30, 40],            # Profundidade máxima das árvores\n",
    "    'min_samples_split': [2, 5],      # Número mínimo de amostras para dividir um nó\n",
    "    'min_samples_leaf': [1, 2],        # Número mínimo de amostras em uma folha\n",
    "    'max_features': ['sqrt', 'log2'],         # Apenas o mais comum para reduzir combinações\n",
    "    'criterion': ['gini']             # Reduzido para o melhor desempenho observado anteriormente\n",
    "}\n",
    "\n",
    "# Configurar o GridSearchCV\n",
    "grid_search_rf = GridSearchCV(\n",
    "    estimator=rf,\n",
    "    param_grid=param_grid,\n",
    "    scoring='accuracy',  # Pode ajustar para 'f1' ou 'roc_auc'\n",
    "    cv=10,                # Validação cruzada\n",
    "    n_jobs=-1            # Utilizar todos os processadores disponíveis\n",
    ")\n",
    "\n",
    "# Treinar o modelo com os dados de treino\n",
    "grid_search_rf.fit(X_train, y_train)\n",
    "\n",
    "# Exibir os melhores hiperparâmetros\n",
    "print(\"Melhores hiperparâmetros para Random Forest:\", grid_search_rf.best_params_)\n",
    "print(\"Melhor score para Random Forest:\", grid_search_rf.best_score_)\n",
    "\n",
    "# Melhor modelo com os hiperparâmetros ajustados\n",
    "best_rf = grid_search_rf.best_estimator_\n",
    "\n",
    "# Avaliar no conjunto de teste\n",
    "from sklearn.metrics import classification_report\n",
    "\n",
    "y_pred = best_rf.predict(X_test)\n",
    "print(classification_report(y_test, y_pred))\n"
   ]
  },
  {
   "cell_type": "code",
   "execution_count": 151,
   "metadata": {},
   "outputs": [
    {
     "name": "stdout",
     "output_type": "stream",
     "text": [
      "Melhores hiperparâmetros para Decision Tree: {'criterion': 'entropy', 'max_depth': 55, 'min_samples_leaf': 1, 'min_samples_split': 10}\n",
      "Melhor score para Decision Tree: 0.6342815922187117\n",
      "              precision    recall  f1-score   support\n",
      "\n",
      "           0       0.57      0.55      0.56       733\n",
      "           1       0.67      0.68      0.68       977\n",
      "\n",
      "    accuracy                           0.63      1710\n",
      "   macro avg       0.62      0.62      0.62      1710\n",
      "weighted avg       0.63      0.63      0.63      1710\n",
      "\n"
     ]
    }
   ],
   "source": [
    "from sklearn.tree import DecisionTreeClassifier\n",
    "from sklearn.model_selection import GridSearchCV\n",
    "\n",
    "# Modelo base\n",
    "dt = DecisionTreeClassifier(random_state=1234)\n",
    "\n",
    "# Espaço de busca expandido\n",
    "param_grid = {\n",
    "    'max_depth': [45, 50, 55],  # Faixa ampla baseada nos resultados anteriores\n",
    "    'min_samples_split': [2, 5, 10],   # Testar divisões maiores\n",
    "    'min_samples_leaf': [1, 2, 4],     # Reduzir folhas menores\n",
    "    'criterion': ['gini', 'entropy']   # Explorar ambos os critérios\n",
    "}\n",
    "\n",
    "# Configurar o GridSearchCV\n",
    "grid_search_dt = GridSearchCV(\n",
    "    estimator=dt,\n",
    "    param_grid=param_grid,\n",
    "    scoring='accuracy',  # Pode usar outra métrica como 'f1' ou 'roc_auc'\n",
    "    cv=10,  # Validação cruzada\n",
    "    n_jobs=-1  # Utilizar todos os núcleos disponíveis\n",
    ")\n",
    "\n",
    "# Treinar o modelo com os dados de treino\n",
    "grid_search_dt.fit(X_train, y_train)\n",
    "\n",
    "# Exibir os melhores hiperparâmetros\n",
    "print(\"Melhores hiperparâmetros para Decision Tree:\", grid_search_dt.best_params_)\n",
    "print(\"Melhor score para Decision Tree:\", grid_search_dt.best_score_)\n",
    "\n",
    "# Melhor modelo com os hiperparâmetros ajustados\n",
    "best_dt = grid_search_dt.best_estimator_\n",
    "\n",
    "# Avaliar no conjunto de teste\n",
    "from sklearn.metrics import classification_report\n",
    "\n",
    "y_pred = best_dt.predict(X_test)\n",
    "print(classification_report(y_test, y_pred))\n"
   ]
  },
  {
   "cell_type": "code",
   "execution_count": 152,
   "metadata": {},
   "outputs": [
    {
     "name": "stdout",
     "output_type": "stream",
     "text": [
      "Melhores hiperparâmetros para Neural Network: {'activation': 'tanh', 'alpha': 0.001, 'hidden_layer_sizes': (100,), 'learning_rate': 'constant', 'solver': 'adam'}\n",
      "Melhor score para Neural Network: 0.6610569554682215\n",
      "              precision    recall  f1-score   support\n",
      "\n",
      "           0       0.70      0.40      0.51       733\n",
      "           1       0.66      0.87      0.75       977\n",
      "\n",
      "    accuracy                           0.67      1710\n",
      "   macro avg       0.68      0.64      0.63      1710\n",
      "weighted avg       0.68      0.67      0.65      1710\n",
      "\n"
     ]
    }
   ],
   "source": [
    "from sklearn.neural_network import MLPClassifier\n",
    "from sklearn.model_selection import GridSearchCV\n",
    "\n",
    "# Modelo base\n",
    "mlp = MLPClassifier(random_state=1234, max_iter=200)\n",
    "\n",
    "# Espaço de busca reduzido\n",
    "param_grid = {\n",
    "    'hidden_layer_sizes': [(50,), (100,), (50, 50)],  # Camadas ocultas simplificadas\n",
    "    'activation': ['relu', 'tanh'],  # Apenas ReLU e tanh, mais comuns\n",
    "    'solver': ['adam'],  # Apenas Adam, que é rápido e eficaz\n",
    "    'alpha': [0.0001, 0.001],  # Regularização L2 com poucos valores\n",
    "    'learning_rate': ['constant']  # Apenas constante para simplicidade\n",
    "}\n",
    "\n",
    "# Configurar o GridSearchCV\n",
    "grid_search_mlp = GridSearchCV(\n",
    "    estimator=mlp,\n",
    "    param_grid=param_grid,\n",
    "    scoring='accuracy',  # Pode mudar para 'f1' ou 'roc_auc'\n",
    "    cv=10,                # Reduz para 3 folds de validação cruzada\n",
    "    n_jobs=-1            # Utilizar todos os processadores disponíveis\n",
    ")\n",
    "\n",
    "# Treinar o modelo com os dados de treino\n",
    "grid_search_mlp.fit(X_train, y_train)\n",
    "\n",
    "# Exibir os melhores hiperparâmetros\n",
    "print(\"Melhores hiperparâmetros para Neural Network:\", grid_search_mlp.best_params_)\n",
    "print(\"Melhor score para Neural Network:\", grid_search_mlp.best_score_)\n",
    "\n",
    "# Melhor modelo com os hiperparâmetros ajustados\n",
    "best_mlp = grid_search_mlp.best_estimator_\n",
    "\n",
    "# Avaliar no conjunto de teste\n",
    "from sklearn.metrics import classification_report\n",
    "\n",
    "y_pred = best_mlp.predict(X_test)\n",
    "print(classification_report(y_test, y_pred))\n"
   ]
  },
  {
   "cell_type": "code",
   "execution_count": 153,
   "metadata": {},
   "outputs": [
    {
     "name": "stdout",
     "output_type": "stream",
     "text": [
      "Arquivo salvo com sucesso: C:/Users/afili/Desktop/Uni/Mestrado/AASE/predicted_price_class.csv\n"
     ]
    }
   ],
   "source": [
    "X_new = data_cleaned[features] \n",
    "\n",
    "X_new = X_new.fillna(0)\n",
    "\n",
    "#B=1 e A=0\n",
    "\n",
    "data_cleaned['predicted_price_class'] = best_rf.predict(X_new).astype(int)\n",
    "\n",
    "data_cleaned['predicted_price_class'] = le_city.inverse_transform(\n",
    "    data_cleaned['predicted_price_class']\n",
    ")\n",
    "\n",
    "output_file_class = 'C:/Users/afili/Desktop/Uni/Mestrado/AASE/predicted_price_class.csv'\n",
    "data_cleaned[['predicted_price_class']].to_csv(output_file_class, index=False)\n",
    "\n",
    "print(f\"Arquivo salvo com sucesso: {output_file_class}\")\n"
   ]
  }
 ],
 "metadata": {
  "kernelspec": {
   "display_name": "base",
   "language": "python",
   "name": "python3"
  },
  "language_info": {
   "codemirror_mode": {
    "name": "ipython",
    "version": 3
   },
   "file_extension": ".py",
   "mimetype": "text/x-python",
   "name": "python",
   "nbconvert_exporter": "python",
   "pygments_lexer": "ipython3",
   "version": "3.12.7"
  }
 },
 "nbformat": 4,
 "nbformat_minor": 2
}
