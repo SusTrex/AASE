{
 "cells": [
  {
   "cell_type": "code",
   "execution_count": 9,
   "metadata": {},
   "outputs": [],
   "source": [
    "# Importar bibliotecas essenciais\n",
    "import numpy as np\n",
    "import pandas as pd\n",
    "import matplotlib.pyplot as plt\n",
    "import os\n",
    "from joblib import load\n",
    "from sklearn.preprocessing import MinMaxScaler\n",
    "from sklearn.metrics import accuracy_score, classification_report"
   ]
  },
  {
   "cell_type": "code",
   "execution_count": 10,
   "metadata": {},
   "outputs": [
    {
     "name": "stderr",
     "output_type": "stream",
     "text": [
      "<>:4: SyntaxWarning: invalid escape sequence '\\D'\n",
      "<>:4: SyntaxWarning: invalid escape sequence '\\D'\n",
      "C:\\Users\\afili\\AppData\\Local\\Temp\\ipykernel_20316\\2581711594.py:4: SyntaxWarning: invalid escape sequence '\\D'\n",
      "  classification_output = \"C:/Users/afili\\Desktop/Uni/Mestrado/AASE/predicted_price_class.csv\"\n"
     ]
    }
   ],
   "source": [
    "# Caminhos dos arquivos\n",
    "original_dataset = \"C:/Users/afili/Desktop/Uni/Mestrado/AASE/apartamentos_10k_remoçaoOutliers.csv\"\n",
    "regression_output = \"C:/Users/afili/Desktop/Uni/Mestrado/AASE/predicted_price.csv\"\n",
    "classification_output = \"C:/Users/afili\\Desktop/Uni/Mestrado/AASE/predicted_price_class.csv\"\n",
    "clustering_output = 'C:/Users/afili/Desktop/Uni/Mestrado/AASE/cluster.csv'"
   ]
  },
  {
   "cell_type": "code",
   "execution_count": 11,
   "metadata": {},
   "outputs": [],
   "source": [
    "# Carregar o dataset original\n",
    "data = pd.read_csv(original_dataset)"
   ]
  },
  {
   "cell_type": "code",
   "execution_count": 12,
   "metadata": {},
   "outputs": [],
   "source": [
    "# Carregar as previsões de regressão e classificação\n",
    "regression_data = pd.read_csv(regression_output)\n",
    "classification_data = pd.read_csv(classification_output)\n",
    "clustering_data = pd.read_csv(clustering_output)"
   ]
  },
  {
   "cell_type": "code",
   "execution_count": 13,
   "metadata": {},
   "outputs": [],
   "source": [
    "# Certificar-se de que os índices de ambos os DataFrames correspondem\n",
    "data['predicted_price'] = regression_data['predicted_price'].values\n",
    "data['predicted_price_category'] = classification_data['predicted_price_class'].values\n",
    "data['cluster'] = clustering_data['cluster'].values"
   ]
  },
  {
   "cell_type": "code",
   "execution_count": 14,
   "metadata": {},
   "outputs": [
    {
     "name": "stdout",
     "output_type": "stream",
     "text": [
      "Dataset atualizado salvo como 'C:/Users/afili/Desktop/Uni/Mestrado/AASE/apartments_with_predictions.csv'.\n"
     ]
    }
   ],
   "source": [
    "output_file_path ='C:/Users/afili/Desktop/Uni/Mestrado/AASE/apartments_with_predictions.csv'\n",
    "data.to_csv(output_file_path, index=False, encoding='utf-8')\n",
    "print(f\"Dataset atualizado salvo como '{output_file_path}'.\")"
   ]
  }
 ],
 "metadata": {
  "kernelspec": {
   "display_name": "Python 3",
   "language": "python",
   "name": "python3"
  },
  "language_info": {
   "codemirror_mode": {
    "name": "ipython",
    "version": 3
   },
   "file_extension": ".py",
   "mimetype": "text/x-python",
   "name": "python",
   "nbconvert_exporter": "python",
   "pygments_lexer": "ipython3",
   "version": "3.13.0"
  }
 },
 "nbformat": 4,
 "nbformat_minor": 2
}
