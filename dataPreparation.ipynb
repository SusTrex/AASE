{
 "cells": [
  {
   "cell_type": "markdown",
   "metadata": {
    "notebookRunGroups": {
     "groupValue": "1"
    }
   },
   "source": [
    "Data Preparation"
   ]
  },
  {
   "cell_type": "code",
   "execution_count": 2,
   "metadata": {},
   "outputs": [],
   "source": [
    "from pyspark.sql import SparkSession"
   ]
  },
  {
   "cell_type": "code",
   "execution_count": 4,
   "metadata": {},
   "outputs": [
    {
     "name": "stdout",
     "output_type": "stream",
     "text": [
      "Número de valores nulos na coluna 'price': 7\n",
      "Número de valores nulos na coluna 'price': 0\n",
      "Número de linhas: 99993\n"
     ]
    }
   ],
   "source": [
    "spark = SparkSession.builder \\\n",
    "    .appName(\"CSV Import\") \\\n",
    "    .getOrCreate()\n",
    "\n",
    "file_path = \"C:/Users/afili/Desktop/Uni/Mestrado/AASE/apartments_for_rent_classified_100K.csv\"\n",
    "\n",
    "df = spark.read.csv(file_path, header=True, inferSchema=True, sep=\";\")\n",
    "\n",
    "# Especificando valores que devem ser tratados como NaN\n",
    "na_values = [\"NA\", \"null\", \"\", \" \"]\n",
    "\n",
    "from pyspark.sql.functions import col\n",
    "\n",
    "null_count = df.filter(col('price').isNull()).count()\n",
    "print(f\"Número de valores nulos na coluna 'price': {null_count}\")\n",
    "\n",
    "# Remover as linhas onde 'price' é nulo\n",
    "df = df.filter(col('price').isNotNull())\n",
    "\n",
    "null_count = df.filter(col('price').isNull()).count()\n",
    "print(f\"Número de valores nulos na coluna 'price': {null_count}\")\n",
    "\n",
    "print(f\"Número de linhas: {df.count()}\") "
   ]
  },
  {
   "cell_type": "markdown",
   "metadata": {},
   "source": [
    "Demo da tabela e Mundança de tipos de colunas"
   ]
  },
  {
   "cell_type": "code",
   "execution_count": 5,
   "metadata": {},
   "outputs": [
    {
     "name": "stdout",
     "output_type": "stream",
     "text": [
      "+----------+--------------------+--------------------+--------------------+---------+---------+--------+--------+---+---------+------------+-----+-------------+----------+-----------+--------------------+-------------+-----+--------+---------+---------+----------+\n",
      "|        id|            category|               title|                body|amenities|bathrooms|bedrooms|currency|fee|has_photo|pets_allowed|price|price_display|price_type|square_feet|             address|     cityname|state|latitude|longitude|   source|      time|\n",
      "+----------+--------------------+--------------------+--------------------+---------+---------+--------+--------+---+---------+------------+-----+-------------+----------+-----------+--------------------+-------------+-----+--------+---------+---------+----------+\n",
      "|5668640009|housing/rent/apar...|One BR 507 & 509 ...|This unit is loca...|     null|        1|       1|     USD| No|Thumbnail|        Cats| 2195|       $2,195|   Monthly|        542|  507  509 Esplanade|Redondo Beach|   CA| 33.8520|-118.3759|RentLingo|1577360355|\n",
      "|5668639818|housing/rent/apar...|Three BR 146 Loch...|This unit is loca...|     null|      1.5|       3|     USD| No|Thumbnail|   Cats,Dogs| 1250|       $1,250|   Monthly|       1500|     146 Lochview Dr| Newport News|   VA| 37.0867| -76.4941|RentLingo|1577360340|\n",
      "|5668639686|housing/rent/apar...|Three BR 3101 Mor...|This unit is loca...|     null|        2|       3|     USD| No|Thumbnail|        None| 1395|       $1,395|   Monthly|       1650| 3101 Morningside Dr|      Raleigh|   NC| 35.8230| -78.6438|RentLingo|1577360332|\n",
      "|5668639659|housing/rent/apar...|Two BR 209 Aegean...|This unit is loca...|     null|        1|       2|     USD| No|Thumbnail|   Cats,Dogs| 1600|       $1,600|   Monthly|        820|      209 Aegean Way|    Vacaville|   CA| 38.3622|-121.9712|RentLingo|1577360330|\n",
      "|5668639374|housing/rent/apar...|One BR 4805 Marqu...|This unit is loca...|     null|        1|       1|     USD| No|Thumbnail|   Cats,Dogs|  975|         $975|   Monthly|        624|   4805 Marquette NE|  Albuquerque|   NM| 35.1038|-106.6110|RentLingo|1577360308|\n",
      "|5668639368|housing/rent/apar...|Two BR 7801 Marbl...|This unit is loca...|     null|      1.5|       2|     USD| No|Thumbnail|   Cats,Dogs| 1250|       $1,250|   Monthly|        965|      7801 Marble NE|  Albuquerque|   NM| 35.1038|-106.6110|RentLingo|1577360308|\n",
      "|5668638765|housing/rent/apar...|Two BR 5 Salt Mar...|This unit is loca...|     null|        2|       2|     USD| No|Thumbnail|        None| 1600|       $1,600|   Monthly|       1120|5 Salt Marsh Quay...|      Hampton|   VA| 37.0451| -76.3664|RentLingo|1577360261|\n",
      "|5668638578|housing/rent/apar...|Two BR 11280 W. 2...|This unit is loca...|     null|        2|       2|     USD| No|Thumbnail|   Cats,Dogs| 1300|       $1,300|   Monthly|        947| 11280 W 20th Avenue|     Lakewood|   CO| 39.6894|-105.1119|RentLingo|1577360247|\n",
      "|5668638476|housing/rent/apar...|Two BR 1427 Lewis...|This unit is loca...|     null|        1|       2|     USD| No|Thumbnail|        Dogs|  795|         $795|   Monthly|        600|       1427 Lewis St|   Charleston|   WV| 38.3454| -81.6219|RentLingo|1577360239|\n",
      "|5668638122|housing/rent/apar...|Two BR 10201 Remm...|This unit is loca...|     null|        2|       2|     USD| No|Thumbnail|        None| 2150|       $2,150|   Monthly|       1005|    10201 Remmet Ave|   Chatsworth|   CA| 34.2551|-118.5976|RentLingo|1577360204|\n",
      "|5668638015|housing/rent/apar...|Three BR 315 Witt...|This unit is loca...|     null|      2.5|       3|     USD| No|Thumbnail|        None| 1795|       $1,795|   Monthly|       1522|  315 Wittenridge CT|   Alpharetta|   GA| 34.0718| -84.2525|RentLingo|1577360196|\n",
      "|5668637998|housing/rent/apar...|Two BR 39 Intrepi...|This unit is loca...|     null|        3|       2|     USD| No|Thumbnail|        None| 3195|       $3,195|   Monthly|       3077|39 Intrepid Cir U...|   Marblehead|   MA| 42.4982| -70.8647|RentLingo|1577360194|\n",
      "|5668637809|housing/rent/apar...|Two BR 2537 North...|This unit is loca...|     null|        2|       2|     USD| No|Thumbnail|        None| 2395|       $2,395|   Monthly|        896|2537 North Capito...|   Washington|   DC| 38.9118| -77.0132|RentLingo|1577360182|\n",
      "|5668637541|housing/rent/apar...|Four BR 6347 E. I...|This unit is loca...|     null|      3.5|       4|     USD| No|Thumbnail|        None| 7800|       $7,800|   Monthly|       4650|6347 E Ironwood D...|   Scottsdale|   AZ| 33.5783|-111.8902|RentLingo|1577360165|\n",
      "|5668637528|housing/rent/apar...|Three BR 1502 Del...|This unit is loca...|     null|        1|       3|     USD| No|Thumbnail|        None|  720|         $720|   Monthly|        800|       1502 Delaware|         Ames|   IA| 42.0259| -93.6516|RentLingo|1577360164|\n",
      "|5668636381|housing/rent/apar...|Two BR 10012 NE 1...|This unit is loca...|     null|      1.5|       2|     USD| No|Thumbnail|   Cats,Dogs| 2000|       $2,000|   Monthly|        872|10012 NE 122nd St...|     Kirkland|   WA| 47.7046|-122.1989|RentLingo|1577360105|\n",
      "|5668636291|housing/rent/apar...|One BR 2447 Harry...|This unit is loca...|     null|        1|       1|     USD| No|Thumbnail|   Cats,Dogs|  729|         $729|   Monthly|        800|2447 Harry Wurzba...|  San Antonio|   TX| 29.4624| -98.5253|RentLingo|1577360099|\n",
      "|5668635018|housing/rent/apar...|One BR 712 Villa ...|This unit is loca...|     null|        1|       1|     USD| No|Thumbnail|   Cats,Dogs| 1045|       $1,045|   Monthly|        700|       712 Villa Ave|   Villa Park|   IL| 41.8787| -87.9798|RentLingo|1577360021|\n",
      "|5668634255|housing/rent/apar...|Three BR Ivy Plac...|This unit is loca...|     null|        3|       3|     USD| No|Thumbnail|   Cats,Dogs| 1800|       $1,800|   Monthly|       1500|Ivy Place 1201 Iv...|       Oxford|   MS| 34.3504| -89.5190|RentLingo|1577359971|\n",
      "|5668633909|housing/rent/apar...|Studio apartment ...|This unit is loca...|     null|        1|       2|     USD| No|Thumbnail|   Cats,Dogs| 1250|       $1,250|   Monthly|        435|7428 N Charleston...|     Portland|   OR| 45.5091|-122.6449|RentLingo|1577359943|\n",
      "+----------+--------------------+--------------------+--------------------+---------+---------+--------+--------+---+---------+------------+-----+-------------+----------+-----------+--------------------+-------------+-----+--------+---------+---------+----------+\n",
      "only showing top 20 rows\n",
      "\n"
     ]
    }
   ],
   "source": [
    "df.show()"
   ]
  },
  {
   "cell_type": "code",
   "execution_count": 6,
   "metadata": {},
   "outputs": [
    {
     "name": "stdout",
     "output_type": "stream",
     "text": [
      "root\n",
      " |-- id: long (nullable = true)\n",
      " |-- category: string (nullable = true)\n",
      " |-- title: string (nullable = true)\n",
      " |-- body: string (nullable = true)\n",
      " |-- amenities: string (nullable = true)\n",
      " |-- bathrooms: string (nullable = true)\n",
      " |-- bedrooms: string (nullable = true)\n",
      " |-- currency: string (nullable = true)\n",
      " |-- fee: string (nullable = true)\n",
      " |-- has_photo: string (nullable = true)\n",
      " |-- pets_allowed: string (nullable = true)\n",
      " |-- price: string (nullable = true)\n",
      " |-- price_display: string (nullable = true)\n",
      " |-- price_type: string (nullable = true)\n",
      " |-- square_feet: integer (nullable = true)\n",
      " |-- address: string (nullable = true)\n",
      " |-- cityname: string (nullable = true)\n",
      " |-- state: string (nullable = true)\n",
      " |-- latitude: string (nullable = true)\n",
      " |-- longitude: string (nullable = true)\n",
      " |-- source: string (nullable = true)\n",
      " |-- time: integer (nullable = true)\n",
      "\n"
     ]
    }
   ],
   "source": [
    "df.printSchema()"
   ]
  },
  {
   "cell_type": "code",
   "execution_count": 7,
   "metadata": {},
   "outputs": [
    {
     "name": "stdout",
     "output_type": "stream",
     "text": [
      "root\n",
      " |-- id: long (nullable = true)\n",
      " |-- category: string (nullable = true)\n",
      " |-- title: string (nullable = true)\n",
      " |-- body: string (nullable = true)\n",
      " |-- amenities: string (nullable = true)\n",
      " |-- bathrooms: float (nullable = true)\n",
      " |-- bedrooms: float (nullable = true)\n",
      " |-- currency: string (nullable = true)\n",
      " |-- fee: string (nullable = true)\n",
      " |-- has_photo: string (nullable = true)\n",
      " |-- pets_allowed: string (nullable = true)\n",
      " |-- price: string (nullable = true)\n",
      " |-- price_display: string (nullable = true)\n",
      " |-- price_type: string (nullable = true)\n",
      " |-- square_feet: integer (nullable = true)\n",
      " |-- address: string (nullable = true)\n",
      " |-- cityname: string (nullable = true)\n",
      " |-- state: string (nullable = true)\n",
      " |-- latitude: float (nullable = true)\n",
      " |-- longitude: float (nullable = true)\n",
      " |-- source: string (nullable = true)\n",
      " |-- time: integer (nullable = true)\n",
      "\n"
     ]
    }
   ],
   "source": [
    "from pyspark.sql.types import FloatType\n",
    "\n",
    "columns_to_convert = [\"bathrooms\", \"bedrooms\", \"latitude\", \"longitude\"]  # Substitua pelos nomes das colunas\n",
    "\n",
    "for column in columns_to_convert:\n",
    "    df = df.withColumn(column, col(column).cast(FloatType()))\n",
    "\n",
    "df.printSchema()\n"
   ]
  },
  {
   "cell_type": "code",
   "execution_count": 8,
   "metadata": {},
   "outputs": [],
   "source": [
    "df = df.dropDuplicates(['id'])\n",
    "df = df.filter(df['category'] == 'housing/rent/apartment')\n",
    "df = df.filter(df['price_type'] == 'Monthly')"
   ]
  },
  {
   "cell_type": "code",
   "execution_count": 9,
   "metadata": {},
   "outputs": [
    {
     "data": {
      "text/plain": [
       "99844"
      ]
     },
     "execution_count": 9,
     "metadata": {},
     "output_type": "execute_result"
    }
   ],
   "source": [
    "df.count()"
   ]
  },
  {
   "cell_type": "code",
   "execution_count": 10,
   "metadata": {},
   "outputs": [
    {
     "name": "stdout",
     "output_type": "stream",
     "text": [
      "+----------+--------------------+--------------------+--------------------+--------------------+---------+--------+--------+---+---------+------------+-----+-------------+----------+-----------+-------+--------------+-----+--------+---------+------------+----------+--------------------+\n",
      "|        id|            category|               title|                body|           amenities|bathrooms|bedrooms|currency|fee|has_photo|pets_allowed|price|price_display|price_type|square_feet|address|      cityname|state|latitude|longitude|      source|      time|cityname_transformed|\n",
      "+----------+--------------------+--------------------+--------------------+--------------------+---------+--------+--------+---+---------+------------+-----+-------------+----------+-----------+-------+--------------+-----+--------+---------+------------+----------+--------------------+\n",
      "|5121046702|housing/rent/apar...|Apartment in move...|If you are lookin...|                Pool|      1.0|     2.0|     USD| No|      Yes|        null|  910|         $910|   Monthly|        900|   null|   Orange Park|   FL| 30.1728| -81.7558|RentDigs.com|1544174477|               Other|\n",
      "|5121046904|housing/rent/apar...|Average Rent $999...|Square footage: 5...|Cable or Satellit...|      1.0|     2.0|     USD| No|      Yes|   Cats,Dogs|  999|         $999|   Monthly|        588|   null|       Atlanta|   GA| 33.9407| -84.3184|RentDigs.com|1544174502|             Atlanta|\n",
      "|5121048804|housing/rent/apar...|Orange Park, prim...|Apartment for ren...|AC,Clubhouse,Pool...|      1.0|     1.0|     USD| No|      Yes|        None|  800|         $800|   Monthly|        722|   null|   Orange Park|   FL| 30.1728| -81.7558|RentDigs.com|1544174674|               Other|\n",
      "|5121049457|housing/rent/apar...|Amazing One BR, O...|If you are lookin...|                Pool|      1.0|     1.0|     USD| No|      Yes|        null|  935|         $935|   Monthly|        700|   null|   Orange Park|   FL| 30.1728| -81.7558|RentDigs.com|1544174718|               Other|\n",
      "|5121050896|housing/rent/apar...|Move-in condition...|If you are lookin...|                Pool|      1.0|     1.0|     USD| No|      Yes|        null|  875|         $875|   Monthly|        700|   null|   Orange Park|   FL| 30.1728| -81.7558|RentDigs.com|1544174818|               Other|\n",
      "|5121051413|housing/rent/apar...|Amazing Two BR, T...|Square footage: 1...|Fireplace,Patio/Deck|      2.0|     2.0|     USD| No|      Yes|        null| 1163|       $1,163|   Monthly|       1155|   null|   Orange Park|   FL| 30.1728| -81.7558|RentDigs.com|1544174856|               Other|\n",
      "|5121051600|housing/rent/apar...|Charming Two BR, ...|If you are lookin...|                Pool|      1.0|     2.0|     USD| No|      Yes|        null|  925|         $925|   Monthly|        900|   null|   Orange Park|   FL| 30.1728| -81.7558|RentDigs.com|1544174867|               Other|\n",
      "|5121053008|housing/rent/apar...|Atlanta Luxurious...|Refined design fi...|    Gym,Parking,Pool|      2.0|     3.0|     USD| No|      Yes|   Cats,Dogs| 2493|       $2,493|   Monthly|       1193|   null|       Atlanta|   GA| 33.8622| -84.4704|RentDigs.com|1544174991|             Atlanta|\n",
      "|5121054112|housing/rent/apar...|Lease Spacious 2+...|Situated just nor...|Cable or Satellit...|      2.0|     2.0|     USD| No|      Yes|   Cats,Dogs|  959|         $959|   Monthly|        847|   null|       Raleigh|   NC| 35.7488| -78.6369|RentDigs.com|1544175097|               Other|\n",
      "|5121054387|housing/rent/apar...|Move-in condition...|Situated in Ralei...|    Gym,Pool,Storage|      1.0|     1.0|     USD| No|      Yes|   Cats,Dogs|  867|         $867|   Monthly|        689|   null|       Raleigh|   NC| 35.7488| -78.6369|RentDigs.com|1544175130|               Other|\n",
      "|5121056122|housing/rent/apar...|Apartment only fo...|Square footage: 1...|Clubhouse,Gym,Par...|      2.0|     2.0|     USD| No|      Yes|        null| 1250|       $1,250|   Monthly|       1365|   null|      Veradale|   WA| 47.6435|-117.1977|RentDigs.com|1544175273|               Other|\n",
      "|5121060062|housing/rent/apar...|Two BR Apartment ...|Square footage: 1...|            Gym,Pool|      2.0|     2.0|     USD| No|      Yes|        Cats| 2155|       $2,155|   Monthly|       1117|   null|       Atlanta|   GA| 33.8622| -84.4704|RentDigs.com|1544175508|             Atlanta|\n",
      "|5121063142|housing/rent/apar...|Prominence Apartm...|Come home to exqu...|Clubhouse,Gym,Par...|      2.0|     2.0|     USD| No|      Yes|   Cats,Dogs| 1345|       $1,345|   Monthly|       1101|   null|         Yulee|   FL| 30.6637| -81.6364|RentDigs.com|1544175754|               Other|\n",
      "|5121065284|housing/rent/apar...|Yulee, prime loca...|Square footage: 8...|             Parking|      1.0|     1.0|     USD| No|      Yes|   Cats,Dogs| 1052|       $1,052|   Monthly|        879|   null|         Yulee|   FL| 30.6637| -81.6364|RentDigs.com|1544175921|               Other|\n",
      "|5121065607|housing/rent/apar...|Welcome to Fairwa...|Located just off ...|Elevator,Patio/De...|      3.5|     4.0|     USD| No|      Yes|   Cats,Dogs| 4595|       $4,595|   Monthly|       2160|   null|      Carlsbad|   CA|  33.097|-117.2697|RentDigs.com|1544175942|               Other|\n",
      "|5121066093|housing/rent/apar...|One BR Apartment ...|Or the convenienc...|AC,Cable or Satel...|      1.0|     1.0|     USD| No|      Yes|   Cats,Dogs|  820|         $820|   Monthly|        719|   null|Spokane Valley|   WA| 47.6546|-117.2743|RentDigs.com|1544175979|               Other|\n",
      "|5121067208|housing/rent/apar...|Apartment in quie...|Square footage: 1...|  Parking,Playground|      2.0|     2.0|     USD| No|      Yes|        null| 1179|       $1,179|   Monthly|       1230|   null|       Atlanta|   GA| 33.9013| -84.3058|RentDigs.com|1544176061|             Atlanta|\n",
      "|5121069241|housing/rent/apar...|Super Cute! Apart...|Up-to-date Montav...|Dishwasher,Parkin...|      1.0|     2.0|     USD| No|      Yes|        None| 1399|       $1,399|   Monthly|        850|   null|      Portland|   OR| 45.5152|-122.5993|RentDigs.com|1544176206|               Other|\n",
      "|5121072309|housing/rent/apar...|Pet Friendly 2+2 ...|Square footage: 1...|AC,Cable or Satel...|      2.0|     2.0|     USD| No|      Yes|   Cats,Dogs| 1175|       $1,175|   Monthly|       1100|   null|       Atlanta|   GA| 33.9013| -84.3058|RentDigs.com|1544176463|             Atlanta|\n",
      "|5121072381|housing/rent/apar...|One BR Apartment ...|Square footage: 7...|Cable or Satellit...|      1.0|     1.0|     USD| No|      Yes|        null| 2019|       $2,019|   Monthly|        789|   null|       Houston|   TX| 29.7427| -95.3913|RentDigs.com|1544176471|               Other|\n",
      "+----------+--------------------+--------------------+--------------------+--------------------+---------+--------+--------+---+---------+------------+-----+-------------+----------+-----------+-------+--------------+-----+--------+---------+------------+----------+--------------------+\n",
      "only showing top 20 rows\n",
      "\n"
     ]
    }
   ],
   "source": [
    "from pyspark.sql.functions import col, when\n",
    "cities_to_keep = ['Dallas', 'Denver', 'Los Angeles', 'Las Vegas', 'Arlington', 'Atlanta', 'Charlotte']\n",
    "\n",
    "df = df.withColumn(\n",
    "    'cityname_transformed',\n",
    "    when(col('cityname').isin(cities_to_keep), col('cityname')).otherwise('Other')\n",
    ")\n",
    "\n",
    "df.show()\n"
   ]
  },
  {
   "cell_type": "code",
   "execution_count": 11,
   "metadata": {},
   "outputs": [
    {
     "name": "stdout",
     "output_type": "stream",
     "text": [
      "+----------+--------------------+--------------------+--------------------+--------------------+---------+--------+--------+---+---------+------------+-----+-------------+----------+-----------+-------+--------------+-----+--------+---------+------------+----------+--------------------+------------------------+\n",
      "|        id|            category|               title|                body|           amenities|bathrooms|bedrooms|currency|fee|has_photo|pets_allowed|price|price_display|price_type|square_feet|address|      cityname|state|latitude|longitude|      source|      time|cityname_transformed|pets_allowed_transformed|\n",
      "+----------+--------------------+--------------------+--------------------+--------------------+---------+--------+--------+---+---------+------------+-----+-------------+----------+-----------+-------+--------------+-----+--------+---------+------------+----------+--------------------+------------------------+\n",
      "|5121046702|housing/rent/apar...|Apartment in move...|If you are lookin...|                Pool|      1.0|     2.0|     USD| No|      Yes|        null|  910|         $910|   Monthly|        900|   null|   Orange Park|   FL| 30.1728| -81.7558|RentDigs.com|1544174477|               Other|                      No|\n",
      "|5121046904|housing/rent/apar...|Average Rent $999...|Square footage: 5...|Cable or Satellit...|      1.0|     2.0|     USD| No|      Yes|   Cats,Dogs|  999|         $999|   Monthly|        588|   null|       Atlanta|   GA| 33.9407| -84.3184|RentDigs.com|1544174502|             Atlanta|                     Yes|\n",
      "|5121048804|housing/rent/apar...|Orange Park, prim...|Apartment for ren...|AC,Clubhouse,Pool...|      1.0|     1.0|     USD| No|      Yes|        None|  800|         $800|   Monthly|        722|   null|   Orange Park|   FL| 30.1728| -81.7558|RentDigs.com|1544174674|               Other|                      No|\n",
      "|5121049457|housing/rent/apar...|Amazing One BR, O...|If you are lookin...|                Pool|      1.0|     1.0|     USD| No|      Yes|        null|  935|         $935|   Monthly|        700|   null|   Orange Park|   FL| 30.1728| -81.7558|RentDigs.com|1544174718|               Other|                      No|\n",
      "|5121050896|housing/rent/apar...|Move-in condition...|If you are lookin...|                Pool|      1.0|     1.0|     USD| No|      Yes|        null|  875|         $875|   Monthly|        700|   null|   Orange Park|   FL| 30.1728| -81.7558|RentDigs.com|1544174818|               Other|                      No|\n",
      "|5121051413|housing/rent/apar...|Amazing Two BR, T...|Square footage: 1...|Fireplace,Patio/Deck|      2.0|     2.0|     USD| No|      Yes|        null| 1163|       $1,163|   Monthly|       1155|   null|   Orange Park|   FL| 30.1728| -81.7558|RentDigs.com|1544174856|               Other|                      No|\n",
      "|5121051600|housing/rent/apar...|Charming Two BR, ...|If you are lookin...|                Pool|      1.0|     2.0|     USD| No|      Yes|        null|  925|         $925|   Monthly|        900|   null|   Orange Park|   FL| 30.1728| -81.7558|RentDigs.com|1544174867|               Other|                      No|\n",
      "|5121053008|housing/rent/apar...|Atlanta Luxurious...|Refined design fi...|    Gym,Parking,Pool|      2.0|     3.0|     USD| No|      Yes|   Cats,Dogs| 2493|       $2,493|   Monthly|       1193|   null|       Atlanta|   GA| 33.8622| -84.4704|RentDigs.com|1544174991|             Atlanta|                     Yes|\n",
      "|5121054112|housing/rent/apar...|Lease Spacious 2+...|Situated just nor...|Cable or Satellit...|      2.0|     2.0|     USD| No|      Yes|   Cats,Dogs|  959|         $959|   Monthly|        847|   null|       Raleigh|   NC| 35.7488| -78.6369|RentDigs.com|1544175097|               Other|                     Yes|\n",
      "|5121054387|housing/rent/apar...|Move-in condition...|Situated in Ralei...|    Gym,Pool,Storage|      1.0|     1.0|     USD| No|      Yes|   Cats,Dogs|  867|         $867|   Monthly|        689|   null|       Raleigh|   NC| 35.7488| -78.6369|RentDigs.com|1544175130|               Other|                     Yes|\n",
      "|5121056122|housing/rent/apar...|Apartment only fo...|Square footage: 1...|Clubhouse,Gym,Par...|      2.0|     2.0|     USD| No|      Yes|        null| 1250|       $1,250|   Monthly|       1365|   null|      Veradale|   WA| 47.6435|-117.1977|RentDigs.com|1544175273|               Other|                      No|\n",
      "|5121060062|housing/rent/apar...|Two BR Apartment ...|Square footage: 1...|            Gym,Pool|      2.0|     2.0|     USD| No|      Yes|        Cats| 2155|       $2,155|   Monthly|       1117|   null|       Atlanta|   GA| 33.8622| -84.4704|RentDigs.com|1544175508|             Atlanta|                     Yes|\n",
      "|5121063142|housing/rent/apar...|Prominence Apartm...|Come home to exqu...|Clubhouse,Gym,Par...|      2.0|     2.0|     USD| No|      Yes|   Cats,Dogs| 1345|       $1,345|   Monthly|       1101|   null|         Yulee|   FL| 30.6637| -81.6364|RentDigs.com|1544175754|               Other|                     Yes|\n",
      "|5121065284|housing/rent/apar...|Yulee, prime loca...|Square footage: 8...|             Parking|      1.0|     1.0|     USD| No|      Yes|   Cats,Dogs| 1052|       $1,052|   Monthly|        879|   null|         Yulee|   FL| 30.6637| -81.6364|RentDigs.com|1544175921|               Other|                     Yes|\n",
      "|5121065607|housing/rent/apar...|Welcome to Fairwa...|Located just off ...|Elevator,Patio/De...|      3.5|     4.0|     USD| No|      Yes|   Cats,Dogs| 4595|       $4,595|   Monthly|       2160|   null|      Carlsbad|   CA|  33.097|-117.2697|RentDigs.com|1544175942|               Other|                     Yes|\n",
      "|5121066093|housing/rent/apar...|One BR Apartment ...|Or the convenienc...|AC,Cable or Satel...|      1.0|     1.0|     USD| No|      Yes|   Cats,Dogs|  820|         $820|   Monthly|        719|   null|Spokane Valley|   WA| 47.6546|-117.2743|RentDigs.com|1544175979|               Other|                     Yes|\n",
      "|5121067208|housing/rent/apar...|Apartment in quie...|Square footage: 1...|  Parking,Playground|      2.0|     2.0|     USD| No|      Yes|        null| 1179|       $1,179|   Monthly|       1230|   null|       Atlanta|   GA| 33.9013| -84.3058|RentDigs.com|1544176061|             Atlanta|                      No|\n",
      "|5121069241|housing/rent/apar...|Super Cute! Apart...|Up-to-date Montav...|Dishwasher,Parkin...|      1.0|     2.0|     USD| No|      Yes|        None| 1399|       $1,399|   Monthly|        850|   null|      Portland|   OR| 45.5152|-122.5993|RentDigs.com|1544176206|               Other|                      No|\n",
      "|5121072309|housing/rent/apar...|Pet Friendly 2+2 ...|Square footage: 1...|AC,Cable or Satel...|      2.0|     2.0|     USD| No|      Yes|   Cats,Dogs| 1175|       $1,175|   Monthly|       1100|   null|       Atlanta|   GA| 33.9013| -84.3058|RentDigs.com|1544176463|             Atlanta|                     Yes|\n",
      "|5121072381|housing/rent/apar...|One BR Apartment ...|Square footage: 7...|Cable or Satellit...|      1.0|     1.0|     USD| No|      Yes|        null| 2019|       $2,019|   Monthly|        789|   null|       Houston|   TX| 29.7427| -95.3913|RentDigs.com|1544176471|               Other|                      No|\n",
      "+----------+--------------------+--------------------+--------------------+--------------------+---------+--------+--------+---+---------+------------+-----+-------------+----------+-----------+-------+--------------+-----+--------+---------+------------+----------+--------------------+------------------------+\n",
      "only showing top 20 rows\n",
      "\n"
     ]
    }
   ],
   "source": [
    "from pyspark.sql.functions import when, col\n",
    "\n",
    "df = df.withColumn(\n",
    "    \"pets_allowed_transformed\",\n",
    "    when(col(\"pets_allowed\").isin(\"Cats\", \"Dogs\", \"Cats,Dogs\", \"Cats,Dogs,None\"), \"Yes\").otherwise(\"No\"))\n",
    "\n",
    "df.show(20)\n"
   ]
  },
  {
   "cell_type": "code",
   "execution_count": 12,
   "metadata": {},
   "outputs": [],
   "source": [
    "df = df.withColumn(\n",
    "    \"has_photo_transformed\",\n",
    "    when(col(\"has_photo\").isin(\"Yes\", \"Thumbnail\"), \"Yes\").otherwise(\"No\"))"
   ]
  },
  {
   "cell_type": "code",
   "execution_count": 13,
   "metadata": {},
   "outputs": [],
   "source": [
    "df = df.fillna({\"bathrooms\": 0})\n",
    "df = df.fillna({\"bedrooms\": 0})\n",
    "df = df.dropna(subset=['price'])"
   ]
  },
  {
   "cell_type": "code",
   "execution_count": 14,
   "metadata": {},
   "outputs": [
    {
     "name": "stdout",
     "output_type": "stream",
     "text": [
      "+--------+\n",
      "|bedrooms|\n",
      "+--------+\n",
      "|     9.0|\n",
      "|     5.0|\n",
      "|     7.0|\n",
      "|     2.0|\n",
      "|     3.0|\n",
      "|     1.0|\n",
      "|     6.0|\n",
      "|     8.0|\n",
      "|     4.0|\n",
      "|     0.0|\n",
      "+--------+\n",
      "\n",
      "+---------+\n",
      "|bathrooms|\n",
      "+---------+\n",
      "|      9.0|\n",
      "|      5.0|\n",
      "|      5.5|\n",
      "|      2.5|\n",
      "|      8.5|\n",
      "|      7.0|\n",
      "|      2.0|\n",
      "|      3.0|\n",
      "|      7.5|\n",
      "|      1.5|\n",
      "|      3.5|\n",
      "|      1.0|\n",
      "|      6.0|\n",
      "|      8.0|\n",
      "|      4.5|\n",
      "|      4.0|\n",
      "|      0.0|\n",
      "+---------+\n",
      "\n"
     ]
    }
   ],
   "source": [
    "df.select(\"bedrooms\").distinct().show()\n",
    "df.select(\"bathrooms\").distinct().show()"
   ]
  },
  {
   "cell_type": "code",
   "execution_count": 15,
   "metadata": {},
   "outputs": [
    {
     "name": "stdout",
     "output_type": "stream",
     "text": [
      "+----------+--------------------+-----+\n",
      "|        id|           amenities|price|\n",
      "+----------+--------------------+-----+\n",
      "|5121046540|Cable or Satellit...| 1693|\n",
      "|5121046702|                Pool|  910|\n",
      "|5121046904|Cable or Satellit...|  999|\n",
      "|5121047089|Fireplace,Patio/Deck|  808|\n",
      "|5121047938|Fireplace,Patio/Deck| 1003|\n",
      "|5121048112|Clubhouse,Gym,Int...| 1225|\n",
      "|5121048460|Doorman,Gym,Parki...|11250|\n",
      "|5121048804|AC,Clubhouse,Pool...|  800|\n",
      "|5121048827|Cable or Satellit...| 1388|\n",
      "|5121049457|                Pool|  935|\n",
      "|5121050896|                Pool|  875|\n",
      "|5121051413|Fireplace,Patio/Deck| 1163|\n",
      "|5121051600|                Pool|  925|\n",
      "|5121052248|                null| 2395|\n",
      "|5121052344|   Fireplace,Storage| 1600|\n",
      "|5121053008|    Gym,Parking,Pool| 2493|\n",
      "|5121054112|Cable or Satellit...|  959|\n",
      "|5121054159|Gym,Patio/Deck,Po...| 1587|\n",
      "|5121054387|    Gym,Pool,Storage|  867|\n",
      "|5121055139|Clubhouse,Gym,Poo...| 1425|\n",
      "+----------+--------------------+-----+\n",
      "only showing top 20 rows\n",
      "\n"
     ]
    },
    {
     "data": {
      "text/plain": [
       "None"
      ]
     },
     "metadata": {},
     "output_type": "display_data"
    }
   ],
   "source": [
    "df_amenities = df.select('id', 'amenities', 'price')\n",
    "\n",
    "display(df_amenities.show())"
   ]
  },
  {
   "cell_type": "code",
   "execution_count": 16,
   "metadata": {},
   "outputs": [],
   "source": [
    "from pyspark.sql import functions as F\n",
    "from pyspark.sql.functions import col\n",
    "\n",
    "df_amenities = df_amenities.withColumn('amenities', F.when(F.col('amenities') == 'null', 'None').otherwise(F.col('amenities')))"
   ]
  },
  {
   "cell_type": "code",
   "execution_count": 17,
   "metadata": {},
   "outputs": [
    {
     "name": "stdout",
     "output_type": "stream",
     "text": [
      "+----------+------------------+-----+\n",
      "|        id|         amenities|price|\n",
      "+----------+------------------+-----+\n",
      "|5121046540|Cable or Satellite| 1693|\n",
      "|5121046540|          Elevator| 1693|\n",
      "|5121046540|               Gym| 1693|\n",
      "|5121046540|   Internet Access| 1693|\n",
      "|5121046540|           Parking| 1693|\n",
      "|5121046540|                TV| 1693|\n",
      "|5121046702|              Pool|  910|\n",
      "|5121046904|Cable or Satellite|  999|\n",
      "|5121046904|        Dishwasher|  999|\n",
      "|5121046904|             Gated|  999|\n",
      "|5121046904|               Gym|  999|\n",
      "|5121046904|           Parking|  999|\n",
      "|5121046904|        Patio/Deck|  999|\n",
      "|5121046904|        Playground|  999|\n",
      "|5121046904|              Pool|  999|\n",
      "|5121046904|      Refrigerator|  999|\n",
      "|5121046904|           Storage|  999|\n",
      "|5121046904|            Tennis|  999|\n",
      "|5121046904|      Washer Dryer|  999|\n",
      "|5121047089|         Fireplace|  808|\n",
      "+----------+------------------+-----+\n",
      "only showing top 20 rows\n",
      "\n"
     ]
    },
    {
     "data": {
      "text/plain": [
       "None"
      ]
     },
     "metadata": {},
     "output_type": "display_data"
    }
   ],
   "source": [
    "df_amenities = df_amenities.withColumn('amenities', F.explode(F.split(F.col('amenities'), ',')))\n",
    "\n",
    "display(df_amenities.show())"
   ]
  },
  {
   "cell_type": "code",
   "execution_count": 18,
   "metadata": {},
   "outputs": [
    {
     "name": "stdout",
     "output_type": "stream",
     "text": [
      "+----------+-----+---+-----+----------+------------------+---------+----------+-------+--------+---------+----------------+-----+----+---+-------+---------------+------+-------+----------+----------+----+------------+-------+---+------+----+------------+-----------+\n",
      "|        id|price| AC|Alarm|Basketball|Cable or Satellite|Clubhouse|Dishwasher|Doorman|Elevator|Fireplace|Garbage Disposal|Gated|Golf|Gym|Hot Tub|Internet Access|Luxury|Parking|Patio/Deck|Playground|Pool|Refrigerator|Storage| TV|Tennis|View|Washer Dryer|Wood Floors|\n",
      "+----------+-----+---+-----+----------+------------------+---------+----------+-------+--------+---------+----------------+-----+----+---+-------+---------------+------+-------+----------+----------+----+------------+-------+---+------+----+------------+-----------+\n",
      "|5121046540| 1693|  0|    0|         0|                 1|        0|         0|      0|       1|        0|               0|    0|   0|  1|      0|              1|     0|      1|         0|         0|   0|           0|      0|  1|     0|   0|           0|          0|\n",
      "|5121046702|  910|  0|    0|         0|                 0|        0|         0|      0|       0|        0|               0|    0|   0|  0|      0|              0|     0|      0|         0|         0|   1|           0|      0|  0|     0|   0|           0|          0|\n",
      "|5121046904|  999|  0|    0|         0|                 1|        0|         1|      0|       0|        0|               0|    1|   0|  1|      0|              0|     0|      1|         1|         1|   1|           1|      1|  0|     1|   0|           1|          0|\n",
      "|5121047089|  808|  0|    0|         0|                 0|        0|         0|      0|       0|        1|               0|    0|   0|  0|      0|              0|     0|      0|         1|         0|   0|           0|      0|  0|     0|   0|           0|          0|\n",
      "|5121047938| 1003|  0|    0|         0|                 0|        0|         0|      0|       0|        1|               0|    0|   0|  0|      0|              0|     0|      0|         1|         0|   0|           0|      0|  0|     0|   0|           0|          0|\n",
      "|5121048112| 1225|  0|    0|         0|                 0|        1|         0|      0|       0|        0|               0|    0|   0|  1|      0|              1|     0|      0|         0|         0|   1|           0|      0|  0|     0|   0|           0|          0|\n",
      "|5121048460|11250|  0|    0|         0|                 0|        0|         0|      1|       0|        0|               0|    0|   0|  1|      0|              0|     0|      1|         1|         0|   0|           0|      1|  0|     0|   0|           1|          0|\n",
      "|5121048804|  800|  1|    0|         0|                 0|        1|         0|      0|       0|        0|               0|    0|   0|  0|      0|              0|     0|      0|         0|         0|   1|           1|      0|  0|     0|   0|           0|          0|\n",
      "|5121048827| 1388|  0|    0|         0|                 1|        0|         0|      0|       1|        0|               0|    0|   0|  1|      0|              1|     0|      1|         0|         0|   0|           0|      0|  1|     0|   0|           0|          0|\n",
      "|5121049457|  935|  0|    0|         0|                 0|        0|         0|      0|       0|        0|               0|    0|   0|  0|      0|              0|     0|      0|         0|         0|   1|           0|      0|  0|     0|   0|           0|          0|\n",
      "|5121050896|  875|  0|    0|         0|                 0|        0|         0|      0|       0|        0|               0|    0|   0|  0|      0|              0|     0|      0|         0|         0|   1|           0|      0|  0|     0|   0|           0|          0|\n",
      "|5121051413| 1163|  0|    0|         0|                 0|        0|         0|      0|       0|        1|               0|    0|   0|  0|      0|              0|     0|      0|         1|         0|   0|           0|      0|  0|     0|   0|           0|          0|\n",
      "|5121051600|  925|  0|    0|         0|                 0|        0|         0|      0|       0|        0|               0|    0|   0|  0|      0|              0|     0|      0|         0|         0|   1|           0|      0|  0|     0|   0|           0|          0|\n",
      "|5121052248| 2395|  0|    0|         0|                 0|        0|         0|      0|       0|        0|               0|    0|   0|  0|      0|              0|     0|      0|         0|         0|   0|           0|      0|  0|     0|   0|           0|          0|\n",
      "|5121052344| 1600|  0|    0|         0|                 0|        0|         0|      0|       0|        1|               0|    0|   0|  0|      0|              0|     0|      0|         0|         0|   0|           0|      1|  0|     0|   0|           0|          0|\n",
      "|5121053008| 2493|  0|    0|         0|                 0|        0|         0|      0|       0|        0|               0|    0|   0|  1|      0|              0|     0|      1|         0|         0|   1|           0|      0|  0|     0|   0|           0|          0|\n",
      "|5121054112|  959|  0|    0|         0|                 1|        0|         1|      0|       0|        1|               0|    0|   0|  0|      0|              1|     0|      0|         1|         1|   1|           0|      0|  0|     1|   0|           1|          0|\n",
      "|5121054159| 1587|  0|    0|         0|                 0|        0|         0|      0|       0|        0|               0|    0|   0|  1|      0|              0|     0|      0|         1|         0|   1|           0|      0|  0|     0|   0|           1|          1|\n",
      "|5121054387|  867|  0|    0|         0|                 0|        0|         0|      0|       0|        0|               0|    0|   0|  1|      0|              0|     0|      0|         0|         0|   1|           0|      1|  0|     0|   0|           0|          0|\n",
      "|5121055139| 1425|  0|    0|         0|                 0|        1|         0|      0|       0|        0|               0|    0|   0|  1|      0|              0|     0|      0|         0|         0|   1|           0|      0|  0|     1|   0|           1|          0|\n",
      "+----------+-----+---+-----+----------+------------------+---------+----------+-------+--------+---------+----------------+-----+----+---+-------+---------------+------+-------+----------+----------+----+------------+-------+---+------+----+------------+-----------+\n",
      "only showing top 20 rows\n",
      "\n"
     ]
    },
    {
     "data": {
      "text/plain": [
       "None"
      ]
     },
     "metadata": {},
     "output_type": "display_data"
    }
   ],
   "source": [
    "df_amenities.select('amenities').distinct().toPandas()\n",
    "\n",
    "pivot_amenities = df_amenities.groupBy(\"id\", \"price\").pivot(\"amenities\").agg(F.lit(1)).na.fill(0)\n",
    "\n",
    "pivot_amenities = pivot_amenities.drop('None')\n",
    "\n",
    "display(pivot_amenities.show())"
   ]
  },
  {
   "cell_type": "code",
   "execution_count": 19,
   "metadata": {},
   "outputs": [
    {
     "name": "stdout",
     "output_type": "stream",
     "text": [
      "+----------+-----+--------------------+--------------------+--------------------+--------------------+---------+--------+--------+---+---------+------------+-------------+----------+-----------+-------+-----------+-----+--------+---------+------------+----------+--------------------+------------------------+---------------------+---+-----+----------+------------------+---------+----------+-------+--------+---------+----------------+-----+----+---+-------+---------------+------+-------+----------+----------+----+------------+-------+---+------+----+------------+-----------+\n",
      "|        id|price|            category|               title|                body|           amenities|bathrooms|bedrooms|currency|fee|has_photo|pets_allowed|price_display|price_type|square_feet|address|   cityname|state|latitude|longitude|      source|      time|cityname_transformed|pets_allowed_transformed|has_photo_transformed| AC|Alarm|Basketball|Cable or Satellite|Clubhouse|Dishwasher|Doorman|Elevator|Fireplace|Garbage Disposal|Gated|Golf|Gym|Hot Tub|Internet Access|Luxury|Parking|Patio/Deck|Playground|Pool|Refrigerator|Storage| TV|Tennis|View|Washer Dryer|Wood Floors|\n",
      "+----------+-----+--------------------+--------------------+--------------------+--------------------+---------+--------+--------+---+---------+------------+-------------+----------+-----------+-------+-----------+-----+--------+---------+------------+----------+--------------------+------------------------+---------------------+---+-----+----------+------------------+---------+----------+-------+--------+---------+----------------+-----+----+---+-------+---------------+------+-------+----------+----------+----+------------+-------+---+------+----+------------+-----------+\n",
      "|5121047089|  808|housing/rent/apar...|Orange Park - con...|For an abundance ...|Fireplace,Patio/Deck|      1.0|     1.0|     USD| No|      Yes|        null|         $808|   Monthly|        840|   null|Orange Park|   FL| 30.1728| -81.7558|RentDigs.com|1544174523|               Other|                      No|                  Yes|  0|    0|         0|                 0|        0|         0|      0|       0|        1|               0|    0|   0|  0|      0|              0|     0|      0|         1|         0|   0|           0|      0|  0|     0|   0|           0|          0|\n",
      "|5121047251|  998|housing/rent/apar...|Apartment in move...|For an abundance ...|Fireplace,Patio/Deck|      2.0|     2.0|     USD| No|      Yes|        null|         $998|   Monthly|       1078|   null|Orange Park|   FL| 30.1728| -81.7558|RentDigs.com|1544174542|               Other|                      No|                  Yes|  0|    0|         0|                 0|        0|         0|      0|       0|        1|               0|    0|   0|  0|      0|              0|     0|      0|         1|         0|   0|           0|      0|  0|     0|   0|           0|          0|\n",
      "|5121048300| 3670|housing/rent/apar...|Outstanding Oppor...|Price from: $3670...|      Gym,Patio/Deck|      1.0|     2.0|     USD| No|      Yes|        null|       $3,670|   Monthly|        691|   null|   New York|   NY| 40.7247| -73.9545|RentDigs.com|1544174624|               Other|                      No|                  Yes|  0|    0|         0|                 0|        0|         0|      0|       0|        0|               0|    0|   0|  1|      0|              0|     0|      0|         1|         0|   0|           0|      0|  0|     0|   0|           0|          0|\n",
      "|5121048804|  800|housing/rent/apar...|Orange Park, prim...|Apartment for ren...|AC,Clubhouse,Pool...|      1.0|     1.0|     USD| No|      Yes|        None|         $800|   Monthly|        722|   null|Orange Park|   FL| 30.1728| -81.7558|RentDigs.com|1544174674|               Other|                      No|                  Yes|  1|    0|         0|                 0|        1|         0|      0|       0|        0|               0|    0|   0|  0|      0|              0|     0|      0|         0|         0|   1|           1|      0|  0|     0|   0|           0|          0|\n",
      "|5121049756|  982|housing/rent/apar...|Apartment in grea...|Welcome to a whol...|    Gym,Washer Dryer|      2.0|     2.0|     USD| No|      Yes|        null|         $982|   Monthly|       1091|   null|Orange Park|   FL| 30.1728| -81.7558|RentDigs.com|1544174743|               Other|                      No|                  Yes|  0|    0|         0|                 0|        0|         0|      0|       0|        0|               0|    0|   0|  1|      0|              0|     0|      0|         0|         0|   0|           0|      0|  0|     0|   0|           1|          0|\n",
      "|5121050323| 1267|housing/rent/apar...|Apartment in prim...|Square footage: 1...|Fireplace,Patio/Deck|      2.0|     3.0|     USD| No|      Yes|        null|       $1,267|   Monthly|       1314|   null|Orange Park|   FL| 30.1728| -81.7558|RentDigs.com|1544174786|               Other|                      No|                  Yes|  0|    0|         0|                 0|        0|         0|      0|       0|        1|               0|    0|   0|  0|      0|              0|     0|      0|         1|         0|   0|           0|      0|  0|     0|   0|           0|          0|\n",
      "|5121051818| 1000|housing/rent/apar...|Apartment - 1,100...|With premier loca...|          Gym,Tennis|      2.0|     2.0|     USD| No|      Yes|        null|       $1,000|   Monthly|       1100|   null|Orange Park|   FL| 30.1728| -81.7558|RentDigs.com|1544174883|               Other|                      No|                  Yes|  0|    0|         0|                 0|        0|         0|      0|       0|        0|               0|    0|   0|  1|      0|              0|     0|      0|         0|         0|   0|           0|      0|  0|     1|   0|           0|          0|\n",
      "|5121052201|  850|housing/rent/apar...|Raleigh - 2bd/One...|Square footage: 7...|        Washer Dryer|      1.0|     2.0|     USD| No|      Yes|        null|         $850|   Monthly|        754|   null|    Raleigh|   NC| 35.7628| -78.5834|RentDigs.com|1544174918|               Other|                      No|                  Yes|  0|    0|         0|                 0|        0|         0|      0|       0|        0|               0|    0|   0|  0|      0|              0|     0|      0|         0|         0|   0|           0|      0|  0|     0|   0|           1|          0|\n",
      "|5121052270| 1650|housing/rent/apar...|Move-in condition...|Walton River luxu...|        Pool,Storage|      2.0|     3.0|     USD| No|      Yes|   Cats,Dogs|       $1,650|   Monthly|       1435|   null|    Atlanta|   GA| 33.8622| -84.4704|RentDigs.com|1544174924|             Atlanta|                     Yes|                  Yes|  0|    0|         0|                 0|        0|         0|      0|       0|        0|               0|    0|   0|  0|      0|              0|     0|      0|         0|         0|   1|           0|      1|  0|     0|   0|           0|          0|\n",
      "|5121052344| 1600|housing/rent/apar...|One BR Apartment ...|Spacious 1 beds -...|   Fireplace,Storage|      1.0|     1.0|     USD| No|      Yes|        null|       $1,600|   Monthly|        800|   null|   Portland|   OR| 45.5676|-122.6425|RentDigs.com|1544174929|               Other|                      No|                  Yes|  0|    0|         0|                 0|        0|         0|      0|       0|        1|               0|    0|   0|  0|      0|              0|     0|      0|         0|         0|   0|           0|      1|  0|     0|   0|           0|          0|\n",
      "|5121053339|  935|housing/rent/apar...|$935/mo, Raleigh,...|welcomes you! Our...|Gym,Pool,Washer D...|      1.0|     2.0|     USD| No|      Yes|        null|         $935|   Monthly|        621|   null|    Raleigh|   NC| 35.7488| -78.6369|RentDigs.com|1544175020|               Other|                      No|                  Yes|  0|    0|         0|                 0|        0|         0|      0|       0|        0|               0|    0|   0|  1|      0|              0|     0|      0|         0|         0|   1|           0|      0|  0|     0|   0|           1|          0|\n",
      "|5121053616| 1195|housing/rent/apar...|Experience your n...|North Williams an...|Refrigerator,Wood...|      1.0|     1.0|     USD| No|      Yes|        null|       $1,195|   Monthly|        625|   null|   Portland|   OR| 45.5676|-122.6425|RentDigs.com|1544175048|               Other|                      No|                  Yes|  0|    0|         0|                 0|        0|         0|      0|       0|        0|               0|    0|   0|  0|      0|              0|     0|      0|         0|         0|   0|           1|      0|  0|     0|   0|           0|          1|\n",
      "|5121046506| 1255|housing/rent/apar...|Orange Park Luxur...|With premier loca...|          Gym,Tennis|      2.0|     3.0|     USD| No|      Yes|        null|       $1,255|   Monthly|       1400|   null|Orange Park|   FL| 30.1728| -81.7558|RentDigs.com|1544174455|               Other|                      No|                  Yes|  0|    0|         0|                 0|        0|         0|      0|       0|        0|               0|    0|   0|  1|      0|              0|     0|      0|         0|         0|   0|           0|      0|  0|     1|   0|           0|          0|\n",
      "|5121047894| 1095|housing/rent/apar...|Apartment in grea...|Square footage: 7...|Fireplace,Gym,Par...|      1.0|     1.0|     USD| No|      Yes|        null|       $1,095|   Monthly|        783|   null|    Atlanta|   GA| 33.9407| -84.3184|RentDigs.com|1544174587|             Atlanta|                      No|                  Yes|  0|    0|         0|                 0|        0|         0|      0|       0|        1|               0|    0|   0|  1|      0|              0|     0|      1|         1|         0|   1|           0|      0|  0|     0|   0|           0|          0|\n",
      "|5121048165| 3805|housing/rent/apar...|Bright New York C...|Price from: $3805...|                null|      1.0|     1.0|     USD| No|      Yes|        null|       $3,805|   Monthly|        525|   null|   New York|   NY| 40.7247| -73.9545|RentDigs.com|1544174613|               Other|                      No|                  Yes|  0|    0|         0|                 0|        0|         0|      0|       0|        0|               0|    0|   0|  0|      0|              0|     0|      0|         0|         0|   0|           0|      0|  0|     0|   0|           0|          0|\n",
      "|5121048250| 3775|housing/rent/apar...|Apartment for ren...|Western Exposure....|AC,Dishwasher,Gym...|      1.0|     2.0|     USD| No|      Yes|        null|       $3,775|   Monthly|        434|   null|   New York|   NY| 40.7247| -73.9545|RentDigs.com|1544174620|               Other|                      No|                  Yes|  1|    0|         0|                 0|        0|         1|      0|       0|        0|               0|    0|   0|  1|      0|              0|     0|      0|         0|         0|   0|           0|      0|  0|     0|   0|           1|          1|\n",
      "|5121049434| 1399|housing/rent/apar...|Two BR Apartment ...|Square footage: 1...|Gym,Internet Acce...|      2.0|     2.0|     USD| No|      Yes|        null|       $1,399|   Monthly|       1214|   null|    Atlanta|   GA| 33.9407| -84.3184|RentDigs.com|1544174716|             Atlanta|                      No|                  Yes|  0|    0|         0|                 0|        0|         0|      0|       0|        0|               0|    0|   0|  1|      0|              1|     0|      1|         0|         0|   1|           0|      0|  0|     0|   0|           0|          0|\n",
      "|5121049457|  935|housing/rent/apar...|Amazing One BR, O...|If you are lookin...|                Pool|      1.0|     1.0|     USD| No|      Yes|        null|         $935|   Monthly|        700|   null|Orange Park|   FL| 30.1728| -81.7558|RentDigs.com|1544174718|               Other|                      No|                  Yes|  0|    0|         0|                 0|        0|         0|      0|       0|        0|               0|    0|   0|  0|      0|              0|     0|      0|         0|         0|   1|           0|      0|  0|     0|   0|           0|          0|\n",
      "|5121050375|  850|housing/rent/apar...|The Best of the B...|Square footage: 7...|        Washer Dryer|      1.0|     2.0|     USD| No|      Yes|        null|         $850|   Monthly|        754|   null|    Raleigh|   NC| 35.7628| -78.5834|RentDigs.com|1544174788|               Other|                      No|                  Yes|  0|    0|         0|                 0|        0|         0|      0|       0|        0|               0|    0|   0|  0|      0|              0|     0|      0|         0|         0|   0|           0|      0|  0|     0|   0|           1|          0|\n",
      "|5121050646| 1008|housing/rent/apar...|Super Cute! Apart...|For an abundance ...|Fireplace,Patio/Deck|      2.0|     2.0|     USD| No|      Yes|        null|       $1,008|   Monthly|       1078|   null|Orange Park|   FL| 30.1728| -81.7558|RentDigs.com|1544174804|               Other|                      No|                  Yes|  0|    0|         0|                 0|        0|         0|      0|       0|        1|               0|    0|   0|  0|      0|              0|     0|      0|         1|         0|   0|           0|      0|  0|     0|   0|           0|          0|\n",
      "+----------+-----+--------------------+--------------------+--------------------+--------------------+---------+--------+--------+---+---------+------------+-------------+----------+-----------+-------+-----------+-----+--------+---------+------------+----------+--------------------+------------------------+---------------------+---+-----+----------+------------------+---------+----------+-------+--------+---------+----------------+-----+----+---+-------+---------------+------+-------+----------+----------+----+------------+-------+---+------+----+------------+-----------+\n",
      "only showing top 20 rows\n",
      "\n"
     ]
    },
    {
     "data": {
      "text/plain": [
       "None"
      ]
     },
     "metadata": {},
     "output_type": "display_data"
    }
   ],
   "source": [
    "df_join = df.join(pivot_amenities, ['id', 'price'], \"right\")\n",
    "\n",
    "display(df_join.show())"
   ]
  },
  {
   "cell_type": "code",
   "execution_count": 20,
   "metadata": {},
   "outputs": [],
   "source": [
    "from pyspark.sql.window import Window\n",
    "\n",
    "df_classes = df_join.select('id','price').orderBy('price',ascending=True)\n",
    "\n",
    "mediana = df_classes.count()/2\n",
    "\n",
    "X = Window.orderBy('price')\n",
    "\n",
    "df_classes = df_classes.withColumn('row_num', F.row_number().over(X))\n",
    "\n",
    "df_classes = df_classes.withColumn(\n",
    "    \"class\", \n",
    "    F.when(df_classes[\"row_num\"] <= mediana, F.lit('B')).otherwise(F.lit('A'))\n",
    ").drop(\"row_num\")"
   ]
  },
  {
   "cell_type": "code",
   "execution_count": 22,
   "metadata": {},
   "outputs": [
    {
     "data": {
      "text/plain": [
       "99844"
      ]
     },
     "metadata": {},
     "output_type": "display_data"
    },
    {
     "name": "stdout",
     "output_type": "stream",
     "text": [
      "+----------+-----+--------------------+--------------------+--------------------+--------------------+---------+--------+--------+---+---------+------------+-------------+----------+-----------+-------+--------------+-----+--------+---------+------------+----------+--------------------+------------------------+---------------------+-----------+\n",
      "|        id|price|            category|               title|                body|           amenities|bathrooms|bedrooms|currency|fee|has_photo|pets_allowed|price_display|price_type|square_feet|address|      cityname|state|latitude|longitude|      source|      time|cityname_transformed|pets_allowed_transformed|has_photo_transformed|price_class|\n",
      "+----------+-----+--------------------+--------------------+--------------------+--------------------+---------+--------+--------+---+---------+------------+-------------+----------+-----------+-------+--------------+-----+--------+---------+------------+----------+--------------------+------------------------+---------------------+-----------+\n",
      "|5121069241| 1399|housing/rent/apar...|Super Cute! Apart...|Up-to-date Montav...|Dishwasher,Parkin...|      1.0|     2.0|     USD| No|      Yes|        None|       $1,399|   Monthly|        850|   null|      Portland|   OR| 45.5152|-122.5993|RentDigs.com|1544176206|               Other|                      No|                  Yes|          B|\n",
      "|5121072381| 2019|housing/rent/apar...|One BR Apartment ...|Square footage: 7...|Cable or Satellit...|      1.0|     1.0|     USD| No|      Yes|        null|       $2,019|   Monthly|        789|   null|       Houston|   TX| 29.7427| -95.3913|RentDigs.com|1544176471|               Other|                      No|                  Yes|          A|\n",
      "|5121048804|  800|housing/rent/apar...|Orange Park, prim...|Apartment for ren...|AC,Clubhouse,Pool...|      1.0|     1.0|     USD| No|      Yes|        None|         $800|   Monthly|        722|   null|   Orange Park|   FL| 30.1728| -81.7558|RentDigs.com|1544174674|               Other|                      No|                  Yes|          A|\n",
      "|5121066093|  820|housing/rent/apar...|One BR Apartment ...|Or the convenienc...|AC,Cable or Satel...|      1.0|     1.0|     USD| No|      Yes|   Cats,Dogs|         $820|   Monthly|        719|   null|Spokane Valley|   WA| 47.6546|-117.2743|RentDigs.com|1544175979|               Other|                     Yes|                  Yes|          A|\n",
      "|5121049457|  935|housing/rent/apar...|Amazing One BR, O...|If you are lookin...|                Pool|      1.0|     1.0|     USD| No|      Yes|        null|         $935|   Monthly|        700|   null|   Orange Park|   FL| 30.1728| -81.7558|RentDigs.com|1544174718|               Other|                      No|                  Yes|          A|\n",
      "|5121051600|  925|housing/rent/apar...|Charming Two BR, ...|If you are lookin...|                Pool|      1.0|     2.0|     USD| No|      Yes|        null|         $925|   Monthly|        900|   null|   Orange Park|   FL| 30.1728| -81.7558|RentDigs.com|1544174867|               Other|                      No|                  Yes|          A|\n",
      "|5121060062| 2155|housing/rent/apar...|Two BR Apartment ...|Square footage: 1...|            Gym,Pool|      2.0|     2.0|     USD| No|      Yes|        Cats|       $2,155|   Monthly|       1117|   null|       Atlanta|   GA| 33.8622| -84.4704|RentDigs.com|1544175508|             Atlanta|                     Yes|                  Yes|          A|\n",
      "|5121046702|  910|housing/rent/apar...|Apartment in move...|If you are lookin...|                Pool|      1.0|     2.0|     USD| No|      Yes|        null|         $910|   Monthly|        900|   null|   Orange Park|   FL| 30.1728| -81.7558|RentDigs.com|1544174477|               Other|                      No|                  Yes|          A|\n",
      "|5121065284| 1052|housing/rent/apar...|Yulee, prime loca...|Square footage: 8...|             Parking|      1.0|     1.0|     USD| No|      Yes|   Cats,Dogs|       $1,052|   Monthly|        879|   null|         Yulee|   FL| 30.6637| -81.6364|RentDigs.com|1544175921|               Other|                     Yes|                  Yes|          B|\n",
      "|5121053008| 2493|housing/rent/apar...|Atlanta Luxurious...|Refined design fi...|    Gym,Parking,Pool|      2.0|     3.0|     USD| No|      Yes|   Cats,Dogs|       $2,493|   Monthly|       1193|   null|       Atlanta|   GA| 33.8622| -84.4704|RentDigs.com|1544174991|             Atlanta|                     Yes|                  Yes|          A|\n",
      "|5121046904|  999|housing/rent/apar...|Average Rent $999...|Square footage: 5...|Cable or Satellit...|      1.0|     2.0|     USD| No|      Yes|   Cats,Dogs|         $999|   Monthly|        588|   null|       Atlanta|   GA| 33.9407| -84.3184|RentDigs.com|1544174502|             Atlanta|                     Yes|                  Yes|          A|\n",
      "|5121056122| 1250|housing/rent/apar...|Apartment only fo...|Square footage: 1...|Clubhouse,Gym,Par...|      2.0|     2.0|     USD| No|      Yes|        null|       $1,250|   Monthly|       1365|   null|      Veradale|   WA| 47.6435|-117.1977|RentDigs.com|1544175273|               Other|                      No|                  Yes|          B|\n",
      "|5121050896|  875|housing/rent/apar...|Move-in condition...|If you are lookin...|                Pool|      1.0|     1.0|     USD| No|      Yes|        null|         $875|   Monthly|        700|   null|   Orange Park|   FL| 30.1728| -81.7558|RentDigs.com|1544174818|               Other|                      No|                  Yes|          A|\n",
      "|5121073950| 1148|housing/rent/apar...|Apartment in grea...|Welcome home to C...|Internet Access,P...|      2.0|     2.0|     USD| No|      Yes|   Cats,Dogs|       $1,148|   Monthly|       1186|   null|       Raleigh|   NC| 35.8079| -78.6466|RentDigs.com|1544176610|               Other|                     Yes|                  Yes|          B|\n",
      "|5121054112|  959|housing/rent/apar...|Lease Spacious 2+...|Situated just nor...|Cable or Satellit...|      2.0|     2.0|     USD| No|      Yes|   Cats,Dogs|         $959|   Monthly|        847|   null|       Raleigh|   NC| 35.7488| -78.6369|RentDigs.com|1544175097|               Other|                     Yes|                  Yes|          A|\n",
      "|5121054387|  867|housing/rent/apar...|Move-in condition...|Situated in Ralei...|    Gym,Pool,Storage|      1.0|     1.0|     USD| No|      Yes|   Cats,Dogs|         $867|   Monthly|        689|   null|       Raleigh|   NC| 35.7488| -78.6369|RentDigs.com|1544175130|               Other|                     Yes|                  Yes|          A|\n",
      "|5121065607| 4595|housing/rent/apar...|Welcome to Fairwa...|Located just off ...|Elevator,Patio/De...|      3.5|     4.0|     USD| No|      Yes|   Cats,Dogs|       $4,595|   Monthly|       2160|   null|      Carlsbad|   CA|  33.097|-117.2697|RentDigs.com|1544175942|               Other|                     Yes|                  Yes|          A|\n",
      "|5121051413| 1163|housing/rent/apar...|Amazing Two BR, T...|Square footage: 1...|Fireplace,Patio/Deck|      2.0|     2.0|     USD| No|      Yes|        null|       $1,163|   Monthly|       1155|   null|   Orange Park|   FL| 30.1728| -81.7558|RentDigs.com|1544174856|               Other|                      No|                  Yes|          B|\n",
      "|5121063142| 1345|housing/rent/apar...|Prominence Apartm...|Come home to exqu...|Clubhouse,Gym,Par...|      2.0|     2.0|     USD| No|      Yes|   Cats,Dogs|       $1,345|   Monthly|       1101|   null|         Yulee|   FL| 30.6637| -81.6364|RentDigs.com|1544175754|               Other|                     Yes|                  Yes|          B|\n",
      "|5121067208| 1179|housing/rent/apar...|Apartment in quie...|Square footage: 1...|  Parking,Playground|      2.0|     2.0|     USD| No|      Yes|        null|       $1,179|   Monthly|       1230|   null|       Atlanta|   GA| 33.9013| -84.3058|RentDigs.com|1544176061|             Atlanta|                      No|                  Yes|          B|\n",
      "+----------+-----+--------------------+--------------------+--------------------+--------------------+---------+--------+--------+---+---------+------------+-------------+----------+-----------+-------+--------------+-----+--------+---------+------------+----------+--------------------+------------------------+---------------------+-----------+\n",
      "only showing top 20 rows\n",
      "\n"
     ]
    },
    {
     "data": {
      "text/plain": [
       "None"
      ]
     },
     "metadata": {},
     "output_type": "display_data"
    }
   ],
   "source": [
    "df_join = df.join(df_classes, ['id', 'price'], \"left\")\n",
    "\n",
    "display(df.count())\n",
    "\n",
    "df = df_join.withColumnRenamed('class', 'price_class')\n",
    "\n",
    "display(df.show())"
   ]
  },
  {
   "cell_type": "code",
   "execution_count": 23,
   "metadata": {},
   "outputs": [
    {
     "name": "stdout",
     "output_type": "stream",
     "text": [
      "+----------+-----+--------------------+--------------------+--------------------+--------------------+---------+--------+--------+---+---------+------------+-------------+----------+-----------+-------+-----------+-----+--------+---------+------------+----------+--------------------+------------------------+---------------------+-----------+---+-----+----------+------------------+---------+----------+-------+--------+---------+----------------+-----+----+---+-------+---------------+------+-------+----------+----------+----+------------+-------+---+------+----+------------+-----------+\n",
      "|        id|price|            category|               title|                body|           amenities|bathrooms|bedrooms|currency|fee|has_photo|pets_allowed|price_display|price_type|square_feet|address|   cityname|state|latitude|longitude|      source|      time|cityname_transformed|pets_allowed_transformed|has_photo_transformed|price_class| AC|Alarm|Basketball|Cable or Satellite|Clubhouse|Dishwasher|Doorman|Elevator|Fireplace|Garbage Disposal|Gated|Golf|Gym|Hot Tub|Internet Access|Luxury|Parking|Patio/Deck|Playground|Pool|Refrigerator|Storage| TV|Tennis|View|Washer Dryer|Wood Floors|\n",
      "+----------+-----+--------------------+--------------------+--------------------+--------------------+---------+--------+--------+---+---------+------------+-------------+----------+-----------+-------+-----------+-----+--------+---------+------------+----------+--------------------+------------------------+---------------------+-----------+---+-----+----------+------------------+---------+----------+-------+--------+---------+----------------+-----+----+---+-------+---------------+------+-------+----------+----------+----+------------+-------+---+------+----+------------+-----------+\n",
      "|5121047089|  808|housing/rent/apar...|Orange Park - con...|For an abundance ...|Fireplace,Patio/Deck|      1.0|     1.0|     USD| No|      Yes|        null|         $808|   Monthly|        840|   null|Orange Park|   FL| 30.1728| -81.7558|RentDigs.com|1544174523|               Other|                      No|                  Yes|          A|  0|    0|         0|                 0|        0|         0|      0|       0|        1|               0|    0|   0|  0|      0|              0|     0|      0|         1|         0|   0|           0|      0|  0|     0|   0|           0|          0|\n",
      "|5121047251|  998|housing/rent/apar...|Apartment in move...|For an abundance ...|Fireplace,Patio/Deck|      2.0|     2.0|     USD| No|      Yes|        null|         $998|   Monthly|       1078|   null|Orange Park|   FL| 30.1728| -81.7558|RentDigs.com|1544174542|               Other|                      No|                  Yes|          A|  0|    0|         0|                 0|        0|         0|      0|       0|        1|               0|    0|   0|  0|      0|              0|     0|      0|         1|         0|   0|           0|      0|  0|     0|   0|           0|          0|\n",
      "|5121048300| 3670|housing/rent/apar...|Outstanding Oppor...|Price from: $3670...|      Gym,Patio/Deck|      1.0|     2.0|     USD| No|      Yes|        null|       $3,670|   Monthly|        691|   null|   New York|   NY| 40.7247| -73.9545|RentDigs.com|1544174624|               Other|                      No|                  Yes|          A|  0|    0|         0|                 0|        0|         0|      0|       0|        0|               0|    0|   0|  1|      0|              0|     0|      0|         1|         0|   0|           0|      0|  0|     0|   0|           0|          0|\n",
      "|5121048804|  800|housing/rent/apar...|Orange Park, prim...|Apartment for ren...|AC,Clubhouse,Pool...|      1.0|     1.0|     USD| No|      Yes|        None|         $800|   Monthly|        722|   null|Orange Park|   FL| 30.1728| -81.7558|RentDigs.com|1544174674|               Other|                      No|                  Yes|          A|  1|    0|         0|                 0|        1|         0|      0|       0|        0|               0|    0|   0|  0|      0|              0|     0|      0|         0|         0|   1|           1|      0|  0|     0|   0|           0|          0|\n",
      "|5121049756|  982|housing/rent/apar...|Apartment in grea...|Welcome to a whol...|    Gym,Washer Dryer|      2.0|     2.0|     USD| No|      Yes|        null|         $982|   Monthly|       1091|   null|Orange Park|   FL| 30.1728| -81.7558|RentDigs.com|1544174743|               Other|                      No|                  Yes|          A|  0|    0|         0|                 0|        0|         0|      0|       0|        0|               0|    0|   0|  1|      0|              0|     0|      0|         0|         0|   0|           0|      0|  0|     0|   0|           1|          0|\n",
      "|5121050323| 1267|housing/rent/apar...|Apartment in prim...|Square footage: 1...|Fireplace,Patio/Deck|      2.0|     3.0|     USD| No|      Yes|        null|       $1,267|   Monthly|       1314|   null|Orange Park|   FL| 30.1728| -81.7558|RentDigs.com|1544174786|               Other|                      No|                  Yes|          B|  0|    0|         0|                 0|        0|         0|      0|       0|        1|               0|    0|   0|  0|      0|              0|     0|      0|         1|         0|   0|           0|      0|  0|     0|   0|           0|          0|\n",
      "|5121051818| 1000|housing/rent/apar...|Apartment - 1,100...|With premier loca...|          Gym,Tennis|      2.0|     2.0|     USD| No|      Yes|        null|       $1,000|   Monthly|       1100|   null|Orange Park|   FL| 30.1728| -81.7558|RentDigs.com|1544174883|               Other|                      No|                  Yes|          B|  0|    0|         0|                 0|        0|         0|      0|       0|        0|               0|    0|   0|  1|      0|              0|     0|      0|         0|         0|   0|           0|      0|  0|     1|   0|           0|          0|\n",
      "|5121052201|  850|housing/rent/apar...|Raleigh - 2bd/One...|Square footage: 7...|        Washer Dryer|      1.0|     2.0|     USD| No|      Yes|        null|         $850|   Monthly|        754|   null|    Raleigh|   NC| 35.7628| -78.5834|RentDigs.com|1544174918|               Other|                      No|                  Yes|          A|  0|    0|         0|                 0|        0|         0|      0|       0|        0|               0|    0|   0|  0|      0|              0|     0|      0|         0|         0|   0|           0|      0|  0|     0|   0|           1|          0|\n",
      "|5121052270| 1650|housing/rent/apar...|Move-in condition...|Walton River luxu...|        Pool,Storage|      2.0|     3.0|     USD| No|      Yes|   Cats,Dogs|       $1,650|   Monthly|       1435|   null|    Atlanta|   GA| 33.8622| -84.4704|RentDigs.com|1544174924|             Atlanta|                     Yes|                  Yes|          B|  0|    0|         0|                 0|        0|         0|      0|       0|        0|               0|    0|   0|  0|      0|              0|     0|      0|         0|         0|   1|           0|      1|  0|     0|   0|           0|          0|\n",
      "|5121052344| 1600|housing/rent/apar...|One BR Apartment ...|Spacious 1 beds -...|   Fireplace,Storage|      1.0|     1.0|     USD| No|      Yes|        null|       $1,600|   Monthly|        800|   null|   Portland|   OR| 45.5676|-122.6425|RentDigs.com|1544174929|               Other|                      No|                  Yes|          B|  0|    0|         0|                 0|        0|         0|      0|       0|        1|               0|    0|   0|  0|      0|              0|     0|      0|         0|         0|   0|           0|      1|  0|     0|   0|           0|          0|\n",
      "|5121053339|  935|housing/rent/apar...|$935/mo, Raleigh,...|welcomes you! Our...|Gym,Pool,Washer D...|      1.0|     2.0|     USD| No|      Yes|        null|         $935|   Monthly|        621|   null|    Raleigh|   NC| 35.7488| -78.6369|RentDigs.com|1544175020|               Other|                      No|                  Yes|          A|  0|    0|         0|                 0|        0|         0|      0|       0|        0|               0|    0|   0|  1|      0|              0|     0|      0|         0|         0|   1|           0|      0|  0|     0|   0|           1|          0|\n",
      "|5121053616| 1195|housing/rent/apar...|Experience your n...|North Williams an...|Refrigerator,Wood...|      1.0|     1.0|     USD| No|      Yes|        null|       $1,195|   Monthly|        625|   null|   Portland|   OR| 45.5676|-122.6425|RentDigs.com|1544175048|               Other|                      No|                  Yes|          B|  0|    0|         0|                 0|        0|         0|      0|       0|        0|               0|    0|   0|  0|      0|              0|     0|      0|         0|         0|   0|           1|      0|  0|     0|   0|           0|          1|\n",
      "|5121046506| 1255|housing/rent/apar...|Orange Park Luxur...|With premier loca...|          Gym,Tennis|      2.0|     3.0|     USD| No|      Yes|        null|       $1,255|   Monthly|       1400|   null|Orange Park|   FL| 30.1728| -81.7558|RentDigs.com|1544174455|               Other|                      No|                  Yes|          B|  0|    0|         0|                 0|        0|         0|      0|       0|        0|               0|    0|   0|  1|      0|              0|     0|      0|         0|         0|   0|           0|      0|  0|     1|   0|           0|          0|\n",
      "|5121047894| 1095|housing/rent/apar...|Apartment in grea...|Square footage: 7...|Fireplace,Gym,Par...|      1.0|     1.0|     USD| No|      Yes|        null|       $1,095|   Monthly|        783|   null|    Atlanta|   GA| 33.9407| -84.3184|RentDigs.com|1544174587|             Atlanta|                      No|                  Yes|          B|  0|    0|         0|                 0|        0|         0|      0|       0|        1|               0|    0|   0|  1|      0|              0|     0|      1|         1|         0|   1|           0|      0|  0|     0|   0|           0|          0|\n",
      "|5121048165| 3805|housing/rent/apar...|Bright New York C...|Price from: $3805...|                null|      1.0|     1.0|     USD| No|      Yes|        null|       $3,805|   Monthly|        525|   null|   New York|   NY| 40.7247| -73.9545|RentDigs.com|1544174613|               Other|                      No|                  Yes|          A|  0|    0|         0|                 0|        0|         0|      0|       0|        0|               0|    0|   0|  0|      0|              0|     0|      0|         0|         0|   0|           0|      0|  0|     0|   0|           0|          0|\n",
      "|5121048250| 3775|housing/rent/apar...|Apartment for ren...|Western Exposure....|AC,Dishwasher,Gym...|      1.0|     2.0|     USD| No|      Yes|        null|       $3,775|   Monthly|        434|   null|   New York|   NY| 40.7247| -73.9545|RentDigs.com|1544174620|               Other|                      No|                  Yes|          A|  1|    0|         0|                 0|        0|         1|      0|       0|        0|               0|    0|   0|  1|      0|              0|     0|      0|         0|         0|   0|           0|      0|  0|     0|   0|           1|          1|\n",
      "|5121049434| 1399|housing/rent/apar...|Two BR Apartment ...|Square footage: 1...|Gym,Internet Acce...|      2.0|     2.0|     USD| No|      Yes|        null|       $1,399|   Monthly|       1214|   null|    Atlanta|   GA| 33.9407| -84.3184|RentDigs.com|1544174716|             Atlanta|                      No|                  Yes|          B|  0|    0|         0|                 0|        0|         0|      0|       0|        0|               0|    0|   0|  1|      0|              1|     0|      1|         0|         0|   1|           0|      0|  0|     0|   0|           0|          0|\n",
      "|5121049457|  935|housing/rent/apar...|Amazing One BR, O...|If you are lookin...|                Pool|      1.0|     1.0|     USD| No|      Yes|        null|         $935|   Monthly|        700|   null|Orange Park|   FL| 30.1728| -81.7558|RentDigs.com|1544174718|               Other|                      No|                  Yes|          A|  0|    0|         0|                 0|        0|         0|      0|       0|        0|               0|    0|   0|  0|      0|              0|     0|      0|         0|         0|   1|           0|      0|  0|     0|   0|           0|          0|\n",
      "|5121050375|  850|housing/rent/apar...|The Best of the B...|Square footage: 7...|        Washer Dryer|      1.0|     2.0|     USD| No|      Yes|        null|         $850|   Monthly|        754|   null|    Raleigh|   NC| 35.7628| -78.5834|RentDigs.com|1544174788|               Other|                      No|                  Yes|          A|  0|    0|         0|                 0|        0|         0|      0|       0|        0|               0|    0|   0|  0|      0|              0|     0|      0|         0|         0|   0|           0|      0|  0|     0|   0|           1|          0|\n",
      "|5121050646| 1008|housing/rent/apar...|Super Cute! Apart...|For an abundance ...|Fireplace,Patio/Deck|      2.0|     2.0|     USD| No|      Yes|        null|       $1,008|   Monthly|       1078|   null|Orange Park|   FL| 30.1728| -81.7558|RentDigs.com|1544174804|               Other|                      No|                  Yes|          B|  0|    0|         0|                 0|        0|         0|      0|       0|        1|               0|    0|   0|  0|      0|              0|     0|      0|         1|         0|   0|           0|      0|  0|     0|   0|           0|          0|\n",
      "+----------+-----+--------------------+--------------------+--------------------+--------------------+---------+--------+--------+---+---------+------------+-------------+----------+-----------+-------+-----------+-----+--------+---------+------------+----------+--------------------+------------------------+---------------------+-----------+---+-----+----------+------------------+---------+----------+-------+--------+---------+----------------+-----+----+---+-------+---------------+------+-------+----------+----------+----+------------+-------+---+------+----+------------+-----------+\n",
      "only showing top 20 rows\n",
      "\n"
     ]
    },
    {
     "data": {
      "text/plain": [
       "None"
      ]
     },
     "metadata": {},
     "output_type": "display_data"
    }
   ],
   "source": [
    "df = df.join(pivot_amenities, ['id', 'price'], \"right\")\n",
    "\n",
    "display(df.show())"
   ]
  },
  {
   "cell_type": "code",
   "execution_count": null,
   "metadata": {},
   "outputs": [],
   "source": [
    "from pyspark.sql.functions import col\n",
    "\n",
    "ids_to_remove = [5648708029, 5667488036]  # Altere com os IDs que deseja excluir\n",
    "\n",
    "df = df.filter(~col('id').isin(ids_to_remove))"
   ]
  },
  {
   "cell_type": "code",
   "execution_count": null,
   "metadata": {},
   "outputs": [],
   "source": [
    "df.to_csv(\n",
    "    \"C:/Users/afili/Desktop/Uni/Mestrado/AASE/apartments_for_rent_100k_final.csv\", \n",
    "    sep=';', \n",
    "    index=False, \n",
    "    encoding='utf-8'\n",
    ")"
   ]
  }
 ],
 "metadata": {
  "kernelspec": {
   "display_name": "Python 3",
   "language": "python",
   "name": "python3"
  },
  "language_info": {
   "codemirror_mode": {
    "name": "ipython",
    "version": 3
   },
   "file_extension": ".py",
   "mimetype": "text/x-python",
   "name": "python",
   "nbconvert_exporter": "python",
   "pygments_lexer": "ipython3",
   "version": "3.13.0"
  }
 },
 "nbformat": 4,
 "nbformat_minor": 2
}
