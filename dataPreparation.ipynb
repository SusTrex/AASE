{
 "cells": [
  {
   "cell_type": "markdown",
   "metadata": {
    "notebookRunGroups": {
     "groupValue": "1"
    }
   },
   "source": [
    "Data Preparation"
   ]
  },
  {
   "cell_type": "code",
   "execution_count": 1,
   "metadata": {},
   "outputs": [],
   "source": [
    "from pyspark.sql import SparkSession"
   ]
  },
  {
   "cell_type": "code",
   "execution_count": 2,
   "metadata": {},
   "outputs": [
    {
     "name": "stdout",
     "output_type": "stream",
     "text": [
      "Número de valores nulos na coluna 'price': 0\n",
      "Número de valores nulos na coluna 'price': 0\n",
      "Número de linhas: 10000\n"
     ]
    }
   ],
   "source": [
    "spark = SparkSession.builder \\\n",
    "    .appName(\"CSV Import\") \\\n",
    "    .getOrCreate()\n",
    "\n",
    "file_path = \"C:/Users/afili/Desktop/Uni/Mestrado/AASE/apartments_for_rent_classified_10K.csv\"\n",
    "\n",
    "df = spark.read.csv(file_path, header=True, inferSchema=True, sep=\";\")\n",
    "\n",
    "# Especificando valores que devem ser tratados como NaN\n",
    "na_values = [\"NA\", \"null\", \"\", \" \"]\n",
    "\n",
    "from pyspark.sql.functions import col\n",
    "\n",
    "null_count = df.filter(col('price').isNull()).count()\n",
    "print(f\"Número de valores nulos na coluna 'price': {null_count}\")\n",
    "\n",
    "# Remover as linhas onde 'price' é nulo\n",
    "df = df.filter(col('price').isNotNull())\n",
    "\n",
    "null_count = df.filter(col('price').isNull()).count()\n",
    "print(f\"Número de valores nulos na coluna 'price': {null_count}\")\n",
    "\n",
    "print(f\"Número de linhas: {df.count()}\") "
   ]
  },
  {
   "cell_type": "markdown",
   "metadata": {},
   "source": [
    "Demo da tabela e Mundança de tipos de colunas"
   ]
  },
  {
   "cell_type": "code",
   "execution_count": 3,
   "metadata": {},
   "outputs": [
    {
     "name": "stdout",
     "output_type": "stream",
     "text": [
      "+----------+--------------------+--------------------+--------------------+--------------------+---------+--------+--------+---+---------+------------+-----+-------------+----------+-----------+--------------------+-------------+-----+--------+---------+------------+----------+\n",
      "|        id|            category|               title|                body|           amenities|bathrooms|bedrooms|currency|fee|has_photo|pets_allowed|price|price_display|price_type|square_feet|             address|     cityname|state|latitude|longitude|      source|      time|\n",
      "+----------+--------------------+--------------------+--------------------+--------------------+---------+--------+--------+---+---------+------------+-----+-------------+----------+-----------+--------------------+-------------+-----+--------+---------+------------+----------+\n",
      "|5668626895|housing/rent/apar...|Studio apartment ...|This unit is loca...|                null|     null|       0|     USD| No|Thumbnail|        None|  790|         $790|   Monthly|        101|                null|   Washington|   DC| 38.9057| -76.9861|   RentLingo|1577359415|\n",
      "|5664597177|housing/rent/apar...|Studio apartment ...|This unit is loca...|                null|     null|       1|     USD| No|Thumbnail|        None|  425|         $425|   Monthly|        106|      814 Schutte Rd|   Evansville|   IN| 37.9680| -87.6621|   RentLingo|1577017063|\n",
      "|5668626833|housing/rent/apar...|Studio apartment ...|This unit is loca...|                null|        1|       0|     USD| No|Thumbnail|        None| 1390|       $1,390|   Monthly|        107|                null|    Arlington|   VA| 38.8910| -77.0816|   RentLingo|1577359410|\n",
      "|5659918074|housing/rent/apar...|Studio apartment ...|This unit is loca...|                null|        1|       0|     USD| No|Thumbnail|        None|  925|         $925|   Monthly|        116|    1717 12th Avenue|      Seattle|   WA| 47.6160|-122.3275|   RentLingo|1576667743|\n",
      "|5668626759|housing/rent/apar...|Studio apartment ...|This unit is loca...|                null|     null|       0|     USD| No|Thumbnail|        None|  880|         $880|   Monthly|        125|                null|    Arlington|   VA| 38.8738| -77.1055|   RentLingo|1577359401|\n",
      "|5667891676|housing/rent/apar...|0 BR in New York ...|**RARE GEM WITH P...|Dishwasher,Elevat...|        1|       0|     USD| No|Thumbnail|        null| 2475|       $2,475|   Monthly|        130|    350 West 50th St|    Manhattan|   NY| 40.7629| -73.9885|    Listanza|1577289784|\n",
      "|5668627426|housing/rent/apar...|Studio apartment ...|This unit is loca...|                null|     null|       0|     USD| No|Thumbnail|        None| 1800|       $1,800|   Monthly|        132|  2432 Penmar Avenue|       Venice|   CA| 33.9932|-118.4609|   RentLingo|1577359461|\n",
      "|5668626687|housing/rent/apar...|Studio apartment ...|This unit is loca...|                null|     null|       0|     USD| No|Thumbnail|        None|  840|         $840|   Monthly|        136|                null|   Washington|   DC| 38.9328| -77.0297|   RentLingo|1577359393|\n",
      "|5668610290|housing/rent/apar...|Studio apartment ...|This unit is loca...|        Refrigerator|        1|       0|     USD| No|Thumbnail|        None| 1495|       $1,495|   Monthly|        138|         333 Hyde St|San Francisco|   CA| 37.7599|-122.4379|   RentLingo|1577358313|\n",
      "|5668627023|housing/rent/apar...|Studio apartment ...|This unit is loca...|                null|     null|       0|     USD| No|Thumbnail|        None|  890|         $890|   Monthly|        141|                null|   Washington|   DC| 38.9118| -77.0132|   RentLingo|1577359424|\n",
      "|5668627099|housing/rent/apar...|Studio apartment ...|This unit is loca...|                null|     null|       0|     USD| No|Thumbnail|        None|  990|         $990|   Monthly|        146|15th St SE Indepe...|   Washington|   DC| 38.9118| -77.0132|   RentLingo|1577359430|\n",
      "|5668626548|housing/rent/apar...|Studio apartment ...|This unit is loca...|                null|     null|       0|     USD| No|Thumbnail|        None|  840|         $840|   Monthly|        150|                null|   Washington|   DC| 38.9118| -77.0132|   RentLingo|1577359381|\n",
      "|5664598162|housing/rent/apar...|Studio apartment ...|This unit is loca...|                null|     null|       1|     USD| No|Thumbnail|   Cats,Dogs| 1795|       $1,795|   Monthly|        156|      2326 N 6th Ave|       Tucson|   AZ| 32.2264|-110.9438|   RentLingo|1577017148|\n",
      "|5668626900|housing/rent/apar...|Studio apartment ...|This unit is loca...|                null|     null|       0|     USD| No|Thumbnail|        None| 1090|       $1,090|   Monthly|        178|                null|   Washington|   DC| 38.9118| -77.0132|   RentLingo|1577359415|\n",
      "|5664571820|housing/rent/apar...|Studio apartment ...|This unit is loca...|        Refrigerator|        1|       0|     USD| No|Thumbnail|        None| 1695|       $1,695|   Monthly|        190|        57 Taylor St|San Francisco|   CA| 37.7599|-122.4379|   RentLingo|1577015121|\n",
      "|5659276240|housing/rent/apar...|  Studio Cottage 214|New Bern Studio i...|AC,Basketball,Cab...|        1|       1|     USD| No|Thumbnail|   Cats,Dogs| 1560|$1,560 Weekly|    Weekly|        200|                null|     New Bern|   NC| 35.0847| -77.0609|   ListedBuy|1576618076|\n",
      "|5654898031|housing/rent/apar...|  Studio Cottage 214|New Bern Studio i...|AC,Basketball,Cab...|        1|       1|     USD| No|Thumbnail|   Cats,Dogs| 1560|       $1,560|   Monthly|        200|180 Moonlight Lak...|     New Bern|   NC| 35.0960| -77.0272|RentDigs.com|1576406273|\n",
      "|5664574876|housing/rent/apar...|One BR Spring Rid...|This unit is loca...|                null|        1|       1|     USD| No|Thumbnail|        None| 1000|       $1,000|   Monthly|        200|                null|       Spring|   TX| 30.0871| -95.4685|   RentLingo|1577015327|\n",
      "|5668633573|housing/rent/apar...|Studio apartment ...|This unit is loca...|                null|        1|       1|     USD| No|Thumbnail|        None|  950|         $950|   Monthly|        200|545 Georgia St 71...|      Vallejo|   CA| 38.1172|-122.2313|   RentLingo|1577359918|\n",
      "|5668624220|housing/rent/apar...|One BR Falcon Woo...|This unit is loca...|                Pool|        1|       1|     USD| No|Thumbnail|        None|  625|         $625|   Monthly|        200|                null|     Marietta|   GA| 33.9649| -84.5107|   RentLingo|1577359224|\n",
      "+----------+--------------------+--------------------+--------------------+--------------------+---------+--------+--------+---+---------+------------+-----+-------------+----------+-----------+--------------------+-------------+-----+--------+---------+------------+----------+\n",
      "only showing top 20 rows\n",
      "\n"
     ]
    }
   ],
   "source": [
    "df.show()"
   ]
  },
  {
   "cell_type": "code",
   "execution_count": 4,
   "metadata": {},
   "outputs": [
    {
     "name": "stdout",
     "output_type": "stream",
     "text": [
      "root\n",
      " |-- id: long (nullable = true)\n",
      " |-- category: string (nullable = true)\n",
      " |-- title: string (nullable = true)\n",
      " |-- body: string (nullable = true)\n",
      " |-- amenities: string (nullable = true)\n",
      " |-- bathrooms: string (nullable = true)\n",
      " |-- bedrooms: string (nullable = true)\n",
      " |-- currency: string (nullable = true)\n",
      " |-- fee: string (nullable = true)\n",
      " |-- has_photo: string (nullable = true)\n",
      " |-- pets_allowed: string (nullable = true)\n",
      " |-- price: integer (nullable = true)\n",
      " |-- price_display: string (nullable = true)\n",
      " |-- price_type: string (nullable = true)\n",
      " |-- square_feet: integer (nullable = true)\n",
      " |-- address: string (nullable = true)\n",
      " |-- cityname: string (nullable = true)\n",
      " |-- state: string (nullable = true)\n",
      " |-- latitude: string (nullable = true)\n",
      " |-- longitude: string (nullable = true)\n",
      " |-- source: string (nullable = true)\n",
      " |-- time: integer (nullable = true)\n",
      "\n"
     ]
    }
   ],
   "source": [
    "df.printSchema()"
   ]
  },
  {
   "cell_type": "code",
   "execution_count": 5,
   "metadata": {},
   "outputs": [
    {
     "name": "stdout",
     "output_type": "stream",
     "text": [
      "root\n",
      " |-- id: long (nullable = true)\n",
      " |-- category: string (nullable = true)\n",
      " |-- title: string (nullable = true)\n",
      " |-- body: string (nullable = true)\n",
      " |-- amenities: string (nullable = true)\n",
      " |-- bathrooms: float (nullable = true)\n",
      " |-- bedrooms: float (nullable = true)\n",
      " |-- currency: string (nullable = true)\n",
      " |-- fee: string (nullable = true)\n",
      " |-- has_photo: string (nullable = true)\n",
      " |-- pets_allowed: string (nullable = true)\n",
      " |-- price: integer (nullable = true)\n",
      " |-- price_display: string (nullable = true)\n",
      " |-- price_type: string (nullable = true)\n",
      " |-- square_feet: integer (nullable = true)\n",
      " |-- address: string (nullable = true)\n",
      " |-- cityname: string (nullable = true)\n",
      " |-- state: string (nullable = true)\n",
      " |-- latitude: float (nullable = true)\n",
      " |-- longitude: float (nullable = true)\n",
      " |-- source: string (nullable = true)\n",
      " |-- time: integer (nullable = true)\n",
      "\n"
     ]
    }
   ],
   "source": [
    "from pyspark.sql.types import FloatType\n",
    "\n",
    "columns_to_convert = [\"bathrooms\", \"bedrooms\", \"latitude\", \"longitude\"]  # Substitua pelos nomes das colunas\n",
    "\n",
    "for column in columns_to_convert:\n",
    "    df = df.withColumn(column, col(column).cast(FloatType()))\n",
    "\n",
    "df.printSchema()\n"
   ]
  },
  {
   "cell_type": "code",
   "execution_count": 6,
   "metadata": {},
   "outputs": [],
   "source": [
    "df = df.dropDuplicates(['id'])\n",
    "df = df.filter(df['category'] == 'housing/rent/apartment')\n",
    "df = df.filter(df['price_type'] == 'Monthly')"
   ]
  },
  {
   "cell_type": "code",
   "execution_count": 7,
   "metadata": {},
   "outputs": [
    {
     "data": {
      "text/plain": [
       "9994"
      ]
     },
     "execution_count": 7,
     "metadata": {},
     "output_type": "execute_result"
    }
   ],
   "source": [
    "df.count()"
   ]
  },
  {
   "cell_type": "code",
   "execution_count": 8,
   "metadata": {},
   "outputs": [
    {
     "name": "stdout",
     "output_type": "stream",
     "text": [
      "+----------+--------------------+--------------------+--------------------+--------------------+---------+--------+--------+---+---------+------------+-----+-------------+----------+-----------+-------+-----------+-----+--------+---------+------------+----------+--------------------+\n",
      "|        id|            category|               title|                body|           amenities|bathrooms|bedrooms|currency|fee|has_photo|pets_allowed|price|price_display|price_type|square_feet|address|   cityname|state|latitude|longitude|      source|      time|cityname_transformed|\n",
      "+----------+--------------------+--------------------+--------------------+--------------------+---------+--------+--------+---+---------+------------+-----+-------------+----------+-----------+-------+-----------+-----+--------+---------+------------+----------+--------------------+\n",
      "|5508654087|housing/rent/apar...|$1,287 / One BR -...|Square footage: 7...|Internet Access,P...|      1.0|     1.0|     USD| No|Thumbnail|        null| 1287|       $1,287|   Monthly|        744|   null|   Richmond|   VA| 37.5173| -77.5044|RentDigs.com|1568743976|               Other|\n",
      "|5508654607|housing/rent/apar...|Be among the firs...|Our community of ...|Gym,Pool,Washer D...|      1.0|     1.0|     USD| No|Thumbnail|        null| 2669|       $2,669|   Monthly|        713|   null|Los Angeles|   CA| 34.0451|-118.2414|RentDigs.com|1568744007|         Los Angeles|\n",
      "|5508654638|housing/rent/apar...|One BR Apartment ...|South of the Jame...|Gym,Playground,Po...|      1.0|     1.0|     USD| No|Thumbnail|   Cats,Dogs|  990|         $990|   Monthly|        854|   null|   Richmond|   VA| 37.5173| -77.5044|RentDigs.com|1568744008|               Other|\n",
      "|5508657700|housing/rent/apar...|Lovely Maumee, On...|Welcome to Valley...|AC,Cable or Satel...|      1.0|     1.0|     USD| No|Thumbnail|   Cats,Dogs|  615|         $615|   Monthly|        668|   null|     Maumee|   OH| 41.5781| -83.6642|RentDigs.com|1568744152|               Other|\n",
      "|5508658740|housing/rent/apar...|Apartment in quie...|Welcome to Valley...|AC,Cable or Satel...|      1.0|     1.0|     USD| No|Thumbnail|   Cats,Dogs|  670|         $670|   Monthly|        759|   null|     Maumee|   OH| 41.5781| -83.6642|RentDigs.com|1568744210|               Other|\n",
      "|5508665899|housing/rent/apar...|Apartment only fo...|Apartment for ren...|AC,Clubhouse,Dish...|      1.0|     2.0|     USD| No|Thumbnail|   Cats,Dogs| 1755|       $1,755|   Monthly|        511|   null|East Orange|   NJ| 40.7647| -74.2119|RentDigs.com|1568744683|               Other|\n",
      "|5508666040|housing/rent/apar...|Move-in condition...|Square footage: 7...|Clubhouse,Gym,Par...|      1.0|     1.0|     USD| No|Thumbnail|        null| 1045|       $1,045|   Monthly|        751|   null|  Las Vegas|   NV| 36.1198|-115.0497|RentDigs.com|1568744694|           Las Vegas|\n",
      "|5508666072|housing/rent/apar...|Apartment - must ...|Summer Pointe Apa...|Clubhouse,Firepla...|      1.0|     1.0|     USD| No|Thumbnail|        null|  620|         $620|   Monthly|        575|   null| Shreveport|   LA| 32.4764| -93.8774|RentDigs.com|1568744696|               Other|\n",
      "|5508671891|housing/rent/apar...|Run provides one ...|Virginia for inde...|AC,Cable or Satel...|      1.0|     1.0|     USD| No|Thumbnail|   Cats,Dogs|  851|         $851|   Monthly|        620|   null|   Richmond|   VA| 37.6108|   -77.44|RentDigs.com|1568744972|               Other|\n",
      "|5508672927|housing/rent/apar...|Two BR - Preston ...|And 3 beds apartm...|                null|      2.0|     2.0|     USD| No|Thumbnail|        null| 1202|       $1,202|   Monthly|       1104|   null|     Toledo|   OH|  41.645| -83.5484|RentDigs.com|1568745017|               Other|\n",
      "|5508673537|housing/rent/apar...|One BR Apartment ...|Square footage: 1...|                null|      1.0|     1.0|     USD| No|Thumbnail|   Cats,Dogs| 2152|       $2,152|   Monthly|       1008|   null|     Dallas|   TX| 32.7809| -96.8035|RentDigs.com|1568745054|              Dallas|\n",
      "|5508675951|housing/rent/apar...|Bright Stoughton,...|Square footage: 7...|AC,Gym,Parking,Pa...|      1.0|     1.0|     USD| No|Thumbnail|   Cats,Dogs| 1625|       $1,625|   Monthly|        725|   null|  Stoughton|   MA| 42.1246| -71.1089|RentDigs.com|1568745180|               Other|\n",
      "|5508677826|housing/rent/apar...|The Best of the B...|Presenting . prem...|             Parking|      1.0|     2.0|     USD| No|Thumbnail|        null|  847|         $847|   Monthly|        475|   null|  Bradenton|   FL| 27.4849| -82.5345|RentDigs.com|1568745265|               Other|\n",
      "|5508681765|housing/rent/apar...|Average Rent $4,9...|This beautiful 25...|Fireplace,Pool,Wa...|      1.5|     2.0|     USD| No|Thumbnail|        null| 4909|       $4,909|   Monthly|       1328|   null|Los Angeles|   CA| 34.0394|-118.2656|RentDigs.com|1568745429|         Los Angeles|\n",
      "|5508682814|housing/rent/apar...|Two BR Apartment ...|February and Marc...|   AC,Clubhouse,Pool|      2.0|     2.0|     USD| No|Thumbnail|   Cats,Dogs| 2275|       $2,275|   Monthly|        970|   null|  Bradenton|   FL| 27.5068|  -82.644|RentDigs.com|1568745471|               Other|\n",
      "|5508687153|housing/rent/apar...|Prominence Apartm...|Apartments in ! W...|Fireplace,Parking...|      2.0|     2.0|     USD| No|Thumbnail|   Cats,Dogs| 1503|       $1,503|   Monthly|       1190|   null|    Henrico|   VA| 37.6202| -77.6128|RentDigs.com|1568745695|               Other|\n",
      "|5508687613|housing/rent/apar...|Two BA \\ $5,170/m...|For inquiries 3 m...|    Gym,Hot Tub,Pool|      2.0|     2.0|     USD| No|Thumbnail|   Cats,Dogs| 5170|       $5,170|   Monthly|       1457|   null|Los Angeles|   CA| 34.0394|-118.2656|RentDigs.com|1568745720|         Los Angeles|\n",
      "|5508696216|housing/rent/apar...|Spacious, Modern ...|laminate flooring...|        Washer Dryer|      1.0|     1.0|     USD| No|Thumbnail|   Cats,Dogs| 1325|       $1,325|   Monthly|        738|   null|  Westbrook|   ME| 43.6846| -70.3559|RentDigs.com|1568746115|               Other|\n",
      "|5508698419|housing/rent/apar...|Apartment only fo...|Welcome home to S...|                null|      2.0|     3.0|     USD| No|Thumbnail|        null| 1225|       $1,225|   Monthly|       1115|   null|  Las Vegas|   NV|  36.193|-115.2946|RentDigs.com|1568746214|           Las Vegas|\n",
      "|5508698855|housing/rent/apar...|Over 1,040 sf in ...|Sunnydale Estates...|     Playground,Pool|      2.0|     2.0|     USD| No|Thumbnail|   Cats,Dogs|  785|         $785|   Monthly|       1040|   null|     Toledo|   OH|  41.705| -83.6059|RentDigs.com|1568746229|               Other|\n",
      "+----------+--------------------+--------------------+--------------------+--------------------+---------+--------+--------+---+---------+------------+-----+-------------+----------+-----------+-------+-----------+-----+--------+---------+------------+----------+--------------------+\n",
      "only showing top 20 rows\n",
      "\n"
     ]
    }
   ],
   "source": [
    "from pyspark.sql.functions import col, when\n",
    "cities_to_keep = ['Dallas', 'Denver', 'Los Angeles', 'Las Vegas', 'Arlington', 'Atlanta', 'Charlotte']\n",
    "\n",
    "df = df.withColumn(\n",
    "    'cityname_transformed',\n",
    "    when(col('cityname').isin(cities_to_keep), col('cityname')).otherwise('Other')\n",
    ")\n",
    "\n",
    "df.show()\n"
   ]
  },
  {
   "cell_type": "code",
   "execution_count": 9,
   "metadata": {},
   "outputs": [
    {
     "name": "stdout",
     "output_type": "stream",
     "text": [
      "+----------+--------------------+--------------------+--------------------+--------------------+---------+--------+--------+---+---------+------------+-----+-------------+----------+-----------+-------+-----------+-----+--------+---------+------------+----------+--------------------+------------------------+\n",
      "|        id|            category|               title|                body|           amenities|bathrooms|bedrooms|currency|fee|has_photo|pets_allowed|price|price_display|price_type|square_feet|address|   cityname|state|latitude|longitude|      source|      time|cityname_transformed|pets_allowed_transformed|\n",
      "+----------+--------------------+--------------------+--------------------+--------------------+---------+--------+--------+---+---------+------------+-----+-------------+----------+-----------+-------+-----------+-----+--------+---------+------------+----------+--------------------+------------------------+\n",
      "|5508654087|housing/rent/apar...|$1,287 / One BR -...|Square footage: 7...|Internet Access,P...|      1.0|     1.0|     USD| No|Thumbnail|        null| 1287|       $1,287|   Monthly|        744|   null|   Richmond|   VA| 37.5173| -77.5044|RentDigs.com|1568743976|               Other|                      No|\n",
      "|5508654607|housing/rent/apar...|Be among the firs...|Our community of ...|Gym,Pool,Washer D...|      1.0|     1.0|     USD| No|Thumbnail|        null| 2669|       $2,669|   Monthly|        713|   null|Los Angeles|   CA| 34.0451|-118.2414|RentDigs.com|1568744007|         Los Angeles|                      No|\n",
      "|5508654638|housing/rent/apar...|One BR Apartment ...|South of the Jame...|Gym,Playground,Po...|      1.0|     1.0|     USD| No|Thumbnail|   Cats,Dogs|  990|         $990|   Monthly|        854|   null|   Richmond|   VA| 37.5173| -77.5044|RentDigs.com|1568744008|               Other|                     Yes|\n",
      "|5508657700|housing/rent/apar...|Lovely Maumee, On...|Welcome to Valley...|AC,Cable or Satel...|      1.0|     1.0|     USD| No|Thumbnail|   Cats,Dogs|  615|         $615|   Monthly|        668|   null|     Maumee|   OH| 41.5781| -83.6642|RentDigs.com|1568744152|               Other|                     Yes|\n",
      "|5508658740|housing/rent/apar...|Apartment in quie...|Welcome to Valley...|AC,Cable or Satel...|      1.0|     1.0|     USD| No|Thumbnail|   Cats,Dogs|  670|         $670|   Monthly|        759|   null|     Maumee|   OH| 41.5781| -83.6642|RentDigs.com|1568744210|               Other|                     Yes|\n",
      "|5508665899|housing/rent/apar...|Apartment only fo...|Apartment for ren...|AC,Clubhouse,Dish...|      1.0|     2.0|     USD| No|Thumbnail|   Cats,Dogs| 1755|       $1,755|   Monthly|        511|   null|East Orange|   NJ| 40.7647| -74.2119|RentDigs.com|1568744683|               Other|                     Yes|\n",
      "|5508666040|housing/rent/apar...|Move-in condition...|Square footage: 7...|Clubhouse,Gym,Par...|      1.0|     1.0|     USD| No|Thumbnail|        null| 1045|       $1,045|   Monthly|        751|   null|  Las Vegas|   NV| 36.1198|-115.0497|RentDigs.com|1568744694|           Las Vegas|                      No|\n",
      "|5508666072|housing/rent/apar...|Apartment - must ...|Summer Pointe Apa...|Clubhouse,Firepla...|      1.0|     1.0|     USD| No|Thumbnail|        null|  620|         $620|   Monthly|        575|   null| Shreveport|   LA| 32.4764| -93.8774|RentDigs.com|1568744696|               Other|                      No|\n",
      "|5508671891|housing/rent/apar...|Run provides one ...|Virginia for inde...|AC,Cable or Satel...|      1.0|     1.0|     USD| No|Thumbnail|   Cats,Dogs|  851|         $851|   Monthly|        620|   null|   Richmond|   VA| 37.6108|   -77.44|RentDigs.com|1568744972|               Other|                     Yes|\n",
      "|5508672927|housing/rent/apar...|Two BR - Preston ...|And 3 beds apartm...|                null|      2.0|     2.0|     USD| No|Thumbnail|        null| 1202|       $1,202|   Monthly|       1104|   null|     Toledo|   OH|  41.645| -83.5484|RentDigs.com|1568745017|               Other|                      No|\n",
      "|5508673537|housing/rent/apar...|One BR Apartment ...|Square footage: 1...|                null|      1.0|     1.0|     USD| No|Thumbnail|   Cats,Dogs| 2152|       $2,152|   Monthly|       1008|   null|     Dallas|   TX| 32.7809| -96.8035|RentDigs.com|1568745054|              Dallas|                     Yes|\n",
      "|5508675951|housing/rent/apar...|Bright Stoughton,...|Square footage: 7...|AC,Gym,Parking,Pa...|      1.0|     1.0|     USD| No|Thumbnail|   Cats,Dogs| 1625|       $1,625|   Monthly|        725|   null|  Stoughton|   MA| 42.1246| -71.1089|RentDigs.com|1568745180|               Other|                     Yes|\n",
      "|5508677826|housing/rent/apar...|The Best of the B...|Presenting . prem...|             Parking|      1.0|     2.0|     USD| No|Thumbnail|        null|  847|         $847|   Monthly|        475|   null|  Bradenton|   FL| 27.4849| -82.5345|RentDigs.com|1568745265|               Other|                      No|\n",
      "|5508681765|housing/rent/apar...|Average Rent $4,9...|This beautiful 25...|Fireplace,Pool,Wa...|      1.5|     2.0|     USD| No|Thumbnail|        null| 4909|       $4,909|   Monthly|       1328|   null|Los Angeles|   CA| 34.0394|-118.2656|RentDigs.com|1568745429|         Los Angeles|                      No|\n",
      "|5508682814|housing/rent/apar...|Two BR Apartment ...|February and Marc...|   AC,Clubhouse,Pool|      2.0|     2.0|     USD| No|Thumbnail|   Cats,Dogs| 2275|       $2,275|   Monthly|        970|   null|  Bradenton|   FL| 27.5068|  -82.644|RentDigs.com|1568745471|               Other|                     Yes|\n",
      "|5508687153|housing/rent/apar...|Prominence Apartm...|Apartments in ! W...|Fireplace,Parking...|      2.0|     2.0|     USD| No|Thumbnail|   Cats,Dogs| 1503|       $1,503|   Monthly|       1190|   null|    Henrico|   VA| 37.6202| -77.6128|RentDigs.com|1568745695|               Other|                     Yes|\n",
      "|5508687613|housing/rent/apar...|Two BA \\ $5,170/m...|For inquiries 3 m...|    Gym,Hot Tub,Pool|      2.0|     2.0|     USD| No|Thumbnail|   Cats,Dogs| 5170|       $5,170|   Monthly|       1457|   null|Los Angeles|   CA| 34.0394|-118.2656|RentDigs.com|1568745720|         Los Angeles|                     Yes|\n",
      "|5508696216|housing/rent/apar...|Spacious, Modern ...|laminate flooring...|        Washer Dryer|      1.0|     1.0|     USD| No|Thumbnail|   Cats,Dogs| 1325|       $1,325|   Monthly|        738|   null|  Westbrook|   ME| 43.6846| -70.3559|RentDigs.com|1568746115|               Other|                     Yes|\n",
      "|5508698419|housing/rent/apar...|Apartment only fo...|Welcome home to S...|                null|      2.0|     3.0|     USD| No|Thumbnail|        null| 1225|       $1,225|   Monthly|       1115|   null|  Las Vegas|   NV|  36.193|-115.2946|RentDigs.com|1568746214|           Las Vegas|                      No|\n",
      "|5508698855|housing/rent/apar...|Over 1,040 sf in ...|Sunnydale Estates...|     Playground,Pool|      2.0|     2.0|     USD| No|Thumbnail|   Cats,Dogs|  785|         $785|   Monthly|       1040|   null|     Toledo|   OH|  41.705| -83.6059|RentDigs.com|1568746229|               Other|                     Yes|\n",
      "+----------+--------------------+--------------------+--------------------+--------------------+---------+--------+--------+---+---------+------------+-----+-------------+----------+-----------+-------+-----------+-----+--------+---------+------------+----------+--------------------+------------------------+\n",
      "only showing top 20 rows\n",
      "\n"
     ]
    }
   ],
   "source": [
    "from pyspark.sql.functions import when, col\n",
    "\n",
    "df = df.withColumn(\n",
    "    \"pets_allowed_transformed\",\n",
    "    when(col(\"pets_allowed\").isin(\"Cats\", \"Dogs\", \"Cats,Dogs\", \"Cats,Dogs,None\"), \"Yes\").otherwise(\"No\"))\n",
    "\n",
    "df.show(20)\n"
   ]
  },
  {
   "cell_type": "code",
   "execution_count": 10,
   "metadata": {},
   "outputs": [],
   "source": [
    "df = df.withColumn(\n",
    "    \"has_photo_transformed\",\n",
    "    when(col(\"has_photo\").isin(\"Yes\", \"Thumbnail\"), \"Yes\").otherwise(\"No\"))"
   ]
  },
  {
   "cell_type": "code",
   "execution_count": 11,
   "metadata": {},
   "outputs": [],
   "source": [
    "df = df.fillna({\"bathrooms\": 0})\n",
    "df = df.fillna({\"bedrooms\": 0})\n",
    "df = df.dropna(subset=['price'])"
   ]
  },
  {
   "cell_type": "code",
   "execution_count": 12,
   "metadata": {},
   "outputs": [
    {
     "name": "stdout",
     "output_type": "stream",
     "text": [
      "+--------+\n",
      "|bedrooms|\n",
      "+--------+\n",
      "|     9.0|\n",
      "|     5.0|\n",
      "|     7.0|\n",
      "|     2.0|\n",
      "|     3.0|\n",
      "|     1.0|\n",
      "|     6.0|\n",
      "|     8.0|\n",
      "|     4.0|\n",
      "|     0.0|\n",
      "+--------+\n",
      "\n",
      "+---------+\n",
      "|bathrooms|\n",
      "+---------+\n",
      "|      5.0|\n",
      "|      5.5|\n",
      "|      2.5|\n",
      "|      8.5|\n",
      "|      7.0|\n",
      "|      2.0|\n",
      "|      3.0|\n",
      "|      1.5|\n",
      "|      3.5|\n",
      "|      1.0|\n",
      "|      6.0|\n",
      "|      8.0|\n",
      "|      4.5|\n",
      "|      4.0|\n",
      "|      0.0|\n",
      "+---------+\n",
      "\n"
     ]
    }
   ],
   "source": [
    "df.select(\"bedrooms\").distinct().show()\n",
    "df.select(\"bathrooms\").distinct().show()"
   ]
  },
  {
   "cell_type": "code",
   "execution_count": 13,
   "metadata": {},
   "outputs": [
    {
     "name": "stdout",
     "output_type": "stream",
     "text": [
      "+----------+--------------------+-----+\n",
      "|        id|           amenities|price|\n",
      "+----------+--------------------+-----+\n",
      "|5508654087|Internet Access,P...| 1287|\n",
      "|5508654149|      Fireplace,Pool|  860|\n",
      "|5508654460|AC,Clubhouse,Dish...|  850|\n",
      "|5508654607|Gym,Pool,Washer D...| 2669|\n",
      "|5508654638|Gym,Playground,Po...|  990|\n",
      "|5508655416|                null| 2395|\n",
      "|5508655471|Gym,Pool,Washer D...| 2184|\n",
      "|5508655790|Gym,Parking,Pool,...|  853|\n",
      "|5508657700|AC,Cable or Satel...|  615|\n",
      "|5508657758|AC,Clubhouse,Gym,...| 2495|\n",
      "|5508657770|AC,Cable or Satel...|  700|\n",
      "|5508658636|AC,Clubhouse,Gym,...| 2095|\n",
      "|5508658740|AC,Cable or Satel...|  670|\n",
      "|5508658972|AC,Cable or Satel...|  499|\n",
      "|5508662051|Fireplace,Gated,G...| 1060|\n",
      "|5508662767|            Gym,Pool| 2424|\n",
      "|5508664910|Parking,Pool,Refr...| 2560|\n",
      "|5508665196|AC,Clubhouse,Dish...| 1930|\n",
      "|5508665258|  Clubhouse,Gym,Pool| 1280|\n",
      "|5508665899|AC,Clubhouse,Dish...| 1755|\n",
      "+----------+--------------------+-----+\n",
      "only showing top 20 rows\n",
      "\n"
     ]
    },
    {
     "data": {
      "text/plain": [
       "None"
      ]
     },
     "metadata": {},
     "output_type": "display_data"
    }
   ],
   "source": [
    "df_amenities = df.select('id', 'amenities', 'price')\n",
    "\n",
    "display(df_amenities.show())"
   ]
  },
  {
   "cell_type": "code",
   "execution_count": 14,
   "metadata": {},
   "outputs": [],
   "source": [
    "from pyspark.sql import functions as F\n",
    "from pyspark.sql.functions import col\n",
    "\n",
    "df_amenities = df_amenities.withColumn('amenities', F.when(F.col('amenities') == 'null', 'None').otherwise(F.col('amenities')))"
   ]
  },
  {
   "cell_type": "code",
   "execution_count": 15,
   "metadata": {},
   "outputs": [
    {
     "name": "stdout",
     "output_type": "stream",
     "text": [
      "+----------+----------------+-----+\n",
      "|        id|       amenities|price|\n",
      "+----------+----------------+-----+\n",
      "|5508654087| Internet Access| 1287|\n",
      "|5508654087|         Parking| 1287|\n",
      "|5508654087|      Patio/Deck| 1287|\n",
      "|5508654087|            Pool| 1287|\n",
      "|5508654087|         Storage| 1287|\n",
      "|5508654087|              TV| 1287|\n",
      "|5508654087|    Washer Dryer| 1287|\n",
      "|5508654149|       Fireplace|  860|\n",
      "|5508654149|            Pool|  860|\n",
      "|5508654460|              AC|  850|\n",
      "|5508654460|       Clubhouse|  850|\n",
      "|5508654460|      Dishwasher|  850|\n",
      "|5508654460|Garbage Disposal|  850|\n",
      "|5508654460|             Gym|  850|\n",
      "|5508654460|         Parking|  850|\n",
      "|5508654460|      Patio/Deck|  850|\n",
      "|5508654460|      Playground|  850|\n",
      "|5508654460|            Pool|  850|\n",
      "|5508654607|             Gym| 2669|\n",
      "|5508654607|            Pool| 2669|\n",
      "+----------+----------------+-----+\n",
      "only showing top 20 rows\n",
      "\n"
     ]
    },
    {
     "data": {
      "text/plain": [
       "None"
      ]
     },
     "metadata": {},
     "output_type": "display_data"
    }
   ],
   "source": [
    "df_amenities = df_amenities.withColumn('amenities', F.explode(F.split(F.col('amenities'), ',')))\n",
    "\n",
    "display(df_amenities.show())"
   ]
  },
  {
   "cell_type": "code",
   "execution_count": 16,
   "metadata": {},
   "outputs": [
    {
     "name": "stdout",
     "output_type": "stream",
     "text": [
      "+----------+-----+---+-----+----------+------------------+---------+----------+-------+--------+---------+----------------+-----+----+---+-------+---------------+------+-------+----------+----------+----+------------+-------+---+------+----+------------+-----------+\n",
      "|        id|price| AC|Alarm|Basketball|Cable or Satellite|Clubhouse|Dishwasher|Doorman|Elevator|Fireplace|Garbage Disposal|Gated|Golf|Gym|Hot Tub|Internet Access|Luxury|Parking|Patio/Deck|Playground|Pool|Refrigerator|Storage| TV|Tennis|View|Washer Dryer|Wood Floors|\n",
      "+----------+-----+---+-----+----------+------------------+---------+----------+-------+--------+---------+----------------+-----+----+---+-------+---------------+------+-------+----------+----------+----+------------+-------+---+------+----+------------+-----------+\n",
      "|5508654087| 1287|  0|    0|         0|                 0|        0|         0|      0|       0|        0|               0|    0|   0|  0|      0|              1|     0|      1|         1|         0|   1|           0|      1|  1|     0|   0|           1|          0|\n",
      "|5508654149|  860|  0|    0|         0|                 0|        0|         0|      0|       0|        1|               0|    0|   0|  0|      0|              0|     0|      0|         0|         0|   1|           0|      0|  0|     0|   0|           0|          0|\n",
      "|5508654460|  850|  1|    0|         0|                 0|        1|         1|      0|       0|        0|               1|    0|   0|  1|      0|              0|     0|      1|         1|         1|   1|           0|      0|  0|     0|   0|           0|          0|\n",
      "|5508654607| 2669|  0|    0|         0|                 0|        0|         0|      0|       0|        0|               0|    0|   0|  1|      0|              0|     0|      0|         0|         0|   1|           0|      0|  0|     0|   0|           1|          0|\n",
      "|5508654638|  990|  0|    0|         0|                 0|        0|         0|      0|       0|        0|               0|    0|   0|  1|      0|              0|     0|      0|         0|         1|   1|           0|      0|  1|     1|   0|           1|          0|\n",
      "|5508655416| 2395|  0|    0|         0|                 0|        0|         0|      0|       0|        0|               0|    0|   0|  0|      0|              0|     0|      0|         0|         0|   0|           0|      0|  0|     0|   0|           0|          0|\n",
      "|5508655471| 2184|  0|    0|         0|                 0|        0|         0|      0|       0|        0|               0|    0|   0|  1|      0|              0|     0|      0|         0|         0|   1|           0|      0|  0|     0|   0|           1|          0|\n",
      "|5508655790|  853|  0|    0|         0|                 0|        0|         0|      0|       0|        0|               0|    0|   0|  1|      0|              0|     0|      1|         0|         0|   1|           0|      0|  0|     0|   0|           1|          0|\n",
      "|5508657700|  615|  1|    0|         0|                 1|        0|         1|      0|       0|        0|               0|    0|   0|  1|      0|              0|     0|      1|         0|         0|   1|           0|      1|  0|     0|   0|           0|          0|\n",
      "|5508657758| 2495|  1|    0|         0|                 0|        1|         0|      0|       0|        0|               0|    0|   0|  1|      0|              1|     0|      0|         0|         0|   0|           0|      0|  0|     0|   0|           1|          0|\n",
      "|5508657770|  700|  1|    0|         0|                 1|        0|         1|      0|       0|        0|               0|    0|   0|  1|      0|              0|     0|      1|         1|         0|   1|           1|      0|  0|     0|   0|           1|          0|\n",
      "|5508658636| 2095|  1|    0|         0|                 0|        1|         0|      0|       0|        0|               0|    0|   0|  1|      0|              1|     0|      1|         0|         0|   0|           0|      0|  0|     0|   0|           1|          0|\n",
      "|5508658740|  670|  1|    0|         0|                 1|        0|         1|      0|       0|        0|               0|    0|   0|  1|      0|              0|     0|      1|         0|         0|   1|           0|      1|  0|     0|   0|           0|          0|\n",
      "|5508658972|  499|  1|    0|         0|                 1|        1|         1|      0|       0|        0|               0|    0|   0|  0|      0|              0|     0|      0|         1|         1|   0|           0|      0|  0|     1|   0|           1|          0|\n",
      "|5508662051| 1060|  0|    0|         0|                 0|        0|         0|      0|       0|        1|               0|    1|   0|  1|      0|              1|     0|      1|         1|         0|   1|           0|      1|  1|     0|   0|           1|          0|\n",
      "|5508662767| 2424|  0|    0|         0|                 0|        0|         0|      0|       0|        0|               0|    0|   0|  1|      0|              0|     0|      0|         0|         0|   1|           0|      0|  0|     0|   0|           0|          0|\n",
      "|5508664910| 2560|  0|    0|         0|                 0|        0|         0|      0|       0|        0|               0|    0|   0|  0|      0|              0|     0|      1|         0|         0|   1|           1|      1|  0|     0|   0|           1|          1|\n",
      "|5508665196| 1930|  1|    0|         0|                 0|        1|         1|      0|       0|        0|               0|    1|   0|  1|      0|              1|     0|      0|         0|         0|   0|           1|      1|  0|     0|   0|           0|          0|\n",
      "|5508665258| 1280|  0|    0|         0|                 0|        1|         0|      0|       0|        0|               0|    0|   0|  1|      0|              0|     0|      0|         0|         0|   1|           0|      0|  0|     0|   0|           0|          0|\n",
      "|5508665899| 1755|  1|    0|         0|                 0|        1|         1|      0|       1|        0|               1|    0|   0|  1|      0|              1|     0|      1|         1|         0|   0|           1|      1|  0|     0|   0|           1|          0|\n",
      "+----------+-----+---+-----+----------+------------------+---------+----------+-------+--------+---------+----------------+-----+----+---+-------+---------------+------+-------+----------+----------+----+------------+-------+---+------+----+------------+-----------+\n",
      "only showing top 20 rows\n",
      "\n"
     ]
    },
    {
     "data": {
      "text/plain": [
       "None"
      ]
     },
     "metadata": {},
     "output_type": "display_data"
    }
   ],
   "source": [
    "df_amenities.select('amenities').distinct().toPandas()\n",
    "\n",
    "pivot_amenities = df_amenities.groupBy(\"id\", \"price\").pivot(\"amenities\").agg(F.lit(1)).na.fill(0)\n",
    "\n",
    "pivot_amenities = pivot_amenities.drop('None')\n",
    "\n",
    "display(pivot_amenities.show())"
   ]
  },
  {
   "cell_type": "code",
   "execution_count": 17,
   "metadata": {},
   "outputs": [
    {
     "name": "stdout",
     "output_type": "stream",
     "text": [
      "+----------+-----+--------------------+--------------------+--------------------+--------------------+---------+--------+--------+---+---------+------------+-------------+----------+-----------+-------+------------+-----+--------+---------+------------+----------+--------------------+------------------------+---------------------+---+-----+----------+------------------+---------+----------+-------+--------+---------+----------------+-----+----+---+-------+---------------+------+-------+----------+----------+----+------------+-------+---+------+----+------------+-----------+\n",
      "|        id|price|            category|               title|                body|           amenities|bathrooms|bedrooms|currency|fee|has_photo|pets_allowed|price_display|price_type|square_feet|address|    cityname|state|latitude|longitude|      source|      time|cityname_transformed|pets_allowed_transformed|has_photo_transformed| AC|Alarm|Basketball|Cable or Satellite|Clubhouse|Dishwasher|Doorman|Elevator|Fireplace|Garbage Disposal|Gated|Golf|Gym|Hot Tub|Internet Access|Luxury|Parking|Patio/Deck|Playground|Pool|Refrigerator|Storage| TV|Tennis|View|Washer Dryer|Wood Floors|\n",
      "+----------+-----+--------------------+--------------------+--------------------+--------------------+---------+--------+--------+---+---------+------------+-------------+----------+-----------+-------+------------+-----+--------+---------+------------+----------+--------------------+------------------------+---------------------+---+-----+----------+------------------+---------+----------+-------+--------+---------+----------------+-----+----+---+-------+---------------+------+-------+----------+----------+----+------------+-------+---+------+----+------------+-----------+\n",
      "|5508654087| 1287|housing/rent/apar...|$1,287 / One BR -...|Square footage: 7...|Internet Access,P...|      1.0|     1.0|     USD| No|Thumbnail|        null|       $1,287|   Monthly|        744|   null|    Richmond|   VA| 37.5173| -77.5044|RentDigs.com|1568743976|               Other|                      No|                  Yes|  0|    0|         0|                 0|        0|         0|      0|       0|        0|               0|    0|   0|  0|      0|              1|     0|      1|         1|         0|   1|           0|      1|  1|     0|   0|           1|          0|\n",
      "|5508654149|  860|housing/rent/apar...|This Apartment is...|apartments in a a...|      Fireplace,Pool|      2.0|     3.0|     USD| No|Thumbnail|        null|         $860|   Monthly|       1200|   null|Bossier City|   LA| 32.4865| -93.6726|RentDigs.com|1568743980|               Other|                      No|                  Yes|  0|    0|         0|                 0|        0|         0|      0|       0|        1|               0|    0|   0|  0|      0|              0|     0|      0|         0|         0|   1|           0|      0|  0|     0|   0|           0|          0|\n",
      "|5508654460|  850|housing/rent/apar...|Bright Las Vegas,...|Discover a new of...|AC,Clubhouse,Dish...|      2.0|     2.0|     USD| No|Thumbnail|   Cats,Dogs|         $850|   Monthly|        900|   null|   Las Vegas|   NV| 36.1045|-115.0677|RentDigs.com|1568743999|           Las Vegas|                     Yes|                  Yes|  1|    0|         0|                 0|        1|         1|      0|       0|        0|               1|    0|   0|  1|      0|              0|     0|      1|         1|         1|   1|           0|      0|  0|     0|   0|           0|          0|\n",
      "|5508654607| 2669|housing/rent/apar...|Be among the firs...|Our community of ...|Gym,Pool,Washer D...|      1.0|     1.0|     USD| No|Thumbnail|        null|       $2,669|   Monthly|        713|   null| Los Angeles|   CA| 34.0451|-118.2414|RentDigs.com|1568744007|         Los Angeles|                      No|                  Yes|  0|    0|         0|                 0|        0|         0|      0|       0|        0|               0|    0|   0|  1|      0|              0|     0|      0|         0|         0|   1|           0|      0|  0|     0|   0|           1|          0|\n",
      "|5508654638|  990|housing/rent/apar...|One BR Apartment ...|South of the Jame...|Gym,Playground,Po...|      1.0|     1.0|     USD| No|Thumbnail|   Cats,Dogs|         $990|   Monthly|        854|   null|    Richmond|   VA| 37.5173| -77.5044|RentDigs.com|1568744008|               Other|                     Yes|                  Yes|  0|    0|         0|                 0|        0|         0|      0|       0|        0|               0|    0|   0|  1|      0|              0|     0|      0|         0|         1|   1|           0|      0|  1|     1|   0|           1|          0|\n",
      "|5508655416| 2395|housing/rent/apar...|Up to $500 Off On...|Most of these Nor...|                null|      1.5|     3.0|     USD| No|Thumbnail|   Cats,Dogs|       $2,395|   Monthly|       1430|   null|     Norwood|   MA| 42.1865|  -71.202|RentDigs.com|1568744053|               Other|                     Yes|                  Yes|  0|    0|         0|                 0|        0|         0|      0|       0|        0|               0|    0|   0|  0|      0|              0|     0|      0|         0|         0|   0|           0|      0|  0|     0|   0|           0|          0|\n",
      "|5508655471| 2184|housing/rent/apar...|Be among the firs...|Our community of ...|Gym,Pool,Washer D...|      1.0|     2.0|     USD| No|Thumbnail|        null|       $2,184|   Monthly|        543|   null| Los Angeles|   CA| 34.0451|-118.2414|RentDigs.com|1568744057|         Los Angeles|                      No|                  Yes|  0|    0|         0|                 0|        0|         0|      0|       0|        0|               0|    0|   0|  1|      0|              0|     0|      0|         0|         0|   1|           0|      0|  0|     0|   0|           1|          0|\n",
      "|5508655790|  853|housing/rent/apar...|Two BR Apartment ...|Square footage: 9...|Gym,Parking,Pool,...|      2.0|     2.0|     USD| No|Thumbnail|        null|         $853|   Monthly|        967|   null|    Clemmons|   NC| 36.0325|  -80.396|RentDigs.com|1568744075|               Other|                      No|                  Yes|  0|    0|         0|                 0|        0|         0|      0|       0|        0|               0|    0|   0|  1|      0|              0|     0|      1|         0|         0|   1|           0|      0|  0|     0|   0|           1|          0|\n",
      "|5508657700|  615|housing/rent/apar...|Lovely Maumee, On...|Welcome to Valley...|AC,Cable or Satel...|      1.0|     1.0|     USD| No|Thumbnail|   Cats,Dogs|         $615|   Monthly|        668|   null|      Maumee|   OH| 41.5781| -83.6642|RentDigs.com|1568744152|               Other|                     Yes|                  Yes|  1|    0|         0|                 1|        0|         1|      0|       0|        0|               0|    0|   0|  1|      0|              0|     0|      1|         0|         0|   1|           0|      1|  0|     0|   0|           0|          0|\n",
      "|5508657758| 2495|housing/rent/apar...|Two BA - 1,300 sq...|Norwood Gardens, ...|AC,Clubhouse,Gym,...|      2.0|     3.0|     USD| No|Thumbnail|        null|       $2,495|   Monthly|       1300|   null|     Norwood|   MA| 42.1865|  -71.202|RentDigs.com|1568744155|               Other|                      No|                  Yes|  1|    0|         0|                 0|        1|         0|      0|       0|        0|               0|    0|   0|  1|      0|              1|     0|      0|         0|         0|   0|           0|      0|  0|     0|   0|           1|          0|\n",
      "|5508657770|  700|housing/rent/apar...|Shreveport - supe...|Find the quality ...|AC,Cable or Satel...|      1.0|     1.0|     USD| No|Thumbnail|   Cats,Dogs|         $700|   Monthly|        673|   null|  Shreveport|   LA| 32.3841| -93.6685|RentDigs.com|1568744155|               Other|                     Yes|                  Yes|  1|    0|         0|                 1|        0|         1|      0|       0|        0|               0|    0|   0|  1|      0|              0|     0|      1|         1|         0|   1|           1|      0|  0|     0|   0|           1|          0|\n",
      "|5508658636| 2095|housing/rent/apar...|2014's RHA's Comm...|Square footage: 1...|AC,Clubhouse,Gym,...|      2.0|     2.0|     USD| No|Thumbnail|   Cats,Dogs|       $2,095|   Monthly|       1050|   null|     Norwood|   MA| 42.1865|  -71.202|RentDigs.com|1568744203|               Other|                     Yes|                  Yes|  1|    0|         0|                 0|        1|         0|      0|       0|        0|               0|    0|   0|  1|      0|              1|     0|      1|         0|         0|   0|           0|      0|  0|     0|   0|           1|          0|\n",
      "|5508658740|  670|housing/rent/apar...|Apartment in quie...|Welcome to Valley...|AC,Cable or Satel...|      1.0|     1.0|     USD| No|Thumbnail|   Cats,Dogs|         $670|   Monthly|        759|   null|      Maumee|   OH| 41.5781| -83.6642|RentDigs.com|1568744210|               Other|                     Yes|                  Yes|  1|    0|         0|                 1|        0|         1|      0|       0|        0|               0|    0|   0|  1|      0|              0|     0|      1|         0|         0|   1|           0|      1|  0|     0|   0|           0|          0|\n",
      "|5508658972|  499|housing/rent/apar...|Charming One BR, ...|For the best in S...|AC,Cable or Satel...|      1.0|     1.0|     USD| No|Thumbnail|   Cats,Dogs|         $499|   Monthly|        400|   null|  Shreveport|   LA| 32.3841| -93.6685|RentDigs.com|1568744227|               Other|                     Yes|                  Yes|  1|    0|         0|                 1|        1|         1|      0|       0|        0|               0|    0|   0|  0|      0|              0|     0|      0|         1|         1|   0|           0|      0|  0|     1|   0|           1|          0|\n",
      "|5508662051| 1060|housing/rent/apar...|Prominence Apartm...|Square footage: 7...|Fireplace,Gated,G...|      1.0|     1.0|     USD| No|Thumbnail|        null|       $1,060|   Monthly|        796|   null|   Las Vegas|   NV| 36.1198|-115.0497|RentDigs.com|1568744471|           Las Vegas|                      No|                  Yes|  0|    0|         0|                 0|        0|         0|      0|       0|        1|               0|    1|   0|  1|      0|              1|     0|      1|         1|         0|   1|           0|      1|  1|     0|   0|           1|          0|\n",
      "|5508662767| 2424|housing/rent/apar...|Amazing Two BR, T...|CONVENIENCE, CLAS...|            Gym,Pool|      2.0|     2.0|     USD| No|Thumbnail|   Cats,Dogs|       $2,424|   Monthly|       1470|   null|      Dallas|   TX| 32.7809| -96.8035|RentDigs.com|1568744513|              Dallas|                     Yes|                  Yes|  0|    0|         0|                 0|        0|         0|      0|       0|        0|               0|    0|   0|  1|      0|              0|     0|      0|         0|         0|   1|           0|      0|  0|     0|   0|           0|          0|\n",
      "|5508664910| 2560|housing/rent/apar...|Outstanding Oppor...|We are the addres...|Parking,Pool,Refr...|      2.0|     2.0|     USD| No|Thumbnail|   Cats,Dogs|       $2,560|   Monthly|       1416|   null|      Dallas|   TX| 32.7809| -96.8035|RentDigs.com|1568744615|              Dallas|                     Yes|                  Yes|  0|    0|         0|                 0|        0|         0|      0|       0|        0|               0|    0|   0|  0|      0|              0|     0|      1|         0|         0|   1|           1|      1|  0|     0|   0|           1|          1|\n",
      "|5508665196| 1930|housing/rent/apar...|Denver - 2bd/Two ...|Square footage: 7...|AC,Clubhouse,Dish...|      2.0|     2.0|     USD| No|Thumbnail|   Cats,Dogs|       $1,930|   Monthly|        791|   null|      Denver|   CO| 39.7673|-105.0151|RentDigs.com|1568744635|              Denver|                     Yes|                  Yes|  1|    0|         0|                 0|        1|         1|      0|       0|        0|               0|    1|   0|  1|      0|              1|     0|      0|         0|         0|   0|           1|      1|  0|     0|   0|           0|          0|\n",
      "|5508665258| 1280|housing/rent/apar...|Bright Las Vegas,...|Square footage: 1...|  Clubhouse,Gym,Pool|      2.0|     2.0|     USD| No|Thumbnail|        null|       $1,280|   Monthly|       1140|   null|   Las Vegas|   NV| 36.1198|-115.0497|RentDigs.com|1568744639|           Las Vegas|                      No|                  Yes|  0|    0|         0|                 0|        1|         0|      0|       0|        0|               0|    0|   0|  1|      0|              0|     0|      0|         0|         0|   1|           0|      0|  0|     0|   0|           0|          0|\n",
      "|5508665899| 1755|housing/rent/apar...|Apartment only fo...|Apartment for ren...|AC,Clubhouse,Dish...|      1.0|     2.0|     USD| No|Thumbnail|   Cats,Dogs|       $1,755|   Monthly|        511|   null| East Orange|   NJ| 40.7647| -74.2119|RentDigs.com|1568744683|               Other|                     Yes|                  Yes|  1|    0|         0|                 0|        1|         1|      0|       1|        0|               1|    0|   0|  1|      0|              1|     0|      1|         1|         0|   0|           1|      1|  0|     0|   0|           1|          0|\n",
      "+----------+-----+--------------------+--------------------+--------------------+--------------------+---------+--------+--------+---+---------+------------+-------------+----------+-----------+-------+------------+-----+--------+---------+------------+----------+--------------------+------------------------+---------------------+---+-----+----------+------------------+---------+----------+-------+--------+---------+----------------+-----+----+---+-------+---------------+------+-------+----------+----------+----+------------+-------+---+------+----+------------+-----------+\n",
      "only showing top 20 rows\n",
      "\n"
     ]
    },
    {
     "data": {
      "text/plain": [
       "None"
      ]
     },
     "metadata": {},
     "output_type": "display_data"
    }
   ],
   "source": [
    "df_join = df.join(pivot_amenities, ['id', 'price'], \"right\")\n",
    "\n",
    "display(df_join.show())"
   ]
  },
  {
   "cell_type": "code",
   "execution_count": 18,
   "metadata": {},
   "outputs": [],
   "source": [
    "from pyspark.sql.window import Window\n",
    "\n",
    "df_classes = df_join.select('id','price').orderBy('price',ascending=True)\n",
    "\n",
    "mediana = df_classes.count()/2\n",
    "\n",
    "X = Window.orderBy('price')\n",
    "\n",
    "df_classes = df_classes.withColumn('row_num', F.row_number().over(X))\n",
    "\n",
    "df_classes = df_classes.withColumn(\n",
    "    \"class\", \n",
    "    F.when(df_classes[\"row_num\"] <= mediana, F.lit('B')).otherwise(F.lit('A'))\n",
    ").drop(\"row_num\")"
   ]
  },
  {
   "cell_type": "code",
   "execution_count": 19,
   "metadata": {},
   "outputs": [
    {
     "data": {
      "text/plain": [
       "9994"
      ]
     },
     "metadata": {},
     "output_type": "display_data"
    },
    {
     "name": "stdout",
     "output_type": "stream",
     "text": [
      "+----------+-----+--------------------+--------------------+--------------------+--------------------+---------+--------+--------+---+---------+------------+-------------+----------+-----------+-------+-----------+-----+--------+---------+------------+----------+--------------------+------------------------+---------------------+-----------+\n",
      "|        id|price|            category|               title|                body|           amenities|bathrooms|bedrooms|currency|fee|has_photo|pets_allowed|price_display|price_type|square_feet|address|   cityname|state|latitude|longitude|      source|      time|cityname_transformed|pets_allowed_transformed|has_photo_transformed|price_class|\n",
      "+----------+-----+--------------------+--------------------+--------------------+--------------------+---------+--------+--------+---+---------+------------+-------------+----------+-----------+-------+-----------+-----+--------+---------+------------+----------+--------------------+------------------------+---------------------+-----------+\n",
      "|5508654087| 1287|housing/rent/apar...|$1,287 / One BR -...|Square footage: 7...|Internet Access,P...|      1.0|     1.0|     USD| No|Thumbnail|        null|       $1,287|   Monthly|        744|   null|   Richmond|   VA| 37.5173| -77.5044|RentDigs.com|1568743976|               Other|                      No|                  Yes|          A|\n",
      "|5508654607| 2669|housing/rent/apar...|Be among the firs...|Our community of ...|Gym,Pool,Washer D...|      1.0|     1.0|     USD| No|Thumbnail|        null|       $2,669|   Monthly|        713|   null|Los Angeles|   CA| 34.0451|-118.2414|RentDigs.com|1568744007|         Los Angeles|                      No|                  Yes|          A|\n",
      "|5508654638|  990|housing/rent/apar...|One BR Apartment ...|South of the Jame...|Gym,Playground,Po...|      1.0|     1.0|     USD| No|Thumbnail|   Cats,Dogs|         $990|   Monthly|        854|   null|   Richmond|   VA| 37.5173| -77.5044|RentDigs.com|1568744008|               Other|                     Yes|                  Yes|          B|\n",
      "|5508657700|  615|housing/rent/apar...|Lovely Maumee, On...|Welcome to Valley...|AC,Cable or Satel...|      1.0|     1.0|     USD| No|Thumbnail|   Cats,Dogs|         $615|   Monthly|        668|   null|     Maumee|   OH| 41.5781| -83.6642|RentDigs.com|1568744152|               Other|                     Yes|                  Yes|          B|\n",
      "|5508658740|  670|housing/rent/apar...|Apartment in quie...|Welcome to Valley...|AC,Cable or Satel...|      1.0|     1.0|     USD| No|Thumbnail|   Cats,Dogs|         $670|   Monthly|        759|   null|     Maumee|   OH| 41.5781| -83.6642|RentDigs.com|1568744210|               Other|                     Yes|                  Yes|          B|\n",
      "|5508665899| 1755|housing/rent/apar...|Apartment only fo...|Apartment for ren...|AC,Clubhouse,Dish...|      1.0|     2.0|     USD| No|Thumbnail|   Cats,Dogs|       $1,755|   Monthly|        511|   null|East Orange|   NJ| 40.7647| -74.2119|RentDigs.com|1568744683|               Other|                     Yes|                  Yes|          A|\n",
      "|5508666040| 1045|housing/rent/apar...|Move-in condition...|Square footage: 7...|Clubhouse,Gym,Par...|      1.0|     1.0|     USD| No|Thumbnail|        null|       $1,045|   Monthly|        751|   null|  Las Vegas|   NV| 36.1198|-115.0497|RentDigs.com|1568744694|           Las Vegas|                      No|                  Yes|          B|\n",
      "|5508666072|  620|housing/rent/apar...|Apartment - must ...|Summer Pointe Apa...|Clubhouse,Firepla...|      1.0|     1.0|     USD| No|Thumbnail|        null|         $620|   Monthly|        575|   null| Shreveport|   LA| 32.4764| -93.8774|RentDigs.com|1568744696|               Other|                      No|                  Yes|          B|\n",
      "|5508671891|  851|housing/rent/apar...|Run provides one ...|Virginia for inde...|AC,Cable or Satel...|      1.0|     1.0|     USD| No|Thumbnail|   Cats,Dogs|         $851|   Monthly|        620|   null|   Richmond|   VA| 37.6108|   -77.44|RentDigs.com|1568744972|               Other|                     Yes|                  Yes|          B|\n",
      "|5508672927| 1202|housing/rent/apar...|Two BR - Preston ...|And 3 beds apartm...|                null|      2.0|     2.0|     USD| No|Thumbnail|        null|       $1,202|   Monthly|       1104|   null|     Toledo|   OH|  41.645| -83.5484|RentDigs.com|1568745017|               Other|                      No|                  Yes|          B|\n",
      "|5508673537| 2152|housing/rent/apar...|One BR Apartment ...|Square footage: 1...|                null|      1.0|     1.0|     USD| No|Thumbnail|   Cats,Dogs|       $2,152|   Monthly|       1008|   null|     Dallas|   TX| 32.7809| -96.8035|RentDigs.com|1568745054|              Dallas|                     Yes|                  Yes|          A|\n",
      "|5508675951| 1625|housing/rent/apar...|Bright Stoughton,...|Square footage: 7...|AC,Gym,Parking,Pa...|      1.0|     1.0|     USD| No|Thumbnail|   Cats,Dogs|       $1,625|   Monthly|        725|   null|  Stoughton|   MA| 42.1246| -71.1089|RentDigs.com|1568745180|               Other|                     Yes|                  Yes|          A|\n",
      "|5508677826|  847|housing/rent/apar...|The Best of the B...|Presenting . prem...|             Parking|      1.0|     2.0|     USD| No|Thumbnail|        null|         $847|   Monthly|        475|   null|  Bradenton|   FL| 27.4849| -82.5345|RentDigs.com|1568745265|               Other|                      No|                  Yes|          B|\n",
      "|5508681765| 4909|housing/rent/apar...|Average Rent $4,9...|This beautiful 25...|Fireplace,Pool,Wa...|      1.5|     2.0|     USD| No|Thumbnail|        null|       $4,909|   Monthly|       1328|   null|Los Angeles|   CA| 34.0394|-118.2656|RentDigs.com|1568745429|         Los Angeles|                      No|                  Yes|          A|\n",
      "|5508682814| 2275|housing/rent/apar...|Two BR Apartment ...|February and Marc...|   AC,Clubhouse,Pool|      2.0|     2.0|     USD| No|Thumbnail|   Cats,Dogs|       $2,275|   Monthly|        970|   null|  Bradenton|   FL| 27.5068|  -82.644|RentDigs.com|1568745471|               Other|                     Yes|                  Yes|          A|\n",
      "|5508687153| 1503|housing/rent/apar...|Prominence Apartm...|Apartments in ! W...|Fireplace,Parking...|      2.0|     2.0|     USD| No|Thumbnail|   Cats,Dogs|       $1,503|   Monthly|       1190|   null|    Henrico|   VA| 37.6202| -77.6128|RentDigs.com|1568745695|               Other|                     Yes|                  Yes|          A|\n",
      "|5508687613| 5170|housing/rent/apar...|Two BA \\ $5,170/m...|For inquiries 3 m...|    Gym,Hot Tub,Pool|      2.0|     2.0|     USD| No|Thumbnail|   Cats,Dogs|       $5,170|   Monthly|       1457|   null|Los Angeles|   CA| 34.0394|-118.2656|RentDigs.com|1568745720|         Los Angeles|                     Yes|                  Yes|          A|\n",
      "|5508696216| 1325|housing/rent/apar...|Spacious, Modern ...|laminate flooring...|        Washer Dryer|      1.0|     1.0|     USD| No|Thumbnail|   Cats,Dogs|       $1,325|   Monthly|        738|   null|  Westbrook|   ME| 43.6846| -70.3559|RentDigs.com|1568746115|               Other|                     Yes|                  Yes|          A|\n",
      "|5508698419| 1225|housing/rent/apar...|Apartment only fo...|Welcome home to S...|                null|      2.0|     3.0|     USD| No|Thumbnail|        null|       $1,225|   Monthly|       1115|   null|  Las Vegas|   NV|  36.193|-115.2946|RentDigs.com|1568746214|           Las Vegas|                      No|                  Yes|          B|\n",
      "|5508698855|  785|housing/rent/apar...|Over 1,040 sf in ...|Sunnydale Estates...|     Playground,Pool|      2.0|     2.0|     USD| No|Thumbnail|   Cats,Dogs|         $785|   Monthly|       1040|   null|     Toledo|   OH|  41.705| -83.6059|RentDigs.com|1568746229|               Other|                     Yes|                  Yes|          B|\n",
      "+----------+-----+--------------------+--------------------+--------------------+--------------------+---------+--------+--------+---+---------+------------+-------------+----------+-----------+-------+-----------+-----+--------+---------+------------+----------+--------------------+------------------------+---------------------+-----------+\n",
      "only showing top 20 rows\n",
      "\n"
     ]
    },
    {
     "data": {
      "text/plain": [
       "None"
      ]
     },
     "metadata": {},
     "output_type": "display_data"
    }
   ],
   "source": [
    "df_join = df.join(df_classes, ['id', 'price'], \"left\")\n",
    "\n",
    "display(df.count())\n",
    "\n",
    "df = df_join.withColumnRenamed('class', 'price_class')\n",
    "\n",
    "display(df.show())"
   ]
  },
  {
   "cell_type": "code",
   "execution_count": 20,
   "metadata": {},
   "outputs": [
    {
     "name": "stdout",
     "output_type": "stream",
     "text": [
      "+----------+-----+--------------------+--------------------+--------------------+--------------------+---------+--------+--------+---+---------+------------+-------------+----------+-----------+-------+------------+-----+--------+---------+------------+----------+--------------------+------------------------+---------------------+-----------+---+-----+----------+------------------+---------+----------+-------+--------+---------+----------------+-----+----+---+-------+---------------+------+-------+----------+----------+----+------------+-------+---+------+----+------------+-----------+\n",
      "|        id|price|            category|               title|                body|           amenities|bathrooms|bedrooms|currency|fee|has_photo|pets_allowed|price_display|price_type|square_feet|address|    cityname|state|latitude|longitude|      source|      time|cityname_transformed|pets_allowed_transformed|has_photo_transformed|price_class| AC|Alarm|Basketball|Cable or Satellite|Clubhouse|Dishwasher|Doorman|Elevator|Fireplace|Garbage Disposal|Gated|Golf|Gym|Hot Tub|Internet Access|Luxury|Parking|Patio/Deck|Playground|Pool|Refrigerator|Storage| TV|Tennis|View|Washer Dryer|Wood Floors|\n",
      "+----------+-----+--------------------+--------------------+--------------------+--------------------+---------+--------+--------+---+---------+------------+-------------+----------+-----------+-------+------------+-----+--------+---------+------------+----------+--------------------+------------------------+---------------------+-----------+---+-----+----------+------------------+---------+----------+-------+--------+---------+----------------+-----+----+---+-------+---------------+------+-------+----------+----------+----+------------+-------+---+------+----+------------+-----------+\n",
      "|5508654087| 1287|housing/rent/apar...|$1,287 / One BR -...|Square footage: 7...|Internet Access,P...|      1.0|     1.0|     USD| No|Thumbnail|        null|       $1,287|   Monthly|        744|   null|    Richmond|   VA| 37.5173| -77.5044|RentDigs.com|1568743976|               Other|                      No|                  Yes|          A|  0|    0|         0|                 0|        0|         0|      0|       0|        0|               0|    0|   0|  0|      0|              1|     0|      1|         1|         0|   1|           0|      1|  1|     0|   0|           1|          0|\n",
      "|5508654149|  860|housing/rent/apar...|This Apartment is...|apartments in a a...|      Fireplace,Pool|      2.0|     3.0|     USD| No|Thumbnail|        null|         $860|   Monthly|       1200|   null|Bossier City|   LA| 32.4865| -93.6726|RentDigs.com|1568743980|               Other|                      No|                  Yes|          B|  0|    0|         0|                 0|        0|         0|      0|       0|        1|               0|    0|   0|  0|      0|              0|     0|      0|         0|         0|   1|           0|      0|  0|     0|   0|           0|          0|\n",
      "|5508654460|  850|housing/rent/apar...|Bright Las Vegas,...|Discover a new of...|AC,Clubhouse,Dish...|      2.0|     2.0|     USD| No|Thumbnail|   Cats,Dogs|         $850|   Monthly|        900|   null|   Las Vegas|   NV| 36.1045|-115.0677|RentDigs.com|1568743999|           Las Vegas|                     Yes|                  Yes|          B|  1|    0|         0|                 0|        1|         1|      0|       0|        0|               1|    0|   0|  1|      0|              0|     0|      1|         1|         1|   1|           0|      0|  0|     0|   0|           0|          0|\n",
      "|5508654607| 2669|housing/rent/apar...|Be among the firs...|Our community of ...|Gym,Pool,Washer D...|      1.0|     1.0|     USD| No|Thumbnail|        null|       $2,669|   Monthly|        713|   null| Los Angeles|   CA| 34.0451|-118.2414|RentDigs.com|1568744007|         Los Angeles|                      No|                  Yes|          A|  0|    0|         0|                 0|        0|         0|      0|       0|        0|               0|    0|   0|  1|      0|              0|     0|      0|         0|         0|   1|           0|      0|  0|     0|   0|           1|          0|\n",
      "|5508654638|  990|housing/rent/apar...|One BR Apartment ...|South of the Jame...|Gym,Playground,Po...|      1.0|     1.0|     USD| No|Thumbnail|   Cats,Dogs|         $990|   Monthly|        854|   null|    Richmond|   VA| 37.5173| -77.5044|RentDigs.com|1568744008|               Other|                     Yes|                  Yes|          B|  0|    0|         0|                 0|        0|         0|      0|       0|        0|               0|    0|   0|  1|      0|              0|     0|      0|         0|         1|   1|           0|      0|  1|     1|   0|           1|          0|\n",
      "|5508655416| 2395|housing/rent/apar...|Up to $500 Off On...|Most of these Nor...|                null|      1.5|     3.0|     USD| No|Thumbnail|   Cats,Dogs|       $2,395|   Monthly|       1430|   null|     Norwood|   MA| 42.1865|  -71.202|RentDigs.com|1568744053|               Other|                     Yes|                  Yes|          A|  0|    0|         0|                 0|        0|         0|      0|       0|        0|               0|    0|   0|  0|      0|              0|     0|      0|         0|         0|   0|           0|      0|  0|     0|   0|           0|          0|\n",
      "|5508655471| 2184|housing/rent/apar...|Be among the firs...|Our community of ...|Gym,Pool,Washer D...|      1.0|     2.0|     USD| No|Thumbnail|        null|       $2,184|   Monthly|        543|   null| Los Angeles|   CA| 34.0451|-118.2414|RentDigs.com|1568744057|         Los Angeles|                      No|                  Yes|          A|  0|    0|         0|                 0|        0|         0|      0|       0|        0|               0|    0|   0|  1|      0|              0|     0|      0|         0|         0|   1|           0|      0|  0|     0|   0|           1|          0|\n",
      "|5508655790|  853|housing/rent/apar...|Two BR Apartment ...|Square footage: 9...|Gym,Parking,Pool,...|      2.0|     2.0|     USD| No|Thumbnail|        null|         $853|   Monthly|        967|   null|    Clemmons|   NC| 36.0325|  -80.396|RentDigs.com|1568744075|               Other|                      No|                  Yes|          B|  0|    0|         0|                 0|        0|         0|      0|       0|        0|               0|    0|   0|  1|      0|              0|     0|      1|         0|         0|   1|           0|      0|  0|     0|   0|           1|          0|\n",
      "|5508657700|  615|housing/rent/apar...|Lovely Maumee, On...|Welcome to Valley...|AC,Cable or Satel...|      1.0|     1.0|     USD| No|Thumbnail|   Cats,Dogs|         $615|   Monthly|        668|   null|      Maumee|   OH| 41.5781| -83.6642|RentDigs.com|1568744152|               Other|                     Yes|                  Yes|          B|  1|    0|         0|                 1|        0|         1|      0|       0|        0|               0|    0|   0|  1|      0|              0|     0|      1|         0|         0|   1|           0|      1|  0|     0|   0|           0|          0|\n",
      "|5508657758| 2495|housing/rent/apar...|Two BA - 1,300 sq...|Norwood Gardens, ...|AC,Clubhouse,Gym,...|      2.0|     3.0|     USD| No|Thumbnail|        null|       $2,495|   Monthly|       1300|   null|     Norwood|   MA| 42.1865|  -71.202|RentDigs.com|1568744155|               Other|                      No|                  Yes|          A|  1|    0|         0|                 0|        1|         0|      0|       0|        0|               0|    0|   0|  1|      0|              1|     0|      0|         0|         0|   0|           0|      0|  0|     0|   0|           1|          0|\n",
      "|5508657770|  700|housing/rent/apar...|Shreveport - supe...|Find the quality ...|AC,Cable or Satel...|      1.0|     1.0|     USD| No|Thumbnail|   Cats,Dogs|         $700|   Monthly|        673|   null|  Shreveport|   LA| 32.3841| -93.6685|RentDigs.com|1568744155|               Other|                     Yes|                  Yes|          B|  1|    0|         0|                 1|        0|         1|      0|       0|        0|               0|    0|   0|  1|      0|              0|     0|      1|         1|         0|   1|           1|      0|  0|     0|   0|           1|          0|\n",
      "|5508658636| 2095|housing/rent/apar...|2014's RHA's Comm...|Square footage: 1...|AC,Clubhouse,Gym,...|      2.0|     2.0|     USD| No|Thumbnail|   Cats,Dogs|       $2,095|   Monthly|       1050|   null|     Norwood|   MA| 42.1865|  -71.202|RentDigs.com|1568744203|               Other|                     Yes|                  Yes|          A|  1|    0|         0|                 0|        1|         0|      0|       0|        0|               0|    0|   0|  1|      0|              1|     0|      1|         0|         0|   0|           0|      0|  0|     0|   0|           1|          0|\n",
      "|5508658740|  670|housing/rent/apar...|Apartment in quie...|Welcome to Valley...|AC,Cable or Satel...|      1.0|     1.0|     USD| No|Thumbnail|   Cats,Dogs|         $670|   Monthly|        759|   null|      Maumee|   OH| 41.5781| -83.6642|RentDigs.com|1568744210|               Other|                     Yes|                  Yes|          B|  1|    0|         0|                 1|        0|         1|      0|       0|        0|               0|    0|   0|  1|      0|              0|     0|      1|         0|         0|   1|           0|      1|  0|     0|   0|           0|          0|\n",
      "|5508658972|  499|housing/rent/apar...|Charming One BR, ...|For the best in S...|AC,Cable or Satel...|      1.0|     1.0|     USD| No|Thumbnail|   Cats,Dogs|         $499|   Monthly|        400|   null|  Shreveport|   LA| 32.3841| -93.6685|RentDigs.com|1568744227|               Other|                     Yes|                  Yes|          B|  1|    0|         0|                 1|        1|         1|      0|       0|        0|               0|    0|   0|  0|      0|              0|     0|      0|         1|         1|   0|           0|      0|  0|     1|   0|           1|          0|\n",
      "|5508662051| 1060|housing/rent/apar...|Prominence Apartm...|Square footage: 7...|Fireplace,Gated,G...|      1.0|     1.0|     USD| No|Thumbnail|        null|       $1,060|   Monthly|        796|   null|   Las Vegas|   NV| 36.1198|-115.0497|RentDigs.com|1568744471|           Las Vegas|                      No|                  Yes|          B|  0|    0|         0|                 0|        0|         0|      0|       0|        1|               0|    1|   0|  1|      0|              1|     0|      1|         1|         0|   1|           0|      1|  1|     0|   0|           1|          0|\n",
      "|5508662767| 2424|housing/rent/apar...|Amazing Two BR, T...|CONVENIENCE, CLAS...|            Gym,Pool|      2.0|     2.0|     USD| No|Thumbnail|   Cats,Dogs|       $2,424|   Monthly|       1470|   null|      Dallas|   TX| 32.7809| -96.8035|RentDigs.com|1568744513|              Dallas|                     Yes|                  Yes|          A|  0|    0|         0|                 0|        0|         0|      0|       0|        0|               0|    0|   0|  1|      0|              0|     0|      0|         0|         0|   1|           0|      0|  0|     0|   0|           0|          0|\n",
      "|5508664910| 2560|housing/rent/apar...|Outstanding Oppor...|We are the addres...|Parking,Pool,Refr...|      2.0|     2.0|     USD| No|Thumbnail|   Cats,Dogs|       $2,560|   Monthly|       1416|   null|      Dallas|   TX| 32.7809| -96.8035|RentDigs.com|1568744615|              Dallas|                     Yes|                  Yes|          A|  0|    0|         0|                 0|        0|         0|      0|       0|        0|               0|    0|   0|  0|      0|              0|     0|      1|         0|         0|   1|           1|      1|  0|     0|   0|           1|          1|\n",
      "|5508665196| 1930|housing/rent/apar...|Denver - 2bd/Two ...|Square footage: 7...|AC,Clubhouse,Dish...|      2.0|     2.0|     USD| No|Thumbnail|   Cats,Dogs|       $1,930|   Monthly|        791|   null|      Denver|   CO| 39.7673|-105.0151|RentDigs.com|1568744635|              Denver|                     Yes|                  Yes|          A|  1|    0|         0|                 0|        1|         1|      0|       0|        0|               0|    1|   0|  1|      0|              1|     0|      0|         0|         0|   0|           1|      1|  0|     0|   0|           0|          0|\n",
      "|5508665258| 1280|housing/rent/apar...|Bright Las Vegas,...|Square footage: 1...|  Clubhouse,Gym,Pool|      2.0|     2.0|     USD| No|Thumbnail|        null|       $1,280|   Monthly|       1140|   null|   Las Vegas|   NV| 36.1198|-115.0497|RentDigs.com|1568744639|           Las Vegas|                      No|                  Yes|          A|  0|    0|         0|                 0|        1|         0|      0|       0|        0|               0|    0|   0|  1|      0|              0|     0|      0|         0|         0|   1|           0|      0|  0|     0|   0|           0|          0|\n",
      "|5508665899| 1755|housing/rent/apar...|Apartment only fo...|Apartment for ren...|AC,Clubhouse,Dish...|      1.0|     2.0|     USD| No|Thumbnail|   Cats,Dogs|       $1,755|   Monthly|        511|   null| East Orange|   NJ| 40.7647| -74.2119|RentDigs.com|1568744683|               Other|                     Yes|                  Yes|          A|  1|    0|         0|                 0|        1|         1|      0|       1|        0|               1|    0|   0|  1|      0|              1|     0|      1|         1|         0|   0|           1|      1|  0|     0|   0|           1|          0|\n",
      "+----------+-----+--------------------+--------------------+--------------------+--------------------+---------+--------+--------+---+---------+------------+-------------+----------+-----------+-------+------------+-----+--------+---------+------------+----------+--------------------+------------------------+---------------------+-----------+---+-----+----------+------------------+---------+----------+-------+--------+---------+----------------+-----+----+---+-------+---------------+------+-------+----------+----------+----+------------+-------+---+------+----+------------+-----------+\n",
      "only showing top 20 rows\n",
      "\n"
     ]
    },
    {
     "data": {
      "text/plain": [
       "None"
      ]
     },
     "metadata": {},
     "output_type": "display_data"
    }
   ],
   "source": [
    "df = df.join(pivot_amenities, ['id', 'price'], \"right\")\n",
    "\n",
    "display(df.show())"
   ]
  },
  {
   "cell_type": "code",
   "execution_count": 21,
   "metadata": {},
   "outputs": [],
   "source": [
    "from pyspark.sql.functions import col\n",
    "\n",
    "ids_to_remove = [5648708029, 5667488036]  # Altere com os IDs que deseja excluir\n",
    "\n",
    "df = df.filter(~col('id').isin(ids_to_remove))"
   ]
  },
  {
   "cell_type": "code",
   "execution_count": 23,
   "metadata": {},
   "outputs": [],
   "source": [
    "# Converter PySpark DataFrame para Pandas DataFrame\n",
    "pandas_df = df.toPandas()\n",
    "\n",
    "# Salvar como CSV\n",
    "pandas_df.to_csv(\n",
    "    \"C:/Users/afili/Desktop/Uni/Mestrado/AASE/apartments_for_rent_10k_final.csv\", \n",
    "    sep=';', \n",
    "    index=False, \n",
    "    encoding='utf-8'\n",
    ")\n"
   ]
  }
 ],
 "metadata": {
  "kernelspec": {
   "display_name": "Python 3",
   "language": "python",
   "name": "python3"
  },
  "language_info": {
   "codemirror_mode": {
    "name": "ipython",
    "version": 3
   },
   "file_extension": ".py",
   "mimetype": "text/x-python",
   "name": "python",
   "nbconvert_exporter": "python",
   "pygments_lexer": "ipython3",
   "version": "3.13.0"
  }
 },
 "nbformat": 4,
 "nbformat_minor": 2
}
