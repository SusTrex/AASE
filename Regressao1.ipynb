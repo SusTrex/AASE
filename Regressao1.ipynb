{
 "cells": [
  {
   "cell_type": "code",
   "execution_count": 4,
   "metadata": {},
   "outputs": [],
   "source": [
    "import pandas as pd\n",
    "from sklearn.model_selection import train_test_split\n",
    "from sklearn.tree import DecisionTreeRegressor\n",
    "from sklearn.compose import ColumnTransformer\n",
    "from sklearn.pipeline import Pipeline\n",
    "from sklearn.preprocessing import OneHotEncoder, StandardScaler\n",
    "from sklearn.impute import SimpleImputer\n",
    "from sklearn.metrics import mean_squared_error\n",
    "from sklearn.model_selection import GridSearchCV\n",
    "from sklearn.tree import plot_tree\n",
    "import matplotlib.pyplot as plt"
   ]
  },
  {
   "cell_type": "code",
   "execution_count": 5,
   "metadata": {},
   "outputs": [],
   "source": [
    "# Carregar o dataset\n",
    "file_path = 'C:\\\\Users\\\\User\\\\Desktop\\\\AASE\\\\datasets\\\\apartments_for_rent_classified_100K.csv'\n",
    "data = pd.read_csv(file_path, sep=';')"
   ]
  },
  {
   "cell_type": "code",
   "execution_count": 6,
   "metadata": {},
   "outputs": [],
   "source": [
    "# Selecionar features e target\n",
    "features = [\n",
    "    \"bathrooms\", \"bedrooms\", \"square_feet\", \"pets_allowed_transformed\", \"has_photo_transformed\", \"cityname\", \"AC\", \n",
    "    \"Alarm\", \"Basketball\", \"Cable or Satellite\", \"Clubhouse\", \"Dishwasher\", \"Doorman\", \n",
    "    \"Elevator\", \"Fireplace\", \"Garbage Disposal\", \"Gated\", \"Golf\", \"Gym\", \"Hot Tub\", \n",
    "    \"Internet Access\", \"Luxury\", \"Parking\", \"Patio/Deck\", \"Playground\", \"Pool\", \n",
    "    \"Refrigerator\", \"Storage\", \"TV\", \"Tennis\", \"View\", \"Washer Dryer\", \"Wood Floors\"\n",
    "]\n",
    "target = \"price\"\n",
    "\n",
    "X = data[features]\n",
    "y = data[target]\n",
    "\n",
    "# Tratar valores ausentes na variável target\n",
    "y = y.fillna(y.mean())"
   ]
  },
  {
   "cell_type": "code",
   "execution_count": 7,
   "metadata": {},
   "outputs": [],
   "source": [
    "# Dividir em treino e teste\n",
    "X_train, X_test, y_train, y_test = train_test_split(X, y, test_size=0.2, random_state=42)"
   ]
  },
  {
   "cell_type": "code",
   "execution_count": 8,
   "metadata": {},
   "outputs": [],
   "source": [
    "# Identificar colunas numéricas e categóricas\n",
    "numeric_features = [\"bathrooms\", \"bedrooms\", \"square_feet\"]\n",
    "categorical_features = [\n",
    "    \"pets_allowed_transformed\", \"has_photo_transformed\", \"cityname\", \n",
    "    \"AC\", \"Alarm\", \"Basketball\", \"Cable or Satellite\", \"Clubhouse\", \"Dishwasher\", \"Doorman\", \n",
    "    \"Elevator\", \"Fireplace\", \"Garbage Disposal\", \"Gated\", \"Golf\", \"Gym\", \"Hot Tub\", \n",
    "    \"Internet Access\", \"Luxury\", \"Parking\", \"Patio/Deck\", \"Playground\", \"Pool\", \n",
    "    \"Refrigerator\", \"Storage\", \"TV\", \"Tennis\", \"View\", \"Washer Dryer\", \"Wood Floors\"\n",
    "]"
   ]
  },
  {
   "cell_type": "code",
   "execution_count": 9,
   "metadata": {},
   "outputs": [],
   "source": [
    "# Preprocessamento para colunas numéricas\n",
    "numeric_transformer = Pipeline(steps=[\n",
    "    (\"imputer\", SimpleImputer(strategy=\"mean\")),\n",
    "    (\"scaler\", StandardScaler())\n",
    "])"
   ]
  },
  {
   "cell_type": "code",
   "execution_count": 10,
   "metadata": {},
   "outputs": [],
   "source": [
    "# Preprocessamento para colunas categóricas\n",
    "categorical_transformer = Pipeline(steps=[\n",
    "    (\"imputer\", SimpleImputer(strategy=\"most_frequent\")),\n",
    "    (\"onehot\", OneHotEncoder(handle_unknown=\"ignore\"))\n",
    "])"
   ]
  },
  {
   "cell_type": "code",
   "execution_count": 11,
   "metadata": {},
   "outputs": [],
   "source": [
    "# Combinar pré-processadores em um transformer\n",
    "preprocessor = ColumnTransformer(\n",
    "    transformers=[\n",
    "        (\"num\", numeric_transformer, numeric_features),\n",
    "        (\"cat\", categorical_transformer, categorical_features)\n",
    "    ]\n",
    ")"
   ]
  },
  {
   "cell_type": "code",
   "execution_count": 12,
   "metadata": {},
   "outputs": [],
   "source": [
    "# Criar pipeline com árvore de decisão\n",
    "pipeline = Pipeline(steps=[\n",
    "    (\"preprocessor\", preprocessor),\n",
    "    (\"regressor\", DecisionTreeRegressor(random_state=42))\n",
    "])"
   ]
  },
  {
   "cell_type": "code",
   "execution_count": 13,
   "metadata": {},
   "outputs": [],
   "source": [
    "# Hiperparâmetros para otimização\n",
    "param_grid = {\n",
    "    \"regressor__max_depth\": [5, 10, 15, None],\n",
    "    \"regressor__min_samples_split\": [2, 5, 10],\n",
    "    \"regressor__min_samples_leaf\": [1, 2, 4]\n",
    "}"
   ]
  },
  {
   "cell_type": "code",
   "execution_count": 15,
   "metadata": {},
   "outputs": [],
   "source": [
    "# GridSearchCV para encontrar os melhores hiperparâmetros\n",
    "search = GridSearchCV(pipeline, param_grid, cv=10, scoring=\"neg_mean_squared_error\", n_jobs=-1)\n",
    "search.fit(X_train, y_train)"
   ]
  },
  {
   "cell_type": "code",
   "execution_count": null,
   "metadata": {},
   "outputs": [],
   "source": [
    "# Melhor modelo\n",
    "best_model = search.best_estimator_"
   ]
  },
  {
   "cell_type": "code",
   "execution_count": null,
   "metadata": {},
   "outputs": [],
   "source": [
    "# Fazer previsões com o melhor modelo\n",
    "y_pred = best_model.predict(X_test)"
   ]
  },
  {
   "cell_type": "code",
   "execution_count": null,
   "metadata": {},
   "outputs": [
    {
     "name": "stdout",
     "output_type": "stream",
     "text": [
      "Mean Squared Error (MSE): 295778.683059709\n",
      "Mean Absolute Error (MAE): 295.674739172424\n",
      "Root Mean Squared Error (RMSE): 543.8553880028302\n",
      "Normalized Mean Absolute Error (NMAE): 19.38%\n",
      "R² Score: 0.5638865272291576\n"
     ]
    }
   ],
   "source": [
    "# Avaliar modelo\n",
    "from sklearn.metrics import mean_squared_error, mean_absolute_error, r2_score\n",
    "import numpy as np\n",
    "\n",
    "# Cálculo das métricas de regressão\n",
    "mse = mean_squared_error(y_test, y_pred)\n",
    "mae = mean_absolute_error(y_test, y_pred)\n",
    "rmse = np.sqrt(mse)\n",
    "nmae = mae / np.mean(np.abs(y_test)) * 100  # Percentual em relação à média dos valores reais\n",
    "r2 = r2_score(y_test, y_pred)\n",
    "\n",
    "# Exibir os resultados\n",
    "print(\"Decision Tree- Mean Squared Error (MSE):\", mse)\n",
    "print(\"Decision Tree- Mean Absolute Error (MAE):\", mae)\n",
    "print(\"Decision Tree- Root Mean Squared Error (RMSE):\", rmse)\n",
    "print(\"Decision Tree- Normalized Mean Absolute Error (NMAE):\", f\"{nmae:.2f}%\")\n",
    "print(\"Decision Tree- R² Score:\", r2)"
   ]
  },
  {
   "cell_type": "code",
   "execution_count": null,
   "metadata": {},
   "outputs": [
    {
     "name": "stdout",
     "output_type": "stream",
     "text": [
      "Random Forest - Mean Squared Error (MSE): 202983.6544567652\n",
      "Random Forest - Mean Absolute Error (MAE): 229.33681142628072\n",
      "Random Forest - Root Mean Squared Error (RMSE): 450.5370733433212\n",
      "Random Forest - Normalized Mean Absolute Error (NMAE): 15.03%\n",
      "Random Forest - R² Score: 0.7007089708253715\n"
     ]
    }
   ],
   "source": [
    "from sklearn.ensemble import RandomForestRegressor\n",
    "from sklearn.compose import ColumnTransformer\n",
    "from sklearn.pipeline import Pipeline\n",
    "from sklearn.preprocessing import OneHotEncoder, StandardScaler\n",
    "from sklearn.impute import SimpleImputer\n",
    "from sklearn.metrics import (\n",
    "    mean_squared_error, mean_absolute_error, r2_score\n",
    ")\n",
    "import numpy as np\n",
    "import pandas as pd\n",
    "\n",
    "# Identificar automaticamente as colunas numéricas e categóricas\n",
    "num_features = X_train.select_dtypes(include=['int64', 'float64']).columns.tolist()\n",
    "cat_features = X_train.select_dtypes(include=['object', 'category']).columns.tolist()\n",
    "\n",
    "# Configuração do pré-processador para colunas numéricas e categóricas\n",
    "num_transformer = Pipeline(steps=[\n",
    "    ('imputer', SimpleImputer(strategy='mean')),\n",
    "    ('scaler', StandardScaler())\n",
    "])\n",
    "\n",
    "cat_transformer = Pipeline(steps=[\n",
    "    ('imputer', SimpleImputer(strategy='most_frequent')),\n",
    "    ('onehot', OneHotEncoder(handle_unknown='ignore'))\n",
    "])\n",
    "\n",
    "preprocessor = ColumnTransformer(\n",
    "    transformers=[\n",
    "        ('num', num_transformer, num_features),\n",
    "        ('cat', cat_transformer, cat_features)\n",
    "    ]\n",
    ")\n",
    "\n",
    "# Adiciona o modelo ao pipeline\n",
    "pipeline = Pipeline(steps=[\n",
    "    ('preprocessor', preprocessor),\n",
    "    ('regressor', RandomForestRegressor(random_state=42, n_estimators=100, max_depth=None))\n",
    "])\n",
    "\n",
    "# Treinar o modelo com o pipeline\n",
    "pipeline.fit(X_train, y_train)\n",
    "\n",
    "# Previsões no conjunto de teste usando o pipeline\n",
    "y_pred_rf = pipeline.predict(X_test)\n",
    "\n",
    "# Cálculo das métricas para Random Forest\n",
    "test_mse_rf = mean_squared_error(y_test, y_pred_rf)\n",
    "test_mae_rf = mean_absolute_error(y_test, y_pred_rf)\n",
    "test_rmse_rf = np.sqrt(test_mse_rf)\n",
    "test_r2_rf = r2_score(y_test, y_pred_rf)\n",
    "test_nmae_rf = test_mae_rf / np.mean(np.abs(y_test)) * 100  # Percentual\n",
    "\n",
    "# Exibir os resultados para Random Forest\n",
    "print(\"Random Forest - Mean Squared Error (MSE):\", test_mse_rf)\n",
    "print(\"Random Forest - Mean Absolute Error (MAE):\", test_mae_rf)\n",
    "print(\"Random Forest - Root Mean Squared Error (RMSE):\", test_rmse_rf)\n",
    "print(\"Random Forest - Normalized Mean Absolute Error (NMAE):\", f\"{test_nmae_rf:.2f}%\")\n",
    "print(\"Random Forest - R² Score:\", test_r2_rf)\n"
   ]
  },
  {
   "cell_type": "code",
   "execution_count": 3,
   "metadata": {},
   "outputs": [
    {
     "ename": "NameError",
     "evalue": "name 'X_train' is not defined",
     "output_type": "error",
     "traceback": [
      "\u001b[1;31m---------------------------------------------------------------------------\u001b[0m",
      "\u001b[1;31mNameError\u001b[0m                                 Traceback (most recent call last)",
      "Cell \u001b[1;32mIn[3], line 11\u001b[0m\n\u001b[0;32m      8\u001b[0m \u001b[38;5;28;01mimport\u001b[39;00m \u001b[38;5;21;01mnumpy\u001b[39;00m \u001b[38;5;28;01mas\u001b[39;00m \u001b[38;5;21;01mnp\u001b[39;00m\n\u001b[0;32m     10\u001b[0m \u001b[38;5;66;03m# Identificar automaticamente as colunas numéricas e categóricas\u001b[39;00m\n\u001b[1;32m---> 11\u001b[0m num_features \u001b[38;5;241m=\u001b[39m \u001b[43mX_train\u001b[49m\u001b[38;5;241m.\u001b[39mselect_dtypes(include\u001b[38;5;241m=\u001b[39m[\u001b[38;5;124m'\u001b[39m\u001b[38;5;124mint64\u001b[39m\u001b[38;5;124m'\u001b[39m, \u001b[38;5;124m'\u001b[39m\u001b[38;5;124mfloat64\u001b[39m\u001b[38;5;124m'\u001b[39m])\u001b[38;5;241m.\u001b[39mcolumns\u001b[38;5;241m.\u001b[39mtolist()\n\u001b[0;32m     12\u001b[0m cat_features \u001b[38;5;241m=\u001b[39m X_train\u001b[38;5;241m.\u001b[39mselect_dtypes(include\u001b[38;5;241m=\u001b[39m[\u001b[38;5;124m'\u001b[39m\u001b[38;5;124mobject\u001b[39m\u001b[38;5;124m'\u001b[39m, \u001b[38;5;124m'\u001b[39m\u001b[38;5;124mcategory\u001b[39m\u001b[38;5;124m'\u001b[39m])\u001b[38;5;241m.\u001b[39mcolumns\u001b[38;5;241m.\u001b[39mtolist()\n\u001b[0;32m     14\u001b[0m \u001b[38;5;66;03m# Configuração do pré-processador para colunas numéricas e categóricas\u001b[39;00m\n",
      "\u001b[1;31mNameError\u001b[0m: name 'X_train' is not defined"
     ]
    }
   ],
   "source": [
    "from sklearn.ensemble import RandomForestRegressor\n",
    "from sklearn.compose import ColumnTransformer\n",
    "from sklearn.pipeline import Pipeline\n",
    "from sklearn.preprocessing import OneHotEncoder, StandardScaler\n",
    "from sklearn.impute import SimpleImputer\n",
    "from sklearn.model_selection import cross_val_score, cross_val_predict, KFold\n",
    "from sklearn.metrics import mean_squared_error, mean_absolute_error, r2_score\n",
    "import numpy as np\n",
    "\n",
    "# Identificar automaticamente as colunas numéricas e categóricas\n",
    "num_features = X_train.select_dtypes(include=['int64', 'float64']).columns.tolist()\n",
    "cat_features = X_train.select_dtypes(include=['object', 'category']).columns.tolist()\n",
    "\n",
    "# Configuração do pré-processador para colunas numéricas e categóricas\n",
    "num_transformer = Pipeline(steps=[\n",
    "    ('imputer', SimpleImputer(strategy='mean')),\n",
    "    ('scaler', StandardScaler())\n",
    "])\n",
    "\n",
    "cat_transformer = Pipeline(steps=[\n",
    "    ('imputer', SimpleImputer(strategy='most_frequent')),\n",
    "    ('onehot', OneHotEncoder(handle_unknown='ignore'))\n",
    "])\n",
    "\n",
    "preprocessor = ColumnTransformer(\n",
    "    transformers=[\n",
    "        ('num', num_transformer, num_features),\n",
    "        ('cat', cat_transformer, cat_features)\n",
    "    ]\n",
    ")\n",
    "\n",
    "# Adicionar o modelo ao pipeline\n",
    "pipeline = Pipeline(steps=[\n",
    "    ('preprocessor', preprocessor),\n",
    "    ('regressor', RandomForestRegressor(random_state=42, n_estimators=100, max_depth=None))\n",
    "])\n",
    "\n",
    "# Configuração do número de folds para validação cruzada\n",
    "cv = KFold(n_splits=5, shuffle=True, random_state=42)\n",
    "\n",
    "# Avaliar o pipeline com validação cruzada\n",
    "mse_scores = -cross_val_score(\n",
    "    pipeline, X_train, y_train, cv=cv, scoring='neg_mean_squared_error'\n",
    ")\n",
    "mae_scores = -cross_val_score(\n",
    "    pipeline, X_train, y_train, cv=cv, scoring='neg_mean_absolute_error'\n",
    ")\n",
    "r2_scores = cross_val_score(\n",
    "    pipeline, X_train, y_train, cv=cv, scoring='r2'\n",
    ")\n",
    "\n",
    "# Previsões com validação cruzada\n",
    "y_pred_cv = cross_val_predict(pipeline, X_train, y_train, cv=cv)\n",
    "\n",
    "# Cálculo adicional das métricas baseadas nas previsões\n",
    "cv_rmse = np.sqrt(np.mean(mse_scores))\n",
    "cv_nmae = np.mean(mae_scores) / np.mean(np.abs(y_train)) * 100\n",
    "\n",
    "# Exibir os resultados com validação cruzada\n",
    "print(\"Cross-Validation - Mean Squared Error (MSE):\", np.mean(mse_scores))\n",
    "print(\"Cross-Validation - Mean Absolute Error (MAE):\", np.mean(mae_scores))\n",
    "print(\"Cross-Validation - Root Mean Squared Error (RMSE):\", cv_rmse)\n",
    "print(\"Cross-Validation - Normalized Mean Absolute Error (NMAE):\", f\"{cv_nmae:.2f}%\")\n",
    "print(\"Cross-Validation - R² Score:\", np.mean(r2_scores))\n"
   ]
  },
  {
   "cell_type": "code",
   "execution_count": null,
   "metadata": {},
   "outputs": [],
   "source": []
  }
 ],
 "metadata": {
  "kernelspec": {
   "display_name": "Python 3",
   "language": "python",
   "name": "python3"
  },
  "language_info": {
   "codemirror_mode": {
    "name": "ipython",
    "version": 3
   },
   "file_extension": ".py",
   "mimetype": "text/x-python",
   "name": "python",
   "nbconvert_exporter": "python",
   "pygments_lexer": "ipython3",
   "version": "3.13.0"
  }
 },
 "nbformat": 4,
 "nbformat_minor": 2
}
